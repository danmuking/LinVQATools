{
 "cells": [
  {
   "cell_type": "code",
   "execution_count": 1,
   "metadata": {
    "collapsed": true,
    "ExecuteTime": {
     "end_time": "2023-07-10T13:40:29.646991500Z",
     "start_time": "2023-07-10T13:40:16.698905700Z"
    }
   },
   "outputs": [],
   "source": [
    "import torch\n",
    "from torch.utils.data import DataLoader\n",
    "from tqdm import tqdm\n",
    "\n",
    "from data.default_dataset import DefaultDataset\n",
    "from models.faster_vqa import FasterVQA"
   ]
  },
  {
   "cell_type": "markdown",
   "source": [
    "加载模型和权重"
   ],
   "metadata": {
    "collapsed": false
   }
  },
  {
   "cell_type": "code",
   "execution_count": 2,
   "outputs": [
    {
     "name": "stdout",
     "output_type": "stream",
     "text": [
      "swin_tiny_grpb\n"
     ]
    },
    {
     "name": "stderr",
     "output_type": "stream",
     "text": [
      "/home/ly/anaconda3/envs/torch1.13/lib/python3.8/site-packages/torch/functional.py:504: UserWarning: torch.meshgrid: in an upcoming release, it will be required to pass the indexing argument. (Triggered internally at ../aten/src/ATen/native/TensorShape.cpp:3190.)\n",
      "  return _VF.meshgrid(tensors, **kwargs)  # type: ignore[attr-defined]\n"
     ]
    },
    {
     "name": "stdout",
     "output_type": "stream",
     "text": [
      "None False\n",
      "Setting backbone: fragments_backbone\n",
      "FasterVQA(\n",
      "  (data_preprocessor): BaseDataPreprocessor()\n",
      "  (model): DiViDeAddEvaluator(\n",
      "    (fragments_backbone): SwinTransformer3D(\n",
      "      (patch_embed): PatchEmbed3D(\n",
      "        (proj): Conv3d(3, 96, kernel_size=(2, 4, 4), stride=(2, 4, 4))\n",
      "        (norm): LayerNorm((96,), eps=1e-05, elementwise_affine=True)\n",
      "      )\n",
      "      (pos_drop): Dropout(p=0.0, inplace=False)\n",
      "      (layers): ModuleList(\n",
      "        (0): BasicLayer(\n",
      "          (blocks): ModuleList(\n",
      "            (0): SwinTransformerBlock3D(\n",
      "              (norm1): LayerNorm((96,), eps=1e-05, elementwise_affine=True)\n",
      "              (attn): WindowAttention3D(\n",
      "                (qkv): Linear(in_features=96, out_features=288, bias=True)\n",
      "                (attn_drop): Dropout(p=0.0, inplace=False)\n",
      "                (proj): Linear(in_features=96, out_features=96, bias=True)\n",
      "                (proj_drop): Dropout(p=0.0, inplace=False)\n",
      "                (softmax): Softmax(dim=-1)\n",
      "              )\n",
      "              (drop_path): Identity()\n",
      "              (norm2): LayerNorm((96,), eps=1e-05, elementwise_affine=True)\n",
      "              (mlp): Mlp(\n",
      "                (fc1): Linear(in_features=96, out_features=384, bias=True)\n",
      "                (act): GELU(approximate='none')\n",
      "                (fc2): Linear(in_features=384, out_features=96, bias=True)\n",
      "                (drop): Dropout(p=0.0, inplace=False)\n",
      "              )\n",
      "            )\n",
      "            (1): SwinTransformerBlock3D(\n",
      "              (norm1): LayerNorm((96,), eps=1e-05, elementwise_affine=True)\n",
      "              (attn): WindowAttention3D(\n",
      "                (qkv): Linear(in_features=96, out_features=288, bias=True)\n",
      "                (attn_drop): Dropout(p=0.0, inplace=False)\n",
      "                (proj): Linear(in_features=96, out_features=96, bias=True)\n",
      "                (proj_drop): Dropout(p=0.0, inplace=False)\n",
      "                (softmax): Softmax(dim=-1)\n",
      "              )\n",
      "              (drop_path): DropPath(drop_prob=0.009)\n",
      "              (norm2): LayerNorm((96,), eps=1e-05, elementwise_affine=True)\n",
      "              (mlp): Mlp(\n",
      "                (fc1): Linear(in_features=96, out_features=384, bias=True)\n",
      "                (act): GELU(approximate='none')\n",
      "                (fc2): Linear(in_features=384, out_features=96, bias=True)\n",
      "                (drop): Dropout(p=0.0, inplace=False)\n",
      "              )\n",
      "            )\n",
      "          )\n",
      "          (downsample): PatchMerging(\n",
      "            (reduction): Linear(in_features=384, out_features=192, bias=False)\n",
      "            (norm): LayerNorm((384,), eps=1e-05, elementwise_affine=True)\n",
      "          )\n",
      "        )\n",
      "        (1): BasicLayer(\n",
      "          (blocks): ModuleList(\n",
      "            (0): SwinTransformerBlock3D(\n",
      "              (norm1): LayerNorm((192,), eps=1e-05, elementwise_affine=True)\n",
      "              (attn): WindowAttention3D(\n",
      "                (qkv): Linear(in_features=192, out_features=576, bias=True)\n",
      "                (attn_drop): Dropout(p=0.0, inplace=False)\n",
      "                (proj): Linear(in_features=192, out_features=192, bias=True)\n",
      "                (proj_drop): Dropout(p=0.0, inplace=False)\n",
      "                (softmax): Softmax(dim=-1)\n",
      "              )\n",
      "              (drop_path): DropPath(drop_prob=0.018)\n",
      "              (norm2): LayerNorm((192,), eps=1e-05, elementwise_affine=True)\n",
      "              (mlp): Mlp(\n",
      "                (fc1): Linear(in_features=192, out_features=768, bias=True)\n",
      "                (act): GELU(approximate='none')\n",
      "                (fc2): Linear(in_features=768, out_features=192, bias=True)\n",
      "                (drop): Dropout(p=0.0, inplace=False)\n",
      "              )\n",
      "            )\n",
      "            (1): SwinTransformerBlock3D(\n",
      "              (norm1): LayerNorm((192,), eps=1e-05, elementwise_affine=True)\n",
      "              (attn): WindowAttention3D(\n",
      "                (qkv): Linear(in_features=192, out_features=576, bias=True)\n",
      "                (attn_drop): Dropout(p=0.0, inplace=False)\n",
      "                (proj): Linear(in_features=192, out_features=192, bias=True)\n",
      "                (proj_drop): Dropout(p=0.0, inplace=False)\n",
      "                (softmax): Softmax(dim=-1)\n",
      "              )\n",
      "              (drop_path): DropPath(drop_prob=0.027)\n",
      "              (norm2): LayerNorm((192,), eps=1e-05, elementwise_affine=True)\n",
      "              (mlp): Mlp(\n",
      "                (fc1): Linear(in_features=192, out_features=768, bias=True)\n",
      "                (act): GELU(approximate='none')\n",
      "                (fc2): Linear(in_features=768, out_features=192, bias=True)\n",
      "                (drop): Dropout(p=0.0, inplace=False)\n",
      "              )\n",
      "            )\n",
      "          )\n",
      "          (downsample): PatchMerging(\n",
      "            (reduction): Linear(in_features=768, out_features=384, bias=False)\n",
      "            (norm): LayerNorm((768,), eps=1e-05, elementwise_affine=True)\n",
      "          )\n",
      "        )\n",
      "        (2): BasicLayer(\n",
      "          (blocks): ModuleList(\n",
      "            (0): SwinTransformerBlock3D(\n",
      "              (norm1): LayerNorm((384,), eps=1e-05, elementwise_affine=True)\n",
      "              (attn): WindowAttention3D(\n",
      "                (qkv): Linear(in_features=384, out_features=1152, bias=True)\n",
      "                (attn_drop): Dropout(p=0.0, inplace=False)\n",
      "                (proj): Linear(in_features=384, out_features=384, bias=True)\n",
      "                (proj_drop): Dropout(p=0.0, inplace=False)\n",
      "                (softmax): Softmax(dim=-1)\n",
      "              )\n",
      "              (drop_path): DropPath(drop_prob=0.036)\n",
      "              (norm2): LayerNorm((384,), eps=1e-05, elementwise_affine=True)\n",
      "              (mlp): Mlp(\n",
      "                (fc1): Linear(in_features=384, out_features=1536, bias=True)\n",
      "                (act): GELU(approximate='none')\n",
      "                (fc2): Linear(in_features=1536, out_features=384, bias=True)\n",
      "                (drop): Dropout(p=0.0, inplace=False)\n",
      "              )\n",
      "            )\n",
      "            (1): SwinTransformerBlock3D(\n",
      "              (norm1): LayerNorm((384,), eps=1e-05, elementwise_affine=True)\n",
      "              (attn): WindowAttention3D(\n",
      "                (qkv): Linear(in_features=384, out_features=1152, bias=True)\n",
      "                (attn_drop): Dropout(p=0.0, inplace=False)\n",
      "                (proj): Linear(in_features=384, out_features=384, bias=True)\n",
      "                (proj_drop): Dropout(p=0.0, inplace=False)\n",
      "                (softmax): Softmax(dim=-1)\n",
      "              )\n",
      "              (drop_path): DropPath(drop_prob=0.045)\n",
      "              (norm2): LayerNorm((384,), eps=1e-05, elementwise_affine=True)\n",
      "              (mlp): Mlp(\n",
      "                (fc1): Linear(in_features=384, out_features=1536, bias=True)\n",
      "                (act): GELU(approximate='none')\n",
      "                (fc2): Linear(in_features=1536, out_features=384, bias=True)\n",
      "                (drop): Dropout(p=0.0, inplace=False)\n",
      "              )\n",
      "            )\n",
      "            (2): SwinTransformerBlock3D(\n",
      "              (norm1): LayerNorm((384,), eps=1e-05, elementwise_affine=True)\n",
      "              (attn): WindowAttention3D(\n",
      "                (qkv): Linear(in_features=384, out_features=1152, bias=True)\n",
      "                (attn_drop): Dropout(p=0.0, inplace=False)\n",
      "                (proj): Linear(in_features=384, out_features=384, bias=True)\n",
      "                (proj_drop): Dropout(p=0.0, inplace=False)\n",
      "                (softmax): Softmax(dim=-1)\n",
      "              )\n",
      "              (drop_path): DropPath(drop_prob=0.055)\n",
      "              (norm2): LayerNorm((384,), eps=1e-05, elementwise_affine=True)\n",
      "              (mlp): Mlp(\n",
      "                (fc1): Linear(in_features=384, out_features=1536, bias=True)\n",
      "                (act): GELU(approximate='none')\n",
      "                (fc2): Linear(in_features=1536, out_features=384, bias=True)\n",
      "                (drop): Dropout(p=0.0, inplace=False)\n",
      "              )\n",
      "            )\n",
      "            (3): SwinTransformerBlock3D(\n",
      "              (norm1): LayerNorm((384,), eps=1e-05, elementwise_affine=True)\n",
      "              (attn): WindowAttention3D(\n",
      "                (qkv): Linear(in_features=384, out_features=1152, bias=True)\n",
      "                (attn_drop): Dropout(p=0.0, inplace=False)\n",
      "                (proj): Linear(in_features=384, out_features=384, bias=True)\n",
      "                (proj_drop): Dropout(p=0.0, inplace=False)\n",
      "                (softmax): Softmax(dim=-1)\n",
      "              )\n",
      "              (drop_path): DropPath(drop_prob=0.064)\n",
      "              (norm2): LayerNorm((384,), eps=1e-05, elementwise_affine=True)\n",
      "              (mlp): Mlp(\n",
      "                (fc1): Linear(in_features=384, out_features=1536, bias=True)\n",
      "                (act): GELU(approximate='none')\n",
      "                (fc2): Linear(in_features=1536, out_features=384, bias=True)\n",
      "                (drop): Dropout(p=0.0, inplace=False)\n",
      "              )\n",
      "            )\n",
      "            (4): SwinTransformerBlock3D(\n",
      "              (norm1): LayerNorm((384,), eps=1e-05, elementwise_affine=True)\n",
      "              (attn): WindowAttention3D(\n",
      "                (qkv): Linear(in_features=384, out_features=1152, bias=True)\n",
      "                (attn_drop): Dropout(p=0.0, inplace=False)\n",
      "                (proj): Linear(in_features=384, out_features=384, bias=True)\n",
      "                (proj_drop): Dropout(p=0.0, inplace=False)\n",
      "                (softmax): Softmax(dim=-1)\n",
      "              )\n",
      "              (drop_path): DropPath(drop_prob=0.073)\n",
      "              (norm2): LayerNorm((384,), eps=1e-05, elementwise_affine=True)\n",
      "              (mlp): Mlp(\n",
      "                (fc1): Linear(in_features=384, out_features=1536, bias=True)\n",
      "                (act): GELU(approximate='none')\n",
      "                (fc2): Linear(in_features=1536, out_features=384, bias=True)\n",
      "                (drop): Dropout(p=0.0, inplace=False)\n",
      "              )\n",
      "            )\n",
      "            (5): SwinTransformerBlock3D(\n",
      "              (norm1): LayerNorm((384,), eps=1e-05, elementwise_affine=True)\n",
      "              (attn): WindowAttention3D(\n",
      "                (qkv): Linear(in_features=384, out_features=1152, bias=True)\n",
      "                (attn_drop): Dropout(p=0.0, inplace=False)\n",
      "                (proj): Linear(in_features=384, out_features=384, bias=True)\n",
      "                (proj_drop): Dropout(p=0.0, inplace=False)\n",
      "                (softmax): Softmax(dim=-1)\n",
      "              )\n",
      "              (drop_path): DropPath(drop_prob=0.082)\n",
      "              (norm2): LayerNorm((384,), eps=1e-05, elementwise_affine=True)\n",
      "              (mlp): Mlp(\n",
      "                (fc1): Linear(in_features=384, out_features=1536, bias=True)\n",
      "                (act): GELU(approximate='none')\n",
      "                (fc2): Linear(in_features=1536, out_features=384, bias=True)\n",
      "                (drop): Dropout(p=0.0, inplace=False)\n",
      "              )\n",
      "            )\n",
      "          )\n",
      "          (downsample): PatchMerging(\n",
      "            (reduction): Linear(in_features=1536, out_features=768, bias=False)\n",
      "            (norm): LayerNorm((1536,), eps=1e-05, elementwise_affine=True)\n",
      "          )\n",
      "        )\n",
      "        (3): BasicLayer(\n",
      "          (blocks): ModuleList(\n",
      "            (0): SwinTransformerBlock3D(\n",
      "              (norm1): LayerNorm((768,), eps=1e-05, elementwise_affine=True)\n",
      "              (attn): WindowAttention3D(\n",
      "                (qkv): Linear(in_features=768, out_features=2304, bias=True)\n",
      "                (attn_drop): Dropout(p=0.0, inplace=False)\n",
      "                (proj): Linear(in_features=768, out_features=768, bias=True)\n",
      "                (proj_drop): Dropout(p=0.0, inplace=False)\n",
      "                (softmax): Softmax(dim=-1)\n",
      "              )\n",
      "              (drop_path): DropPath(drop_prob=0.091)\n",
      "              (norm2): LayerNorm((768,), eps=1e-05, elementwise_affine=True)\n",
      "              (mlp): Mlp(\n",
      "                (fc1): Linear(in_features=768, out_features=3072, bias=True)\n",
      "                (act): GELU(approximate='none')\n",
      "                (fc2): Linear(in_features=3072, out_features=768, bias=True)\n",
      "                (drop): Dropout(p=0.0, inplace=False)\n",
      "              )\n",
      "            )\n",
      "            (1): SwinTransformerBlock3D(\n",
      "              (norm1): LayerNorm((768,), eps=1e-05, elementwise_affine=True)\n",
      "              (attn): WindowAttention3D(\n",
      "                (qkv): Linear(in_features=768, out_features=2304, bias=True)\n",
      "                (attn_drop): Dropout(p=0.0, inplace=False)\n",
      "                (proj): Linear(in_features=768, out_features=768, bias=True)\n",
      "                (proj_drop): Dropout(p=0.0, inplace=False)\n",
      "                (softmax): Softmax(dim=-1)\n",
      "              )\n",
      "              (drop_path): DropPath(drop_prob=0.100)\n",
      "              (norm2): LayerNorm((768,), eps=1e-05, elementwise_affine=True)\n",
      "              (mlp): Mlp(\n",
      "                (fc1): Linear(in_features=768, out_features=3072, bias=True)\n",
      "                (act): GELU(approximate='none')\n",
      "                (fc2): Linear(in_features=3072, out_features=768, bias=True)\n",
      "                (drop): Dropout(p=0.0, inplace=False)\n",
      "              )\n",
      "            )\n",
      "          )\n",
      "        )\n",
      "      )\n",
      "      (norm): LayerNorm((768,), eps=1e-05, elementwise_affine=True)\n",
      "    )\n",
      "    (vqa_head): VQAHead(\n",
      "      (dropout): Dropout(p=0.5, inplace=False)\n",
      "      (fc_hid): Conv3d(768, 64, kernel_size=(1, 1, 1), stride=(1, 1, 1))\n",
      "      (fc_last): Conv3d(64, 1, kernel_size=(1, 1, 1), stride=(1, 1, 1))\n",
      "      (gelu): GELU(approximate='none')\n",
      "      (avg_pool): AdaptiveAvgPool3d(output_size=(1, 1, 1))\n",
      "      (fc): Linear(in_features=784, out_features=1, bias=True)\n",
      "    )\n",
      "  )\n",
      ")\n"
     ]
    }
   ],
   "source": [
    "weight_path = '/home/ly/code/LinVQATools/faster_vqa/change_fc_loss/best_SROCC_epoch_105.pth'\n",
    "weight = torch.load(weight_path)['state_dict']\n",
    "model_dict = dict(backbone_size='swin_tiny_grpb',\n",
    "    backbone={\"fragments\": dict(window_size=(4, 4, 4))},\n",
    "    backbone_preserve_keys='fragments')\n",
    "model = FasterVQA(**model_dict)\n",
    "model.load_state_dict(weight)\n",
    "print(model)"
   ],
   "metadata": {
    "collapsed": false,
    "ExecuteTime": {
     "end_time": "2023-07-10T13:40:29.691009800Z",
     "start_time": "2023-07-10T13:40:20.154626200Z"
    }
   }
  },
  {
   "cell_type": "markdown",
   "source": [
    "加载验证集"
   ],
   "metadata": {
    "collapsed": false
   }
  },
  {
   "cell_type": "code",
   "execution_count": 3,
   "outputs": [
    {
     "name": "stdout",
     "output_type": "stream",
     "text": [
      "07/10 21:40:20 - mmengine - \u001B[5m\u001B[4m\u001B[33mWARNING\u001B[0m - anno_root参数未找到，默认为/home/ly/code/LinVQATools/data/odv_vqa\n"
     ]
    }
   ],
   "source": [
    "dataset_dict = dict(anno_reader='ODVVQAReader',\n",
    "        prefix='temp/fragment',\n",
    "        phase='test',\n",
    "        split_file='/home/ly/code/LinVQATools/data/odv_vqa/tr_te_VQA_ODV.txt',\n",
    "        frame_sampler=dict(\n",
    "            name='FragmentSampleFrames',\n",
    "            fsize_t=32 // 8,\n",
    "            fragments_t=8,\n",
    "            clip_len=32,\n",
    "            frame_interval=2,\n",
    "            t_frag=8,\n",
    "            num_clips=1,\n",
    "        ),\n",
    "        spatial_sampler=dict(\n",
    "            name='PlaneSpatialFragmentSampler',\n",
    "            fragments_h=7,\n",
    "            fragments_w=7,\n",
    "            fsize_h=32,\n",
    "            fsize_w=32,\n",
    "            aligned=8,\n",
    "        ))\n",
    "dataset = DefaultDataset(**dataset_dict)\n",
    "dataloader = DataLoader(dataset=dataset,batch_size=1,num_workers=4,shuffle=False)"
   ],
   "metadata": {
    "collapsed": false,
    "ExecuteTime": {
     "end_time": "2023-07-10T13:40:29.692513800Z",
     "start_time": "2023-07-10T13:40:21.991534600Z"
    }
   }
  },
  {
   "cell_type": "code",
   "execution_count": 4,
   "outputs": [
    {
     "name": "stderr",
     "output_type": "stream",
     "text": [
      "  0%|          | 0/108 [00:00<?, ?it/s]"
     ]
    },
    {
     "name": "stdout",
     "output_type": "stream",
     "text": [
      "07/10 21:40:23 - mmengine - \u001B[4m\u001B[97mINFO\u001B[0m - 加载未处理的/data/ly/VQA_ODV/Group1/G1BikingToWork_ERP_3840x2160_fps23.976_qp27_12306k.mp4\n",
      "07/10 21:40:23 - mmengine - \u001B[4m\u001B[97mINFO\u001B[0m - 加载未处理的/data/ly/VQA_ODV/Group1/G1BikingToWork_ERP_3840x2160_fps23.976_qp37_3596k.mp4\n",
      "07/10 21:40:23 - mmengine - \u001B[4m\u001B[97mINFO\u001B[0m - 加载未处理的/data/ly/VQA_ODV/Group1/G1BikingToWork_RCMP_3840x2160_fps23.976_qp27_9939k_ERP.mp4\n",
      "07/10 21:40:23 - mmengine - \u001B[4m\u001B[97mINFO\u001B[0m - 加载未处理的/data/ly/VQA_ODV/Group1/G1BikingToWork_ERP_3840x2160_fps23.976_qp42_1855k.mp4\n",
      "07/10 21:40:36 - mmengine - \u001B[4m\u001B[97mINFO\u001B[0m - 加载未处理的/data/ly/VQA_ODV/Group1/G1BikingToWork_TSP_3840x2160_fps23.976_qp37_3252k_ERP.mp4\n",
      "07/10 21:40:37 - mmengine - \u001B[4m\u001B[97mINFO\u001B[0m - 加载未处理的/data/ly/VQA_ODV/Group1/G1BikingToWork_TSP_3840x2160_fps23.976_qp27_10985k_ERP.mp4\n",
      "07/10 21:40:38 - mmengine - \u001B[4m\u001B[97mINFO\u001B[0m - 加载未处理的/data/ly/VQA_ODV/Group1/G1BikingToWork_RCMP_3840x2160_fps23.976_qp42_1484k_ERP.mp4\n",
      "07/10 21:40:42 - mmengine - \u001B[4m\u001B[97mINFO\u001B[0m - 加载未处理的/data/ly/VQA_ODV/Group1/G1BikingToWork_RCMP_3840x2160_fps23.976_qp37_2889k_ERP.mp4\n",
      "8 7 7\n"
     ]
    },
    {
     "name": "stderr",
     "output_type": "stream",
     "text": [
      "/home/ly/anaconda3/envs/torch1.13/lib/python3.8/site-packages/torch/utils/checkpoint.py:31: UserWarning: None of the inputs have requires_grad=True. Gradients will be None\n",
      "  warnings.warn(\"None of the inputs have requires_grad=True. Gradients will be None\")\n",
      "  3%|▎         | 3/108 [00:26<12:00,  6.86s/it]"
     ]
    },
    {
     "name": "stdout",
     "output_type": "stream",
     "text": [
      "07/10 21:40:49 - mmengine - \u001B[4m\u001B[97mINFO\u001B[0m - 加载未处理的/data/ly/VQA_ODV/Group1/G1LandSalt_ERP_6144x3072_fps29.97_qp42_880k.mp4\n",
      "07/10 21:40:50 - mmengine - \u001B[4m\u001B[97mINFO\u001B[0m - 加载未处理的/data/ly/VQA_ODV/Group1/G1LandSalt_ERP_6144x3072_fps29.97_qp27_9229k.mp4\n"
     ]
    },
    {
     "name": "stderr",
     "output_type": "stream",
     "text": [
      "  4%|▎         | 4/108 [00:27<08:22,  4.83s/it]"
     ]
    },
    {
     "name": "stdout",
     "output_type": "stream",
     "text": [
      "07/10 21:40:50 - mmengine - \u001B[4m\u001B[97mINFO\u001B[0m - 加载未处理的/data/ly/VQA_ODV/Group1/G1LandSalt_ERP_6144x3072_fps29.97_qp37_2048k.mp4\n",
      "07/10 21:40:52 - mmengine - \u001B[4m\u001B[97mINFO\u001B[0m - 加载未处理的/data/ly/VQA_ODV/Group1/G1BikingToWork_TSP_3840x2160_fps23.976_qp42_1680k_ERP.mp4\n"
     ]
    },
    {
     "name": "stderr",
     "output_type": "stream",
     "text": [
      "  7%|▋         | 8/108 [00:31<03:05,  1.86s/it]"
     ]
    },
    {
     "name": "stdout",
     "output_type": "stream",
     "text": [
      "07/10 21:41:04 - mmengine - \u001B[4m\u001B[97mINFO\u001B[0m - 加载未处理的/data/ly/VQA_ODV/Group1/G1LandSalt_RCMP_6144x3072_fps29.97_qp27_8296k_ERP.mp4\n"
     ]
    },
    {
     "name": "stderr",
     "output_type": "stream",
     "text": [
      "  8%|▊         | 9/108 [00:40<06:41,  4.05s/it]"
     ]
    },
    {
     "name": "stdout",
     "output_type": "stream",
     "text": [
      "07/10 21:41:06 - mmengine - \u001B[4m\u001B[97mINFO\u001B[0m - 加载未处理的/data/ly/VQA_ODV/Group1/G1LandSalt_TSP_6144x3072_fps29.97_qp27_7639k_ERP.mp4\n",
      "07/10 21:41:09 - mmengine - \u001B[4m\u001B[97mINFO\u001B[0m - 加载未处理的/data/ly/VQA_ODV/Group1/G1LandSalt_RCMP_6144x3072_fps29.97_qp42_838k_ERP.mp4\n",
      "07/10 21:41:11 - mmengine - \u001B[4m\u001B[97mINFO\u001B[0m - 加载未处理的/data/ly/VQA_ODV/Group1/G1LandSalt_RCMP_6144x3072_fps29.97_qp37_1961k_ERP.mp4\n"
     ]
    },
    {
     "name": "stderr",
     "output_type": "stream",
     "text": [
      " 11%|█         | 12/108 [00:50<04:43,  2.95s/it]"
     ]
    },
    {
     "name": "stdout",
     "output_type": "stream",
     "text": [
      "07/10 21:41:22 - mmengine - \u001B[4m\u001B[97mINFO\u001B[0m - 加载未处理的/data/ly/VQA_ODV/Group3/G3BackcountrySkiing_ERP_3840x1920_fps25_qp37_4153k.mp4\n",
      "07/10 21:41:23 - mmengine - \u001B[4m\u001B[97mINFO\u001B[0m - 加载未处理的/data/ly/VQA_ODV/Group1/G1LandSalt_TSP_6144x3072_fps29.97_qp37_1588k_ERP.mp4\n"
     ]
    },
    {
     "name": "stderr",
     "output_type": "stream",
     "text": [
      " 12%|█▏        | 13/108 [01:00<08:13,  5.19s/it]"
     ]
    },
    {
     "name": "stdout",
     "output_type": "stream",
     "text": [
      "07/10 21:41:24 - mmengine - \u001B[4m\u001B[97mINFO\u001B[0m - 加载未处理的/data/ly/VQA_ODV/Group3/G3BackcountrySkiing_ERP_3840x1920_fps25_qp27_19131k.mp4\n",
      "07/10 21:41:25 - mmengine - \u001B[4m\u001B[97mINFO\u001B[0m - 加载未处理的/data/ly/VQA_ODV/Group1/G1LandSalt_TSP_6144x3072_fps29.97_qp42_715k_ERP.mp4\n"
     ]
    },
    {
     "name": "stderr",
     "output_type": "stream",
     "text": [
      " 15%|█▍        | 16/108 [01:03<03:50,  2.51s/it]"
     ]
    },
    {
     "name": "stdout",
     "output_type": "stream",
     "text": [
      "07/10 21:41:31 - mmengine - \u001B[4m\u001B[97mINFO\u001B[0m - 加载未处理的/data/ly/VQA_ODV/Group3/G3BackcountrySkiing_RCMP_3840x1920_fps25_qp42_1350k_ERP.mp4\n",
      "07/10 21:41:40 - mmengine - \u001B[4m\u001B[97mINFO\u001B[0m - 加载未处理的/data/ly/VQA_ODV/Group3/G3BackcountrySkiing_ERP_3840x1920_fps25_qp42_1608k.mp4\n"
     ]
    },
    {
     "name": "stderr",
     "output_type": "stream",
     "text": [
      " 16%|█▌        | 17/108 [01:17<08:41,  5.73s/it]"
     ]
    },
    {
     "name": "stdout",
     "output_type": "stream",
     "text": [
      "07/10 21:41:40 - mmengine - \u001B[4m\u001B[97mINFO\u001B[0m - 加载未处理的/data/ly/VQA_ODV/Group3/G3BackcountrySkiing_RCMP_3840x1920_fps25_qp37_3521k_ERP.mp4\n",
      "07/10 21:41:42 - mmengine - \u001B[4m\u001B[97mINFO\u001B[0m - 加载未处理的/data/ly/VQA_ODV/Group3/G3BackcountrySkiing_RCMP_3840x1920_fps25_qp27_15973k_ERP.mp4\n"
     ]
    },
    {
     "name": "stderr",
     "output_type": "stream",
     "text": [
      " 18%|█▊        | 19/108 [01:19<05:05,  3.43s/it]"
     ]
    },
    {
     "name": "stdout",
     "output_type": "stream",
     "text": [
      "07/10 21:41:43 - mmengine - \u001B[4m\u001B[97mINFO\u001B[0m - 加载未处理的/data/ly/VQA_ODV/Group3/G3SkyrimHelgen_ERP_3840x2160_fps29.97_qp27_12839k.mp4\n"
     ]
    },
    {
     "name": "stderr",
     "output_type": "stream",
     "text": [
      " 19%|█▊        | 20/108 [01:20<03:56,  2.69s/it]"
     ]
    },
    {
     "name": "stdout",
     "output_type": "stream",
     "text": [
      "07/10 21:41:48 - mmengine - \u001B[4m\u001B[97mINFO\u001B[0m - 加载未处理的/data/ly/VQA_ODV/Group3/G3BackcountrySkiing_TSP_3840x1920_fps25_qp42_2098k_ERP.mp4\n",
      "07/10 21:41:48 - mmengine - \u001B[4m\u001B[97mINFO\u001B[0m - 加载未处理的/data/ly/VQA_ODV/Group3/G3BackcountrySkiing_TSP_3840x1920_fps25_qp27_20563k_ERP.mp4\n"
     ]
    },
    {
     "name": "stderr",
     "output_type": "stream",
     "text": [
      " 19%|█▉        | 21/108 [01:25<04:43,  3.25s/it]"
     ]
    },
    {
     "name": "stdout",
     "output_type": "stream",
     "text": [
      "07/10 21:41:51 - mmengine - \u001B[4m\u001B[97mINFO\u001B[0m - 加载未处理的/data/ly/VQA_ODV/Group3/G3BackcountrySkiing_TSP_3840x1920_fps25_qp37_5199k_ERP.mp4\n"
     ]
    },
    {
     "name": "stderr",
     "output_type": "stream",
     "text": [
      " 22%|██▏       | 24/108 [01:29<02:43,  1.94s/it]"
     ]
    },
    {
     "name": "stdout",
     "output_type": "stream",
     "text": [
      "07/10 21:41:56 - mmengine - \u001B[4m\u001B[97mINFO\u001B[0m - 加载未处理的/data/ly/VQA_ODV/Group3/G3SkyrimHelgen_RCMP_3840x2160_fps29.97_qp27_7602k_ERP.mp4\n",
      "07/10 21:41:56 - mmengine - \u001B[4m\u001B[97mINFO\u001B[0m - 加载未处理的/data/ly/VQA_ODV/Group3/G3SkyrimHelgen_ERP_3840x2160_fps29.97_qp37_3009k.mp4\n"
     ]
    },
    {
     "name": "stderr",
     "output_type": "stream",
     "text": [
      " 23%|██▎       | 25/108 [01:33<03:26,  2.49s/it]"
     ]
    },
    {
     "name": "stdout",
     "output_type": "stream",
     "text": [
      "07/10 21:41:58 - mmengine - \u001B[4m\u001B[97mINFO\u001B[0m - 加载未处理的/data/ly/VQA_ODV/Group3/G3SkyrimHelgen_ERP_3840x2160_fps29.97_qp42_1324k.mp4\n"
     ]
    },
    {
     "name": "stderr",
     "output_type": "stream",
     "text": [
      " 25%|██▌       | 27/108 [01:36<02:31,  1.87s/it]"
     ]
    },
    {
     "name": "stdout",
     "output_type": "stream",
     "text": [
      "07/10 21:42:02 - mmengine - \u001B[4m\u001B[97mINFO\u001B[0m - 加载未处理的/data/ly/VQA_ODV/Group3/G3SkyrimHelgen_RCMP_3840x2160_fps29.97_qp37_1407k_ERP.mp4\n"
     ]
    },
    {
     "name": "stderr",
     "output_type": "stream",
     "text": [
      " 26%|██▌       | 28/108 [01:39<02:53,  2.17s/it]"
     ]
    },
    {
     "name": "stdout",
     "output_type": "stream",
     "text": [
      "07/10 21:42:07 - mmengine - \u001B[4m\u001B[97mINFO\u001B[0m - 加载未处理的/data/ly/VQA_ODV/Group3/G3SkyrimHelgen_TSP_3840x2160_fps29.97_qp37_1567k_ERP.mp4\n",
      "07/10 21:42:10 - mmengine - \u001B[4m\u001B[97mINFO\u001B[0m - 加载未处理的/data/ly/VQA_ODV/Group3/G3SkyrimHelgen_RCMP_3840x2160_fps29.97_qp42_578k_ERP.mp4\n"
     ]
    },
    {
     "name": "stderr",
     "output_type": "stream",
     "text": [
      " 27%|██▋       | 29/108 [01:46<04:57,  3.77s/it]"
     ]
    },
    {
     "name": "stdout",
     "output_type": "stream",
     "text": [
      "07/10 21:42:10 - mmengine - \u001B[4m\u001B[97mINFO\u001B[0m - 加载未处理的/data/ly/VQA_ODV/Group3/G3SkyrimHelgen_TSP_3840x2160_fps29.97_qp27_7679k_ERP.mp4\n"
     ]
    },
    {
     "name": "stderr",
     "output_type": "stream",
     "text": [
      " 29%|██▊       | 31/108 [01:48<02:52,  2.24s/it]"
     ]
    },
    {
     "name": "stdout",
     "output_type": "stream",
     "text": [
      "07/10 21:42:13 - mmengine - \u001B[4m\u001B[97mINFO\u001B[0m - 加载未处理的/data/ly/VQA_ODV/Group3/G3SkyrimHelgen_TSP_3840x2160_fps29.97_qp42_674k_ERP.mp4\n"
     ]
    },
    {
     "name": "stderr",
     "output_type": "stream",
     "text": [
      " 30%|██▉       | 32/108 [01:50<02:46,  2.19s/it]"
     ]
    },
    {
     "name": "stdout",
     "output_type": "stream",
     "text": [
      "07/10 21:42:19 - mmengine - \u001B[4m\u001B[97mINFO\u001B[0m - 加载未处理的/data/ly/VQA_ODV/Group4/G4BikingInSaalbach_ERP_5600x2800_fps29.97_qp42_9360k.mp4\n",
      "07/10 21:42:20 - mmengine - \u001B[4m\u001B[97mINFO\u001B[0m - 加载未处理的/data/ly/VQA_ODV/Group4/G4BikingInSaalbach_ERP_5600x2800_fps29.97_qp27_59876k.mp4\n"
     ]
    },
    {
     "name": "stderr",
     "output_type": "stream",
     "text": [
      " 31%|███       | 33/108 [01:57<04:30,  3.60s/it]"
     ]
    },
    {
     "name": "stdout",
     "output_type": "stream",
     "text": [
      "07/10 21:42:21 - mmengine - \u001B[4m\u001B[97mINFO\u001B[0m - 加载未处理的/data/ly/VQA_ODV/Group4/G4BikingInSaalbach_ERP_5600x2800_fps29.97_qp37_19310k.mp4\n"
     ]
    },
    {
     "name": "stderr",
     "output_type": "stream",
     "text": [
      " 32%|███▏      | 35/108 [01:59<02:47,  2.29s/it]"
     ]
    },
    {
     "name": "stdout",
     "output_type": "stream",
     "text": [
      "07/10 21:42:24 - mmengine - \u001B[4m\u001B[97mINFO\u001B[0m - 加载未处理的/data/ly/VQA_ODV/Group4/G4BikingInSaalbach_RCMP_5600x2800_fps29.97_qp27_51282k_ERP.mp4\n"
     ]
    },
    {
     "name": "stderr",
     "output_type": "stream",
     "text": [
      " 33%|███▎      | 36/108 [02:00<02:24,  2.01s/it]"
     ]
    },
    {
     "name": "stdout",
     "output_type": "stream",
     "text": [
      "07/10 21:42:40 - mmengine - \u001B[4m\u001B[97mINFO\u001B[0m - 加载未处理的/data/ly/VQA_ODV/Group4/G4BikingInSaalbach_TSP_5600x2800_fps29.97_qp27_49345k_ERP.mp4\n",
      "07/10 21:42:43 - mmengine - \u001B[4m\u001B[97mINFO\u001B[0m - 加载未处理的/data/ly/VQA_ODV/Group4/G4BikingInSaalbach_TSP_5600x2800_fps29.97_qp37_14570k_ERP.mp4\n",
      "07/10 21:42:47 - mmengine - \u001B[4m\u001B[97mINFO\u001B[0m - 加载未处理的/data/ly/VQA_ODV/Group4/G4BikingInSaalbach_RCMP_5600x2800_fps29.97_qp42_6523k_ERP.mp4\n",
      "07/10 21:42:54 - mmengine - \u001B[4m\u001B[97mINFO\u001B[0m - 加载未处理的/data/ly/VQA_ODV/Group4/G4BikingInSaalbach_RCMP_5600x2800_fps29.97_qp37_14076k_ERP.mp4\n"
     ]
    },
    {
     "name": "stderr",
     "output_type": "stream",
     "text": [
      " 37%|███▋      | 40/108 [02:33<04:42,  4.16s/it]"
     ]
    },
    {
     "name": "stdout",
     "output_type": "stream",
     "text": [
      "07/10 21:42:59 - mmengine - \u001B[4m\u001B[97mINFO\u001B[0m - 加载未处理的/data/ly/VQA_ODV/Group4/G4DrewBrees_ERP_3840x2160_fps29.97_qp37_4266k.mp4\n",
      "07/10 21:43:03 - mmengine - \u001B[4m\u001B[97mINFO\u001B[0m - 加载未处理的/data/ly/VQA_ODV/Group4/G4DrewBrees_ERP_3840x2160_fps29.97_qp42_2186k.mp4\n",
      "07/10 21:43:09 - mmengine - \u001B[4m\u001B[97mINFO\u001B[0m - 加载未处理的/data/ly/VQA_ODV/Group4/G4DrewBrees_ERP_3840x2160_fps29.97_qp27_15115k.mp4\n",
      "07/10 21:43:15 - mmengine - \u001B[4m\u001B[97mINFO\u001B[0m - 加载未处理的/data/ly/VQA_ODV/Group4/G4BikingInSaalbach_TSP_5600x2800_fps29.97_qp42_7056k_ERP.mp4\n"
     ]
    },
    {
     "name": "stderr",
     "output_type": "stream",
     "text": [
      " 39%|███▉      | 42/108 [02:52<06:40,  6.07s/it]"
     ]
    },
    {
     "name": "stdout",
     "output_type": "stream",
     "text": [
      "07/10 21:43:16 - mmengine - \u001B[4m\u001B[97mINFO\u001B[0m - 加载未处理的/data/ly/VQA_ODV/Group4/G4DrewBrees_RCMP_3840x2160_fps29.97_qp42_2077k_ERP.mp4\n"
     ]
    },
    {
     "name": "stderr",
     "output_type": "stream",
     "text": [
      " 41%|████      | 44/108 [02:54<03:39,  3.43s/it]"
     ]
    },
    {
     "name": "stdout",
     "output_type": "stream",
     "text": [
      "07/10 21:43:18 - mmengine - \u001B[4m\u001B[97mINFO\u001B[0m - 加载未处理的/data/ly/VQA_ODV/Group4/G4DrewBrees_TSP_3840x2160_fps29.97_qp27_18647k_ERP.mp4\n",
      "07/10 21:43:31 - mmengine - \u001B[4m\u001B[97mINFO\u001B[0m - 加载未处理的/data/ly/VQA_ODV/Group4/G4DrewBrees_RCMP_3840x2160_fps29.97_qp37_4116k_ERP.mp4\n",
      "07/10 21:43:34 - mmengine - \u001B[4m\u001B[97mINFO\u001B[0m - 加载未处理的/data/ly/VQA_ODV/Group4/G4DrewBrees_RCMP_3840x2160_fps29.97_qp27_16373k_ERP.mp4\n"
     ]
    },
    {
     "name": "stderr",
     "output_type": "stream",
     "text": [
      " 43%|████▎     | 46/108 [03:12<05:42,  5.52s/it]"
     ]
    },
    {
     "name": "stdout",
     "output_type": "stream",
     "text": [
      "07/10 21:43:35 - mmengine - \u001B[4m\u001B[97mINFO\u001B[0m - 加载未处理的/data/ly/VQA_ODV/Group4/G4WingsuitFlight_ERP_3840x2048_fps29.97_qp27_12696k.mp4\n"
     ]
    },
    {
     "name": "stderr",
     "output_type": "stream",
     "text": [
      " 44%|████▎     | 47/108 [03:13<04:13,  4.15s/it]"
     ]
    },
    {
     "name": "stdout",
     "output_type": "stream",
     "text": [
      "07/10 21:43:36 - mmengine - \u001B[4m\u001B[97mINFO\u001B[0m - 加载未处理的/data/ly/VQA_ODV/Group4/G4WingsuitFlight_ERP_3840x2048_fps29.97_qp37_3545k.mp4\n"
     ]
    },
    {
     "name": "stderr",
     "output_type": "stream",
     "text": [
      " 44%|████▍     | 48/108 [03:13<03:08,  3.14s/it]"
     ]
    },
    {
     "name": "stdout",
     "output_type": "stream",
     "text": [
      "07/10 21:43:43 - mmengine - \u001B[4m\u001B[97mINFO\u001B[0m - 加载未处理的/data/ly/VQA_ODV/Group4/G4DrewBrees_TSP_3840x2160_fps29.97_qp42_2695k_ERP.mp4\n",
      "07/10 21:43:47 - mmengine - \u001B[4m\u001B[97mINFO\u001B[0m - 加载未处理的/data/ly/VQA_ODV/Group4/G4DrewBrees_TSP_3840x2160_fps29.97_qp37_5244k_ERP.mp4\n"
     ]
    },
    {
     "name": "stderr",
     "output_type": "stream",
     "text": [
      " 48%|████▊     | 52/108 [03:26<02:09,  2.32s/it]"
     ]
    },
    {
     "name": "stdout",
     "output_type": "stream",
     "text": [
      "07/10 21:43:50 - mmengine - \u001B[4m\u001B[97mINFO\u001B[0m - 加载未处理的/data/ly/VQA_ODV/Group4/G4WingsuitFlight_RCMP_3840x2048_fps29.97_qp42_1341k_ERP.mp4\n",
      "07/10 21:43:55 - mmengine - \u001B[4m\u001B[97mINFO\u001B[0m - 加载未处理的/data/ly/VQA_ODV/Group4/G4WingsuitFlight_RCMP_3840x2048_fps29.97_qp37_2600k_ERP.mp4\n",
      "07/10 21:43:56 - mmengine - \u001B[4m\u001B[97mINFO\u001B[0m - 加载未处理的/data/ly/VQA_ODV/Group4/G4WingsuitFlight_RCMP_3840x2048_fps29.97_qp27_10195k_ERP.mp4\n",
      "07/10 21:43:59 - mmengine - \u001B[4m\u001B[97mINFO\u001B[0m - 加载未处理的/data/ly/VQA_ODV/Group4/G4WingsuitFlight_ERP_3840x2048_fps29.97_qp42_1877k.mp4\n"
     ]
    },
    {
     "name": "stderr",
     "output_type": "stream",
     "text": [
      " 51%|█████     | 55/108 [03:37<02:20,  2.64s/it]"
     ]
    },
    {
     "name": "stdout",
     "output_type": "stream",
     "text": [
      "07/10 21:44:01 - mmengine - \u001B[4m\u001B[97mINFO\u001B[0m - 加载未处理的/data/ly/VQA_ODV/Group5/G5ResistMarch_ERP_3840x1920_fps29.97_qp27_19898k.mp4\n"
     ]
    },
    {
     "name": "stderr",
     "output_type": "stream",
     "text": [
      " 52%|█████▏    | 56/108 [03:38<01:48,  2.08s/it]"
     ]
    },
    {
     "name": "stdout",
     "output_type": "stream",
     "text": [
      "07/10 21:44:06 - mmengine - \u001B[4m\u001B[97mINFO\u001B[0m - 加载未处理的/data/ly/VQA_ODV/Group4/G4WingsuitFlight_TSP_3840x2048_fps29.97_qp42_1226k_ERP.mp4\n",
      "07/10 21:44:06 - mmengine - \u001B[4m\u001B[97mINFO\u001B[0m - 加载未处理的/data/ly/VQA_ODV/Group4/G4WingsuitFlight_TSP_3840x2048_fps29.97_qp37_2378k_ERP.mp4\n",
      "07/10 21:44:10 - mmengine - \u001B[4m\u001B[97mINFO\u001B[0m - 加载未处理的/data/ly/VQA_ODV/Group4/G4WingsuitFlight_TSP_3840x2048_fps29.97_qp27_9198k_ERP.mp4\n"
     ]
    },
    {
     "name": "stderr",
     "output_type": "stream",
     "text": [
      " 56%|█████▌    | 60/108 [03:49<01:30,  1.89s/it]"
     ]
    },
    {
     "name": "stdout",
     "output_type": "stream",
     "text": [
      "07/10 21:44:14 - mmengine - \u001B[4m\u001B[97mINFO\u001B[0m - 加载未处理的/data/ly/VQA_ODV/Group5/G5ResistMarch_RCMP_3840x1920_fps29.97_qp37_3568k_ERP.mp4\n",
      "07/10 21:44:15 - mmengine - \u001B[4m\u001B[97mINFO\u001B[0m - 加载未处理的/data/ly/VQA_ODV/Group5/G5ResistMarch_RCMP_3840x1920_fps29.97_qp27_19645k_ERP.mp4\n",
      "07/10 21:44:16 - mmengine - \u001B[4m\u001B[97mINFO\u001B[0m - 加载未处理的/data/ly/VQA_ODV/Group5/G5ResistMarch_ERP_3840x1920_fps29.97_qp42_1484k.mp4\n",
      "07/10 21:44:20 - mmengine - \u001B[4m\u001B[97mINFO\u001B[0m - 加载未处理的/data/ly/VQA_ODV/Group5/G5ResistMarch_ERP_3840x1920_fps29.97_qp37_3644k.mp4\n"
     ]
    },
    {
     "name": "stderr",
     "output_type": "stream",
     "text": [
      " 57%|█████▋    | 62/108 [03:58<02:14,  2.93s/it]"
     ]
    },
    {
     "name": "stdout",
     "output_type": "stream",
     "text": [
      "07/10 21:44:22 - mmengine - \u001B[4m\u001B[97mINFO\u001B[0m - 加载未处理的/data/ly/VQA_ODV/Group5/G5ResistMarch_TSP_3840x1920_fps29.97_qp37_4476k_ERP.mp4\n"
     ]
    },
    {
     "name": "stderr",
     "output_type": "stream",
     "text": [
      " 58%|█████▊    | 63/108 [03:59<01:45,  2.35s/it]"
     ]
    },
    {
     "name": "stdout",
     "output_type": "stream",
     "text": [
      "07/10 21:44:22 - mmengine - \u001B[4m\u001B[97mINFO\u001B[0m - 加载未处理的/data/ly/VQA_ODV/Group5/G5ResistMarch_TSP_3840x1920_fps29.97_qp42_1840k_ERP.mp4\n",
      "07/10 21:44:23 - mmengine - \u001B[4m\u001B[97mINFO\u001B[0m - 加载未处理的/data/ly/VQA_ODV/Group5/G5ResistMarch_TSP_3840x1920_fps29.97_qp27_21576k_ERP.mp4\n"
     ]
    },
    {
     "name": "stderr",
     "output_type": "stream",
     "text": [
      " 59%|█████▉    | 64/108 [04:00<01:22,  1.87s/it]"
     ]
    },
    {
     "name": "stdout",
     "output_type": "stream",
     "text": [
      "07/10 21:44:28 - mmengine - \u001B[4m\u001B[97mINFO\u001B[0m - 加载未处理的/data/ly/VQA_ODV/Group5/G5ResistMarch_RCMP_3840x1920_fps29.97_qp42_1492k_ERP.mp4\n"
     ]
    },
    {
     "name": "stderr",
     "output_type": "stream",
     "text": [
      " 61%|██████    | 66/108 [04:05<01:31,  2.18s/it]"
     ]
    },
    {
     "name": "stdout",
     "output_type": "stream",
     "text": [
      "07/10 21:44:29 - mmengine - \u001B[4m\u001B[97mINFO\u001B[0m - 加载未处理的/data/ly/VQA_ODV/Group6/G6AngelFallsClimbing_ERP_7680x3840_fps29.97_qp42_1663k.mp4\n"
     ]
    },
    {
     "name": "stderr",
     "output_type": "stream",
     "text": [
      " 62%|██████▏   | 67/108 [04:06<01:13,  1.78s/it]"
     ]
    },
    {
     "name": "stdout",
     "output_type": "stream",
     "text": [
      "07/10 21:44:30 - mmengine - \u001B[4m\u001B[97mINFO\u001B[0m - 加载未处理的/data/ly/VQA_ODV/Group6/G6AngelFallsClimbing_RCMP_7680x3840_fps29.97_qp27_38041k_ERP.mp4\n",
      "07/10 21:44:30 - mmengine - \u001B[4m\u001B[97mINFO\u001B[0m - 加载未处理的/data/ly/VQA_ODV/Group6/G6AngelFallsClimbing_ERP_7680x3840_fps29.97_qp37_5981k.mp4\n"
     ]
    },
    {
     "name": "stderr",
     "output_type": "stream",
     "text": [
      " 63%|██████▎   | 68/108 [04:07<01:00,  1.51s/it]"
     ]
    },
    {
     "name": "stdout",
     "output_type": "stream",
     "text": [
      "07/10 21:44:36 - mmengine - \u001B[4m\u001B[97mINFO\u001B[0m - 加载未处理的/data/ly/VQA_ODV/Group6/G6AngelFallsClimbing_ERP_7680x3840_fps29.97_qp27_54581k.mp4\n"
     ]
    },
    {
     "name": "stderr",
     "output_type": "stream",
     "text": [
      " 67%|██████▋   | 72/108 [04:15<00:54,  1.52s/it]"
     ]
    },
    {
     "name": "stdout",
     "output_type": "stream",
     "text": [
      "07/10 21:44:56 - mmengine - \u001B[4m\u001B[97mINFO\u001B[0m - 加载未处理的/data/ly/VQA_ODV/Group6/G6AngelFallsClimbing_TSP_7680x3840_fps29.97_qp27_29114k_ERP.mp4\n",
      "07/10 21:45:01 - mmengine - \u001B[4m\u001B[97mINFO\u001B[0m - 加载未处理的/data/ly/VQA_ODV/Group6/G6AngelFallsClimbing_TSP_7680x3840_fps29.97_qp37_3561k_ERP.mp4\n",
      "07/10 21:45:03 - mmengine - \u001B[4m\u001B[97mINFO\u001B[0m - 加载未处理的/data/ly/VQA_ODV/Group6/G6AngelFallsClimbing_RCMP_7680x3840_fps29.97_qp42_1306k_ERP.mp4\n",
      "07/10 21:45:20 - mmengine - \u001B[4m\u001B[97mINFO\u001B[0m - 加载未处理的/data/ly/VQA_ODV/Group6/G6AngelFallsClimbing_RCMP_7680x3840_fps29.97_qp37_3582k_ERP.mp4\n"
     ]
    },
    {
     "name": "stderr",
     "output_type": "stream",
     "text": [
      " 70%|███████   | 76/108 [04:59<02:44,  5.15s/it]"
     ]
    },
    {
     "name": "stdout",
     "output_type": "stream",
     "text": [
      "07/10 21:45:24 - mmengine - \u001B[4m\u001B[97mINFO\u001B[0m - 加载未处理的/data/ly/VQA_ODV/Group7/G7PressConference_ERP_4096x2048_fps30_qp37_1038k.mp4\n",
      "07/10 21:45:30 - mmengine - \u001B[4m\u001B[97mINFO\u001B[0m - 加载未处理的/data/ly/VQA_ODV/Group7/G7PressConference_ERP_4096x2048_fps30_qp42_509k.mp4\n",
      "07/10 21:45:32 - mmengine - \u001B[4m\u001B[97mINFO\u001B[0m - 加载未处理的/data/ly/VQA_ODV/Group7/G7PressConference_ERP_4096x2048_fps30_qp27_4909k.mp4\n",
      "07/10 21:45:41 - mmengine - \u001B[4m\u001B[97mINFO\u001B[0m - 加载未处理的/data/ly/VQA_ODV/Group6/G6AngelFallsClimbing_TSP_7680x3840_fps29.97_qp42_1480k_ERP.mp4\n"
     ]
    },
    {
     "name": "stderr",
     "output_type": "stream",
     "text": [
      " 71%|███████▏  | 77/108 [05:17<04:41,  9.09s/it]"
     ]
    },
    {
     "name": "stdout",
     "output_type": "stream",
     "text": [
      "07/10 21:45:41 - mmengine - \u001B[4m\u001B[97mINFO\u001B[0m - 加载未处理的/data/ly/VQA_ODV/Group7/G7PressConference_RCMP_4096x2048_fps30_qp37_980k_ERP.mp4\n"
     ]
    },
    {
     "name": "stderr",
     "output_type": "stream",
     "text": [
      " 72%|███████▏  | 78/108 [05:18<03:20,  6.67s/it]"
     ]
    },
    {
     "name": "stdout",
     "output_type": "stream",
     "text": [
      "07/10 21:45:42 - mmengine - \u001B[4m\u001B[97mINFO\u001B[0m - 加载未处理的/data/ly/VQA_ODV/Group7/G7PressConference_RCMP_4096x2048_fps30_qp42_485k_ERP.mp4\n"
     ]
    },
    {
     "name": "stderr",
     "output_type": "stream",
     "text": [
      " 73%|███████▎  | 79/108 [05:19<02:22,  4.93s/it]"
     ]
    },
    {
     "name": "stdout",
     "output_type": "stream",
     "text": [
      "07/10 21:45:43 - mmengine - \u001B[4m\u001B[97mINFO\u001B[0m - 加载未处理的/data/ly/VQA_ODV/Group7/G7PressConference_TSP_4096x2048_fps30_qp27_5525k_ERP.mp4\n"
     ]
    },
    {
     "name": "stderr",
     "output_type": "stream",
     "text": [
      " 74%|███████▍  | 80/108 [05:20<01:43,  3.71s/it]"
     ]
    },
    {
     "name": "stdout",
     "output_type": "stream",
     "text": [
      "07/10 21:45:59 - mmengine - \u001B[4m\u001B[97mINFO\u001B[0m - 加载未处理的/data/ly/VQA_ODV/Group7/G7PressConference_RCMP_4096x2048_fps30_qp27_4286k_ERP.mp4\n"
     ]
    },
    {
     "name": "stderr",
     "output_type": "stream",
     "text": [
      " 75%|███████▌  | 81/108 [05:36<03:18,  7.33s/it]"
     ]
    },
    {
     "name": "stdout",
     "output_type": "stream",
     "text": [
      "07/10 21:45:59 - mmengine - \u001B[4m\u001B[97mINFO\u001B[0m - 加载未处理的/data/ly/VQA_ODV/Group7/G7PressConference_TSP_4096x2048_fps30_qp42_635k_ERP.mp4\n"
     ]
    },
    {
     "name": "stderr",
     "output_type": "stream",
     "text": [
      " 76%|███████▌  | 82/108 [05:37<02:20,  5.40s/it]"
     ]
    },
    {
     "name": "stdout",
     "output_type": "stream",
     "text": [
      "07/10 21:46:00 - mmengine - \u001B[4m\u001B[97mINFO\u001B[0m - 加载未处理的/data/ly/VQA_ODV/Group7/G7Shooting_ERP_4096x2048_fps30_qp27_4387k.mp4\n"
     ]
    },
    {
     "name": "stderr",
     "output_type": "stream",
     "text": [
      " 77%|███████▋  | 83/108 [05:38<01:41,  4.07s/it]"
     ]
    },
    {
     "name": "stdout",
     "output_type": "stream",
     "text": [
      "07/10 21:46:01 - mmengine - \u001B[4m\u001B[97mINFO\u001B[0m - 加载未处理的/data/ly/VQA_ODV/Group7/G7Shooting_ERP_4096x2048_fps30_qp37_880k.mp4\n"
     ]
    },
    {
     "name": "stderr",
     "output_type": "stream",
     "text": [
      " 78%|███████▊  | 84/108 [05:38<01:14,  3.10s/it]"
     ]
    },
    {
     "name": "stdout",
     "output_type": "stream",
     "text": [
      "07/10 21:46:06 - mmengine - \u001B[4m\u001B[97mINFO\u001B[0m - 加载未处理的/data/ly/VQA_ODV/Group7/G7PressConference_TSP_4096x2048_fps30_qp37_1238k_ERP.mp4\n"
     ]
    },
    {
     "name": "stderr",
     "output_type": "stream",
     "text": [
      " 80%|███████▉  | 86/108 [05:43<00:58,  2.66s/it]"
     ]
    },
    {
     "name": "stdout",
     "output_type": "stream",
     "text": [
      "07/10 21:46:08 - mmengine - \u001B[4m\u001B[97mINFO\u001B[0m - 加载未处理的/data/ly/VQA_ODV/Group7/G7Shooting_RCMP_4096x2048_fps30_qp27_3965k_ERP.mp4\n"
     ]
    },
    {
     "name": "stderr",
     "output_type": "stream",
     "text": [
      " 81%|████████▏ | 88/108 [05:45<00:34,  1.75s/it]"
     ]
    },
    {
     "name": "stdout",
     "output_type": "stream",
     "text": [
      "07/10 21:46:10 - mmengine - \u001B[4m\u001B[97mINFO\u001B[0m - 加载未处理的/data/ly/VQA_ODV/Group7/G7Shooting_RCMP_4096x2048_fps30_qp42_353k_ERP.mp4\n",
      "07/10 21:46:10 - mmengine - \u001B[4m\u001B[97mINFO\u001B[0m - 加载未处理的/data/ly/VQA_ODV/Group7/G7Shooting_RCMP_4096x2048_fps30_qp37_961k_ERP.mp4\n",
      "07/10 21:46:13 - mmengine - \u001B[4m\u001B[97mINFO\u001B[0m - 加载未处理的/data/ly/VQA_ODV/Group7/G7Shooting_ERP_4096x2048_fps30_qp42_294k.mp4\n"
     ]
    },
    {
     "name": "stderr",
     "output_type": "stream",
     "text": [
      " 85%|████████▌ | 92/108 [05:52<00:22,  1.43s/it]"
     ]
    },
    {
     "name": "stdout",
     "output_type": "stream",
     "text": [
      "07/10 21:46:16 - mmengine - \u001B[4m\u001B[97mINFO\u001B[0m - 加载未处理的/data/ly/VQA_ODV/Group7/G7Shooting_TSP_4096x2048_fps30_qp37_1963k_ERP.mp4\n",
      "07/10 21:46:17 - mmengine - \u001B[4m\u001B[97mINFO\u001B[0m - 加载未处理的/data/ly/VQA_ODV/Group10/G10PandaBaseChengdu_ERP_7680x3840_fps29.97_qp27_12254k.mp4\n",
      "07/10 21:46:18 - mmengine - \u001B[4m\u001B[97mINFO\u001B[0m - 加载未处理的/data/ly/VQA_ODV/Group7/G7Shooting_TSP_4096x2048_fps30_qp42_906k_ERP.mp4\n",
      "07/10 21:46:20 - mmengine - \u001B[4m\u001B[97mINFO\u001B[0m - 加载未处理的/data/ly/VQA_ODV/Group7/G7Shooting_TSP_4096x2048_fps30_qp27_7770k_ERP.mp4\n"
     ]
    },
    {
     "name": "stderr",
     "output_type": "stream",
     "text": [
      " 89%|████████▉ | 96/108 [05:59<00:16,  1.37s/it]"
     ]
    },
    {
     "name": "stdout",
     "output_type": "stream",
     "text": [
      "07/10 21:46:25 - mmengine - \u001B[4m\u001B[97mINFO\u001B[0m - 加载未处理的/data/ly/VQA_ODV/Group10/G10PandaBaseChengdu_ERP_7680x3840_fps29.97_qp42_1044k.mp4\n",
      "07/10 21:46:27 - mmengine - \u001B[4m\u001B[97mINFO\u001B[0m - 加载未处理的/data/ly/VQA_ODV/Group10/G10PandaBaseChengdu_RCMP_7680x3840_fps29.97_qp27_11238k_ERP.mp4\n",
      "07/10 21:46:28 - mmengine - \u001B[4m\u001B[97mINFO\u001B[0m - 加载未处理的/data/ly/VQA_ODV/Group10/G10PandaBaseChengdu_ERP_7680x3840_fps29.97_qp37_1499k.mp4\n"
     ]
    },
    {
     "name": "stderr",
     "output_type": "stream",
     "text": [
      " 92%|█████████▏| 99/108 [06:06<00:15,  1.69s/it]"
     ]
    },
    {
     "name": "stdout",
     "output_type": "stream",
     "text": [
      "07/10 21:47:04 - mmengine - \u001B[4m\u001B[97mINFO\u001B[0m - 加载未处理的/data/ly/VQA_ODV/Group10/G10PandaBaseChengdu_TSP_7680x3840_fps29.97_qp27_16522k_ERP.mp4\n",
      "07/10 21:47:04 - mmengine - \u001B[4m\u001B[97mINFO\u001B[0m - 加载未处理的/data/ly/VQA_ODV/Group10/G10PandaBaseChengdu_RCMP_7680x3840_fps29.97_qp42_901k_ERP.mp4\n",
      "07/10 21:47:06 - mmengine - \u001B[4m\u001B[97mINFO\u001B[0m - 加载未处理的/data/ly/VQA_ODV/Group10/G10PandaBaseChengdu_RCMP_7680x3840_fps29.97_qp37_1390k_ERP.mp4\n"
     ]
    },
    {
     "name": "stderr",
     "output_type": "stream",
     "text": [
      " 94%|█████████▍| 102/108 [06:44<00:38,  6.34s/it]"
     ]
    },
    {
     "name": "stdout",
     "output_type": "stream",
     "text": [
      "07/10 21:47:16 - mmengine - \u001B[4m\u001B[97mINFO\u001B[0m - 加载未处理的/data/ly/VQA_ODV/Group10/G10PandaBaseChengdu_TSP_7680x3840_fps29.97_qp37_2799k_ERP.mp4\n"
     ]
    },
    {
     "name": "stderr",
     "output_type": "stream",
     "text": [
      " 95%|█████████▌| 103/108 [06:52<00:34,  6.99s/it]"
     ]
    },
    {
     "name": "stdout",
     "output_type": "stream",
     "text": [
      "07/10 21:47:43 - mmengine - \u001B[4m\u001B[97mINFO\u001B[0m - 加载未处理的/data/ly/VQA_ODV/Group10/G10PandaBaseChengdu_TSP_7680x3840_fps29.97_qp42_1196k_ERP.mp4\n"
     ]
    },
    {
     "name": "stderr",
     "output_type": "stream",
     "text": [
      "100%|██████████| 108/108 [07:39<00:00,  4.26s/it]\n"
     ]
    }
   ],
   "source": [
    "y = []\n",
    "y_pred = []\n",
    "model = model.cuda()\n",
    "for item in tqdm(dataloader):\n",
    "    inputs = item['inputs'].cuda()\n",
    "    result = model(inputs,gt_label=item['gt_label'],mode='predict')\n",
    "    y_pred.append(result[0])\n",
    "    y.append(result[1])"
   ],
   "metadata": {
    "collapsed": false,
    "ExecuteTime": {
     "end_time": "2023-07-10T13:48:04.595170800Z",
     "start_time": "2023-07-10T13:40:21.992534800Z"
    }
   }
  },
  {
   "cell_type": "code",
   "execution_count": 5,
   "outputs": [
    {
     "name": "stdout",
     "output_type": "stream",
     "text": [
      "-0.8675583754894395\n"
     ]
    }
   ],
   "source": [
    "from scipy.stats import spearmanr\n",
    "\n",
    "y_pred = torch.stack(y_pred,dim=0).flatten().cpu().detach().numpy()\n",
    "y = torch.stack(y,dim=0).flatten().numpy()\n",
    "s = spearmanr(y, y_pred)[0]\n",
    "print(s)"
   ],
   "metadata": {
    "collapsed": false,
    "ExecuteTime": {
     "end_time": "2023-07-10T13:48:05.293166800Z",
     "start_time": "2023-07-10T13:48:04.594167900Z"
    }
   }
  },
  {
   "cell_type": "code",
   "execution_count": 6,
   "outputs": [
    {
     "name": "stdout",
     "output_type": "stream",
     "text": [
      "[0.51132804 0.5121804  0.3778674  0.5966643  0.52622783 0.38351288\n",
      " 0.5757952  0.55957365 0.4351227  0.6646226  0.5567569  0.29488623\n",
      " 0.6628805  0.522985   0.25827035 0.62213933 0.5569207  0.32290414\n",
      " 0.5357787  0.47965592 0.32013595 0.5746439  0.46648276 0.3666844\n",
      " 0.5680887  0.5283015  0.47307777 0.57668144 0.49099138 0.3588439\n",
      " 0.5733949  0.45492408 0.28146625 0.5985142  0.46595427 0.2991815\n",
      " 0.56138104 0.50505793 0.44462454 0.53615963 0.44455922 0.44559354\n",
      " 0.56366974 0.4463708  0.48651758 0.58086497 0.5357705  0.4452538\n",
      " 0.61498195 0.5618573  0.4033826  0.5898661  0.61411136 0.50728554\n",
      " 0.5738605  0.59103864 0.4383474  0.573973   0.51360047 0.44698453\n",
      " 0.62682134 0.5736339  0.46532336 0.6036083  0.48774067 0.35964543\n",
      " 0.61667264 0.4382963  0.26264408 0.62269986 0.5554357  0.4467364\n",
      " 0.63419855 0.5647622  0.30006748 0.6116221  0.5409302  0.20384605\n",
      " 0.646545   0.5678368  0.24719436 0.55914426 0.40730527 0.2633503\n",
      " 0.60309356 0.388904   0.26027983 0.62979597 0.4799649  0.3261121\n",
      " 0.5823717  0.42265964 0.2823331  0.57590073 0.41346386 0.2734945\n",
      " 0.62786585 0.5602354  0.46931475 0.6856137  0.41720724 0.270342\n",
      " 0.6750641  0.42204136 0.28681523 0.6826853  0.54643595 0.37922964]\n",
      "[-0.10737588 -0.08108166 -0.05129797 -0.10043526 -0.08342614 -0.06737503\n",
      " -0.11288483 -0.08602846 -0.05685246 -0.13067117 -0.0792784  -0.01216712\n",
      " -0.12002341 -0.08380421 -0.02331307 -0.12195984 -0.0706345  -0.01543601\n",
      " -0.09145308 -0.0857541  -0.04949608 -0.10011995 -0.08641237 -0.07426711\n",
      " -0.11314113 -0.09725205 -0.09461448 -0.13814193 -0.0632557  -0.02884583\n",
      " -0.15587768 -0.09042796 -0.0285713  -0.16609687 -0.08057289 -0.05235533\n",
      " -0.09942954 -0.07462831 -0.04732704 -0.11514431 -0.08115587 -0.0631363\n",
      " -0.10691096 -0.09136085 -0.06441646 -0.10305714 -0.07352933 -0.0489397\n",
      " -0.12670942 -0.07450158 -0.04169428 -0.11029334 -0.07740837 -0.0521954\n",
      " -0.1045773  -0.07775068 -0.07167835 -0.10367447 -0.11225227 -0.07056293\n",
      " -0.10498261 -0.07783934 -0.06136762 -0.10512398 -0.09038302 -0.03925769\n",
      " -0.10230571 -0.08470609 -0.06277359 -0.09682342 -0.06361822 -0.05135988\n",
      " -0.13456401 -0.09223868 -0.01375091 -0.14682941 -0.0994155  -0.03451883\n",
      " -0.11994232 -0.07982359 -0.03842535 -0.15159664 -0.06185482 -0.01409643\n",
      " -0.15284917 -0.07204472 -0.03478345 -0.1395121  -0.08430648 -0.04290857\n",
      " -0.13669679 -0.03695593 -0.01422329 -0.11509044 -0.05246587 -0.03230363\n",
      " -0.11483295 -0.09808204 -0.08646584 -0.13444598 -0.01190901  0.00111897\n",
      " -0.1290272  -0.06764407  0.0129324  -0.12811372 -0.10035335 -0.01872256]\n",
      "[0.6187039  0.5932621  0.42916536 0.69709957 0.60965395 0.45088792\n",
      " 0.68868    0.6456021  0.49197516 0.7952938  0.6360353  0.30705336\n",
      " 0.7829039  0.6067892  0.28158343 0.7440992  0.6275552  0.33834013\n",
      " 0.6272318  0.56541    0.36963204 0.67476386 0.5528951  0.44095153\n",
      " 0.6812298  0.62555355 0.5676923  0.71482337 0.5542471  0.3876897\n",
      " 0.7292726  0.54535204 0.31003755 0.76461107 0.54652715 0.3515368\n",
      " 0.6608106  0.5796862  0.49195158 0.65130395 0.5257151  0.5087298\n",
      " 0.6705807  0.53773165 0.550934   0.6839221  0.6092998  0.4941935\n",
      " 0.74169135 0.63635886 0.44507688 0.70015943 0.69151974 0.55948097\n",
      " 0.6784378  0.6687893  0.51002574 0.6776475  0.62585276 0.5175475\n",
      " 0.73180395 0.6514733  0.52669096 0.7087323  0.5781237  0.39890313\n",
      " 0.71897835 0.5230024  0.32541767 0.71952325 0.61905396 0.4980963\n",
      " 0.7687626  0.65700084 0.3138184  0.7584515  0.6403457  0.23836489\n",
      " 0.7664873  0.64766043 0.2856197  0.7107409  0.46916008 0.27744675\n",
      " 0.7559427  0.46094874 0.2950633  0.7693081  0.5642714  0.36902067\n",
      " 0.7190685  0.45961556 0.29655638 0.69099116 0.46592975 0.30579814\n",
      " 0.7426988  0.65831745 0.5557806  0.82005966 0.42911625 0.26922303\n",
      " 0.8040913  0.48968542 0.27388284 0.810799   0.6467893  0.3979522 ]\n"
     ]
    }
   ],
   "source": [
    "print(y)\n",
    "print(y_pred)\n",
    "print(y-y_pred)"
   ],
   "metadata": {
    "collapsed": false,
    "ExecuteTime": {
     "end_time": "2023-07-10T13:48:05.313293500Z",
     "start_time": "2023-07-10T13:48:05.298166200Z"
    }
   }
  },
  {
   "cell_type": "code",
   "execution_count": 7,
   "outputs": [
    {
     "data": {
      "text/plain": "<matplotlib.collections.PathCollection at 0x7faf28e9abb0>"
     },
     "execution_count": 7,
     "metadata": {},
     "output_type": "execute_result"
    },
    {
     "data": {
      "text/plain": "<Figure size 1200x500 with 1 Axes>",
      "image/png": "[encoded data removed]"
     },
     "metadata": {},
     "output_type": "display_data"
    }
   ],
   "source": [
    "import matplotlib.pyplot as plt\n",
    "fig = plt.figure(figsize=(12, 5))\n",
    "plt.scatter(x=[i for i in range(0,2*len(y),2)],y=y,c='b',s=10)\n",
    "plt.scatter(x=[i for i in range(0,2*len(y_pred),2)],y=y_pred,c='r',s=10)"
   ],
   "metadata": {
    "collapsed": false,
    "ExecuteTime": {
     "end_time": "2023-07-10T13:48:06.224745Z",
     "start_time": "2023-07-10T13:48:05.346738900Z"
    }
   }
  }
 ],
 "metadata": {
  "kernelspec": {
   "display_name": "Python 3",
   "language": "python",
   "name": "python3"
  },
  "language_info": {
   "codemirror_mode": {
    "name": "ipython",
    "version": 2
   },
   "file_extension": ".py",
   "mimetype": "text/x-python",
   "name": "python",
   "nbconvert_exporter": "python",
   "pygments_lexer": "ipython2",
   "version": "2.7.6"
  }
 },
 "nbformat": 4,
 "nbformat_minor": 0
}
