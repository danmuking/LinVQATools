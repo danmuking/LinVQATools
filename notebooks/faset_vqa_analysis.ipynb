{
 "cells": [
  {
   "cell_type": "code",
   "execution_count": 1,
   "metadata": {
    "collapsed": true,
    "ExecuteTime": {
     "start_time": "2023-07-08T18:55:02.977366Z",
     "end_time": "2023-07-08T18:55:07.257871Z"
    }
   },
   "outputs": [],
   "source": [
    "import torch\n",
    "from torch.utils.data import DataLoader\n",
    "from tqdm import tqdm\n",
    "\n",
    "from data.default_dataset import DefaultDataset\n",
    "from models.faster_vqa import FasterVQA"
   ]
  },
  {
   "cell_type": "markdown",
   "source": [
    "加载模型和权重"
   ],
   "metadata": {
    "collapsed": false
   }
  },
  {
   "cell_type": "code",
   "execution_count": 2,
   "outputs": [
    {
     "name": "stdout",
     "output_type": "stream",
     "text": [
      "swin_tiny_grpb\n"
     ]
    },
    {
     "name": "stderr",
     "output_type": "stream",
     "text": [
      "/home/ly/anaconda3/envs/torch1.13/lib/python3.8/site-packages/torch/functional.py:504: UserWarning: torch.meshgrid: in an upcoming release, it will be required to pass the indexing argument. (Triggered internally at ../aten/src/ATen/native/TensorShape.cpp:3190.)\n",
      "  return _VF.meshgrid(tensors, **kwargs)  # type: ignore[attr-defined]\n"
     ]
    },
    {
     "name": "stdout",
     "output_type": "stream",
     "text": [
      "None False\n",
      "Setting backbone: fragments_backbone\n",
      "FasterVQA(\n",
      "  (data_preprocessor): BaseDataPreprocessor()\n",
      "  (model): DiViDeAddEvaluator(\n",
      "    (fragments_backbone): SwinTransformer3D(\n",
      "      (patch_embed): PatchEmbed3D(\n",
      "        (proj): Conv3d(3, 96, kernel_size=(2, 4, 4), stride=(2, 4, 4))\n",
      "        (norm): LayerNorm((96,), eps=1e-05, elementwise_affine=True)\n",
      "      )\n",
      "      (pos_drop): Dropout(p=0.0, inplace=False)\n",
      "      (layers): ModuleList(\n",
      "        (0): BasicLayer(\n",
      "          (blocks): ModuleList(\n",
      "            (0): SwinTransformerBlock3D(\n",
      "              (norm1): LayerNorm((96,), eps=1e-05, elementwise_affine=True)\n",
      "              (attn): WindowAttention3D(\n",
      "                (qkv): Linear(in_features=96, out_features=288, bias=True)\n",
      "                (attn_drop): Dropout(p=0.0, inplace=False)\n",
      "                (proj): Linear(in_features=96, out_features=96, bias=True)\n",
      "                (proj_drop): Dropout(p=0.0, inplace=False)\n",
      "                (softmax): Softmax(dim=-1)\n",
      "              )\n",
      "              (drop_path): Identity()\n",
      "              (norm2): LayerNorm((96,), eps=1e-05, elementwise_affine=True)\n",
      "              (mlp): Mlp(\n",
      "                (fc1): Linear(in_features=96, out_features=384, bias=True)\n",
      "                (act): GELU(approximate='none')\n",
      "                (fc2): Linear(in_features=384, out_features=96, bias=True)\n",
      "                (drop): Dropout(p=0.0, inplace=False)\n",
      "              )\n",
      "            )\n",
      "            (1): SwinTransformerBlock3D(\n",
      "              (norm1): LayerNorm((96,), eps=1e-05, elementwise_affine=True)\n",
      "              (attn): WindowAttention3D(\n",
      "                (qkv): Linear(in_features=96, out_features=288, bias=True)\n",
      "                (attn_drop): Dropout(p=0.0, inplace=False)\n",
      "                (proj): Linear(in_features=96, out_features=96, bias=True)\n",
      "                (proj_drop): Dropout(p=0.0, inplace=False)\n",
      "                (softmax): Softmax(dim=-1)\n",
      "              )\n",
      "              (drop_path): DropPath(drop_prob=0.009)\n",
      "              (norm2): LayerNorm((96,), eps=1e-05, elementwise_affine=True)\n",
      "              (mlp): Mlp(\n",
      "                (fc1): Linear(in_features=96, out_features=384, bias=True)\n",
      "                (act): GELU(approximate='none')\n",
      "                (fc2): Linear(in_features=384, out_features=96, bias=True)\n",
      "                (drop): Dropout(p=0.0, inplace=False)\n",
      "              )\n",
      "            )\n",
      "          )\n",
      "          (downsample): PatchMerging(\n",
      "            (reduction): Linear(in_features=384, out_features=192, bias=False)\n",
      "            (norm): LayerNorm((384,), eps=1e-05, elementwise_affine=True)\n",
      "          )\n",
      "        )\n",
      "        (1): BasicLayer(\n",
      "          (blocks): ModuleList(\n",
      "            (0): SwinTransformerBlock3D(\n",
      "              (norm1): LayerNorm((192,), eps=1e-05, elementwise_affine=True)\n",
      "              (attn): WindowAttention3D(\n",
      "                (qkv): Linear(in_features=192, out_features=576, bias=True)\n",
      "                (attn_drop): Dropout(p=0.0, inplace=False)\n",
      "                (proj): Linear(in_features=192, out_features=192, bias=True)\n",
      "                (proj_drop): Dropout(p=0.0, inplace=False)\n",
      "                (softmax): Softmax(dim=-1)\n",
      "              )\n",
      "              (drop_path): DropPath(drop_prob=0.018)\n",
      "              (norm2): LayerNorm((192,), eps=1e-05, elementwise_affine=True)\n",
      "              (mlp): Mlp(\n",
      "                (fc1): Linear(in_features=192, out_features=768, bias=True)\n",
      "                (act): GELU(approximate='none')\n",
      "                (fc2): Linear(in_features=768, out_features=192, bias=True)\n",
      "                (drop): Dropout(p=0.0, inplace=False)\n",
      "              )\n",
      "            )\n",
      "            (1): SwinTransformerBlock3D(\n",
      "              (norm1): LayerNorm((192,), eps=1e-05, elementwise_affine=True)\n",
      "              (attn): WindowAttention3D(\n",
      "                (qkv): Linear(in_features=192, out_features=576, bias=True)\n",
      "                (attn_drop): Dropout(p=0.0, inplace=False)\n",
      "                (proj): Linear(in_features=192, out_features=192, bias=True)\n",
      "                (proj_drop): Dropout(p=0.0, inplace=False)\n",
      "                (softmax): Softmax(dim=-1)\n",
      "              )\n",
      "              (drop_path): DropPath(drop_prob=0.027)\n",
      "              (norm2): LayerNorm((192,), eps=1e-05, elementwise_affine=True)\n",
      "              (mlp): Mlp(\n",
      "                (fc1): Linear(in_features=192, out_features=768, bias=True)\n",
      "                (act): GELU(approximate='none')\n",
      "                (fc2): Linear(in_features=768, out_features=192, bias=True)\n",
      "                (drop): Dropout(p=0.0, inplace=False)\n",
      "              )\n",
      "            )\n",
      "          )\n",
      "          (downsample): PatchMerging(\n",
      "            (reduction): Linear(in_features=768, out_features=384, bias=False)\n",
      "            (norm): LayerNorm((768,), eps=1e-05, elementwise_affine=True)\n",
      "          )\n",
      "        )\n",
      "        (2): BasicLayer(\n",
      "          (blocks): ModuleList(\n",
      "            (0): SwinTransformerBlock3D(\n",
      "              (norm1): LayerNorm((384,), eps=1e-05, elementwise_affine=True)\n",
      "              (attn): WindowAttention3D(\n",
      "                (qkv): Linear(in_features=384, out_features=1152, bias=True)\n",
      "                (attn_drop): Dropout(p=0.0, inplace=False)\n",
      "                (proj): Linear(in_features=384, out_features=384, bias=True)\n",
      "                (proj_drop): Dropout(p=0.0, inplace=False)\n",
      "                (softmax): Softmax(dim=-1)\n",
      "              )\n",
      "              (drop_path): DropPath(drop_prob=0.036)\n",
      "              (norm2): LayerNorm((384,), eps=1e-05, elementwise_affine=True)\n",
      "              (mlp): Mlp(\n",
      "                (fc1): Linear(in_features=384, out_features=1536, bias=True)\n",
      "                (act): GELU(approximate='none')\n",
      "                (fc2): Linear(in_features=1536, out_features=384, bias=True)\n",
      "                (drop): Dropout(p=0.0, inplace=False)\n",
      "              )\n",
      "            )\n",
      "            (1): SwinTransformerBlock3D(\n",
      "              (norm1): LayerNorm((384,), eps=1e-05, elementwise_affine=True)\n",
      "              (attn): WindowAttention3D(\n",
      "                (qkv): Linear(in_features=384, out_features=1152, bias=True)\n",
      "                (attn_drop): Dropout(p=0.0, inplace=False)\n",
      "                (proj): Linear(in_features=384, out_features=384, bias=True)\n",
      "                (proj_drop): Dropout(p=0.0, inplace=False)\n",
      "                (softmax): Softmax(dim=-1)\n",
      "              )\n",
      "              (drop_path): DropPath(drop_prob=0.045)\n",
      "              (norm2): LayerNorm((384,), eps=1e-05, elementwise_affine=True)\n",
      "              (mlp): Mlp(\n",
      "                (fc1): Linear(in_features=384, out_features=1536, bias=True)\n",
      "                (act): GELU(approximate='none')\n",
      "                (fc2): Linear(in_features=1536, out_features=384, bias=True)\n",
      "                (drop): Dropout(p=0.0, inplace=False)\n",
      "              )\n",
      "            )\n",
      "            (2): SwinTransformerBlock3D(\n",
      "              (norm1): LayerNorm((384,), eps=1e-05, elementwise_affine=True)\n",
      "              (attn): WindowAttention3D(\n",
      "                (qkv): Linear(in_features=384, out_features=1152, bias=True)\n",
      "                (attn_drop): Dropout(p=0.0, inplace=False)\n",
      "                (proj): Linear(in_features=384, out_features=384, bias=True)\n",
      "                (proj_drop): Dropout(p=0.0, inplace=False)\n",
      "                (softmax): Softmax(dim=-1)\n",
      "              )\n",
      "              (drop_path): DropPath(drop_prob=0.055)\n",
      "              (norm2): LayerNorm((384,), eps=1e-05, elementwise_affine=True)\n",
      "              (mlp): Mlp(\n",
      "                (fc1): Linear(in_features=384, out_features=1536, bias=True)\n",
      "                (act): GELU(approximate='none')\n",
      "                (fc2): Linear(in_features=1536, out_features=384, bias=True)\n",
      "                (drop): Dropout(p=0.0, inplace=False)\n",
      "              )\n",
      "            )\n",
      "            (3): SwinTransformerBlock3D(\n",
      "              (norm1): LayerNorm((384,), eps=1e-05, elementwise_affine=True)\n",
      "              (attn): WindowAttention3D(\n",
      "                (qkv): Linear(in_features=384, out_features=1152, bias=True)\n",
      "                (attn_drop): Dropout(p=0.0, inplace=False)\n",
      "                (proj): Linear(in_features=384, out_features=384, bias=True)\n",
      "                (proj_drop): Dropout(p=0.0, inplace=False)\n",
      "                (softmax): Softmax(dim=-1)\n",
      "              )\n",
      "              (drop_path): DropPath(drop_prob=0.064)\n",
      "              (norm2): LayerNorm((384,), eps=1e-05, elementwise_affine=True)\n",
      "              (mlp): Mlp(\n",
      "                (fc1): Linear(in_features=384, out_features=1536, bias=True)\n",
      "                (act): GELU(approximate='none')\n",
      "                (fc2): Linear(in_features=1536, out_features=384, bias=True)\n",
      "                (drop): Dropout(p=0.0, inplace=False)\n",
      "              )\n",
      "            )\n",
      "            (4): SwinTransformerBlock3D(\n",
      "              (norm1): LayerNorm((384,), eps=1e-05, elementwise_affine=True)\n",
      "              (attn): WindowAttention3D(\n",
      "                (qkv): Linear(in_features=384, out_features=1152, bias=True)\n",
      "                (attn_drop): Dropout(p=0.0, inplace=False)\n",
      "                (proj): Linear(in_features=384, out_features=384, bias=True)\n",
      "                (proj_drop): Dropout(p=0.0, inplace=False)\n",
      "                (softmax): Softmax(dim=-1)\n",
      "              )\n",
      "              (drop_path): DropPath(drop_prob=0.073)\n",
      "              (norm2): LayerNorm((384,), eps=1e-05, elementwise_affine=True)\n",
      "              (mlp): Mlp(\n",
      "                (fc1): Linear(in_features=384, out_features=1536, bias=True)\n",
      "                (act): GELU(approximate='none')\n",
      "                (fc2): Linear(in_features=1536, out_features=384, bias=True)\n",
      "                (drop): Dropout(p=0.0, inplace=False)\n",
      "              )\n",
      "            )\n",
      "            (5): SwinTransformerBlock3D(\n",
      "              (norm1): LayerNorm((384,), eps=1e-05, elementwise_affine=True)\n",
      "              (attn): WindowAttention3D(\n",
      "                (qkv): Linear(in_features=384, out_features=1152, bias=True)\n",
      "                (attn_drop): Dropout(p=0.0, inplace=False)\n",
      "                (proj): Linear(in_features=384, out_features=384, bias=True)\n",
      "                (proj_drop): Dropout(p=0.0, inplace=False)\n",
      "                (softmax): Softmax(dim=-1)\n",
      "              )\n",
      "              (drop_path): DropPath(drop_prob=0.082)\n",
      "              (norm2): LayerNorm((384,), eps=1e-05, elementwise_affine=True)\n",
      "              (mlp): Mlp(\n",
      "                (fc1): Linear(in_features=384, out_features=1536, bias=True)\n",
      "                (act): GELU(approximate='none')\n",
      "                (fc2): Linear(in_features=1536, out_features=384, bias=True)\n",
      "                (drop): Dropout(p=0.0, inplace=False)\n",
      "              )\n",
      "            )\n",
      "          )\n",
      "          (downsample): PatchMerging(\n",
      "            (reduction): Linear(in_features=1536, out_features=768, bias=False)\n",
      "            (norm): LayerNorm((1536,), eps=1e-05, elementwise_affine=True)\n",
      "          )\n",
      "        )\n",
      "        (3): BasicLayer(\n",
      "          (blocks): ModuleList(\n",
      "            (0): SwinTransformerBlock3D(\n",
      "              (norm1): LayerNorm((768,), eps=1e-05, elementwise_affine=True)\n",
      "              (attn): WindowAttention3D(\n",
      "                (qkv): Linear(in_features=768, out_features=2304, bias=True)\n",
      "                (attn_drop): Dropout(p=0.0, inplace=False)\n",
      "                (proj): Linear(in_features=768, out_features=768, bias=True)\n",
      "                (proj_drop): Dropout(p=0.0, inplace=False)\n",
      "                (softmax): Softmax(dim=-1)\n",
      "              )\n",
      "              (drop_path): DropPath(drop_prob=0.091)\n",
      "              (norm2): LayerNorm((768,), eps=1e-05, elementwise_affine=True)\n",
      "              (mlp): Mlp(\n",
      "                (fc1): Linear(in_features=768, out_features=3072, bias=True)\n",
      "                (act): GELU(approximate='none')\n",
      "                (fc2): Linear(in_features=3072, out_features=768, bias=True)\n",
      "                (drop): Dropout(p=0.0, inplace=False)\n",
      "              )\n",
      "            )\n",
      "            (1): SwinTransformerBlock3D(\n",
      "              (norm1): LayerNorm((768,), eps=1e-05, elementwise_affine=True)\n",
      "              (attn): WindowAttention3D(\n",
      "                (qkv): Linear(in_features=768, out_features=2304, bias=True)\n",
      "                (attn_drop): Dropout(p=0.0, inplace=False)\n",
      "                (proj): Linear(in_features=768, out_features=768, bias=True)\n",
      "                (proj_drop): Dropout(p=0.0, inplace=False)\n",
      "                (softmax): Softmax(dim=-1)\n",
      "              )\n",
      "              (drop_path): DropPath(drop_prob=0.100)\n",
      "              (norm2): LayerNorm((768,), eps=1e-05, elementwise_affine=True)\n",
      "              (mlp): Mlp(\n",
      "                (fc1): Linear(in_features=768, out_features=3072, bias=True)\n",
      "                (act): GELU(approximate='none')\n",
      "                (fc2): Linear(in_features=3072, out_features=768, bias=True)\n",
      "                (drop): Dropout(p=0.0, inplace=False)\n",
      "              )\n",
      "            )\n",
      "          )\n",
      "        )\n",
      "      )\n",
      "      (norm): LayerNorm((768,), eps=1e-05, elementwise_affine=True)\n",
      "    )\n",
      "    (vqa_head): VQAHead(\n",
      "      (dropout): Dropout(p=0.5, inplace=False)\n",
      "      (fc_hid): Conv3d(768, 64, kernel_size=(1, 1, 1), stride=(1, 1, 1))\n",
      "      (fc_last): Conv3d(64, 1, kernel_size=(1, 1, 1), stride=(1, 1, 1))\n",
      "      (gelu): GELU(approximate='none')\n",
      "      (avg_pool): AdaptiveAvgPool3d(output_size=(1, 1, 1))\n",
      "      (fc): Linear(in_features=784, out_features=1, bias=True)\n",
      "    )\n",
      "  )\n",
      ")\n"
     ]
    }
   ],
   "source": [
    "weight_path = '/home/ly/code/LinVQATools/faster_vqa/change/best_SROCC_epoch_230.pth'\n",
    "weight = torch.load(weight_path)['state_dict']\n",
    "model_dict = dict(backbone_size='swin_tiny_grpb',\n",
    "    backbone={\"fragments\": dict(window_size=(4, 4, 4))},\n",
    "    backbone_preserve_keys='fragments')\n",
    "model = FasterVQA(**model_dict)\n",
    "model.load_state_dict(weight)\n",
    "print(model)"
   ],
   "metadata": {
    "collapsed": false,
    "ExecuteTime": {
     "start_time": "2023-07-08T18:55:07.257871Z",
     "end_time": "2023-07-08T18:55:13.368503Z"
    }
   }
  },
  {
   "cell_type": "markdown",
   "source": [
    "加载验证集"
   ],
   "metadata": {
    "collapsed": false
   }
  },
  {
   "cell_type": "code",
   "execution_count": 3,
   "outputs": [
    {
     "name": "stdout",
     "output_type": "stream",
     "text": [
      "07/08 18:55:13 - mmengine - \u001B[5m\u001B[4m\u001B[33mWARNING\u001B[0m - anno_root参数未找到，默认为/home/ly/code/LinVQATools/data/odv_vqa\n"
     ]
    }
   ],
   "source": [
    "dataset_dict = dict(anno_reader='ODVVQAReader',\n",
    "        prefix='temp/fragment',\n",
    "        phase='test',\n",
    "        split_file='/home/ly/code/LinVQATools/data/odv_vqa/tr_te_VQA_ODV.txt',\n",
    "        frame_sampler=dict(\n",
    "            name='FragmentSampleFrames',\n",
    "            fsize_t=32 // 8,\n",
    "            fragments_t=8,\n",
    "            clip_len=32,\n",
    "            frame_interval=2,\n",
    "            t_frag=8,\n",
    "            num_clips=1,\n",
    "        ),\n",
    "        spatial_sampler=dict(\n",
    "            name='PlaneSpatialFragmentSampler',\n",
    "            fragments_h=7,\n",
    "            fragments_w=7,\n",
    "            fsize_h=32,\n",
    "            fsize_w=32,\n",
    "            aligned=8,\n",
    "        ))\n",
    "dataset = DefaultDataset(**dataset_dict)\n",
    "dataloader = DataLoader(dataset=dataset,batch_size=1,num_workers=4,shuffle=False)"
   ],
   "metadata": {
    "collapsed": false,
    "ExecuteTime": {
     "start_time": "2023-07-08T18:55:13.366500Z",
     "end_time": "2023-07-08T18:55:13.369501Z"
    }
   }
  },
  {
   "cell_type": "code",
   "execution_count": 4,
   "outputs": [
    {
     "name": "stderr",
     "output_type": "stream",
     "text": [
      "  0%|          | 0/108 [00:00<?, ?it/s]"
     ]
    },
    {
     "name": "stdout",
     "output_type": "stream",
     "text": [
      "8 7 7\n"
     ]
    },
    {
     "name": "stderr",
     "output_type": "stream",
     "text": [
      "/home/ly/anaconda3/envs/torch1.13/lib/python3.8/site-packages/torch/utils/checkpoint.py:31: UserWarning: None of the inputs have requires_grad=True. Gradients will be None\n",
      "  warnings.warn(\"None of the inputs have requires_grad=True. Gradients will be None\")\n",
      "100%|██████████| 108/108 [01:18<00:00,  1.37it/s]\n"
     ]
    }
   ],
   "source": [
    "y = []\n",
    "y_pred = []\n",
    "model = model.cuda()\n",
    "for item in tqdm(dataloader):\n",
    "    inputs = item['inputs'].cuda()\n",
    "    result = model(inputs,gt_label=item['gt_label'],mode='predict')\n",
    "    y_pred.append(result[0])\n",
    "    y.append(result[1])"
   ],
   "metadata": {
    "collapsed": false,
    "ExecuteTime": {
     "start_time": "2023-07-08T18:55:13.366500Z",
     "end_time": "2023-07-08T18:56:32.393307Z"
    }
   }
  },
  {
   "cell_type": "code",
   "execution_count": 5,
   "outputs": [
    {
     "name": "stdout",
     "output_type": "stream",
     "text": [
      "0.8558785141997008\n"
     ]
    }
   ],
   "source": [
    "from scipy.stats import spearmanr\n",
    "\n",
    "y_pred = torch.stack(y_pred,dim=0).flatten().cpu().detach().numpy()\n",
    "y = torch.stack(y,dim=0).flatten().numpy()\n",
    "s = spearmanr(y, y_pred)[0]\n",
    "print(s)"
   ],
   "metadata": {
    "collapsed": false,
    "ExecuteTime": {
     "start_time": "2023-07-08T18:56:32.814231Z",
     "end_time": "2023-07-08T18:56:33.195183Z"
    }
   }
  },
  {
   "cell_type": "code",
   "execution_count": 6,
   "outputs": [
    {
     "name": "stdout",
     "output_type": "stream",
     "text": [
      "[0.51132804 0.5121804  0.3778674  0.5966643  0.52622783 0.38351288\n",
      " 0.5757952  0.55957365 0.4351227  0.6646226  0.5567569  0.29488623\n",
      " 0.6628805  0.522985   0.25827035 0.62213933 0.5569207  0.32290414\n",
      " 0.5357787  0.47965592 0.32013595 0.5746439  0.46648276 0.3666844\n",
      " 0.5680887  0.5283015  0.47307777 0.57668144 0.49099138 0.3588439\n",
      " 0.5733949  0.45492408 0.28146625 0.5985142  0.46595427 0.2991815\n",
      " 0.56138104 0.50505793 0.44462454 0.53615963 0.44455922 0.44559354\n",
      " 0.56366974 0.4463708  0.48651758 0.58086497 0.5357705  0.4452538\n",
      " 0.61498195 0.5618573  0.4033826  0.5898661  0.61411136 0.50728554\n",
      " 0.5738605  0.59103864 0.4383474  0.573973   0.51360047 0.44698453\n",
      " 0.62682134 0.5736339  0.46532336 0.6036083  0.48774067 0.35964543\n",
      " 0.61667264 0.4382963  0.26264408 0.62269986 0.5554357  0.4467364\n",
      " 0.63419855 0.5647622  0.30006748 0.6116221  0.5409302  0.20384605\n",
      " 0.646545   0.5678368  0.24719436 0.55914426 0.40730527 0.2633503\n",
      " 0.60309356 0.388904   0.26027983 0.62979597 0.4799649  0.3261121\n",
      " 0.5823717  0.42265964 0.2823331  0.57590073 0.41346386 0.2734945\n",
      " 0.62786585 0.5602354  0.46931475 0.6856137  0.41720724 0.270342\n",
      " 0.6750641  0.42204136 0.28681523 0.6826853  0.54643595 0.37922964]\n",
      "[ 0.05005448  0.03750291  0.00890807  0.05355513  0.03411333  0.01881119\n",
      "  0.05014558  0.03936783  0.0092156   0.05715641  0.0318487  -0.01613318\n",
      "  0.05016416  0.02826091 -0.00282764  0.05611814  0.02209303  0.00532111\n",
      "  0.03667255  0.02532695  0.02357469  0.04207551  0.0356909   0.02565484\n",
      "  0.0384766   0.04120392  0.03449297  0.05444017  0.00530649 -0.01507114\n",
      "  0.06108954  0.00400034 -0.03091452  0.06323469  0.02342135 -0.01738822\n",
      "  0.03665138  0.02000618 -0.00540432  0.03805359  0.00850586 -0.0044705\n",
      "  0.03879001  0.01874705  0.01013983  0.03441588  0.02272574 -0.00857451\n",
      "  0.03729519  0.03431764 -0.00441455  0.04623247  0.01837582  0.00421613\n",
      "  0.04346449  0.03214843  0.01059231  0.04913949  0.03912268  0.02393857\n",
      "  0.04946444  0.02044946  0.0071716   0.04746028  0.03767567  0.01372959\n",
      "  0.04396566  0.02641142  0.00852899  0.05038283  0.02735911  0.01029986\n",
      "  0.05850909  0.02601248 -0.00729943  0.04658746  0.01874788 -0.03886721\n",
      "  0.05110006  0.02322803 -0.03071834  0.06189707  0.00657717 -0.01828716\n",
      "  0.06855749  0.03314158 -0.0150581   0.06349453  0.01780223 -0.0105035\n",
      "  0.04831812  0.00505714 -0.03800462  0.05046867  0.0022542  -0.04073136\n",
      "  0.05615529  0.03904398 -0.0174129   0.04881804 -0.03461353 -0.06059529\n",
      "  0.057056   -0.02668224 -0.06237566  0.0538322   0.00442718 -0.0523048 ]\n",
      "[ 0.01078326  0.1371513   0.28878668  0.06111306  0.1850945   0.195401\n",
      "  0.07433939  0.16589534  0.34296674  0.09305853  0.23826993  0.456218\n",
      "  0.16123885  0.2403759   0.28654677  0.06095797  0.33599043  0.26969305\n",
      "  0.16905323  0.22638646  0.08438908  0.15388882  0.10957375  0.110136\n",
      "  0.18332273  0.11626232  0.12814805  0.03227979  0.4379265   0.50955534\n",
      " -0.0375005   0.41492063  0.59061146 -0.03383273  0.23174073  0.47306365\n",
      "  0.19486728  0.30499613  0.49866775  0.15562373  0.3595006   0.4902985\n",
      "  0.17576963  0.2589003   0.38511932  0.2367062   0.30851305  0.53099895\n",
      "  0.24203008  0.21868089  0.44752812  0.12754142  0.43035316  0.46512428\n",
      "  0.13921568  0.26955438  0.33242428  0.08257812  0.12237364  0.20759885\n",
      "  0.13217697  0.36913928  0.39360732  0.12900546  0.110984    0.2223495\n",
      "  0.17701602  0.17418209  0.17735417  0.11887157  0.28184462  0.34373778\n",
      "  0.04910767  0.3046374   0.37306178  0.14574748  0.35345143  0.59251815\n",
      "  0.13554442  0.3355565   0.55437773 -0.05982649  0.34153357  0.4462219\n",
      " -0.08248138  0.0574882   0.41086084 -0.0051493   0.30194265  0.4311471\n",
      "  0.0991905   0.37208825  0.66237926  0.07121402  0.39092183  0.68080807\n",
      "  0.06631297  0.16979557  0.64344376  0.1974333   0.7633426   0.8762949\n",
      "  0.10450411  0.6888638   0.9105719   0.14436334  0.5021641   0.9022776 ]\n"
     ]
    }
   ],
   "source": [
    "print(y)\n",
    "print(y_pred)\n",
    "print(y-y_pred*10)"
   ],
   "metadata": {
    "collapsed": false,
    "ExecuteTime": {
     "start_time": "2023-07-08T18:56:33.195183Z",
     "end_time": "2023-07-08T18:56:33.195183Z"
    }
   }
  },
  {
   "cell_type": "code",
   "execution_count": 17,
   "outputs": [
    {
     "data": {
      "text/plain": "<matplotlib.collections.PathCollection at 0x7f3bfadff970>"
     },
     "execution_count": 17,
     "metadata": {},
     "output_type": "execute_result"
    },
    {
     "data": {
      "text/plain": "<Figure size 1200x500 with 1 Axes>",
      "image/png": "[encoded data removed]"
     },
     "metadata": {},
     "output_type": "display_data"
    }
   ],
   "source": [
    "import matplotlib.pyplot as plt\n",
    "fig = plt.figure(figsize=(12, 5))\n",
    "plt.scatter(x=[i for i in range(0,2*len(y),2)],y=y/10,c='b',s=10)\n",
    "plt.scatter(x=[i for i in range(0,2*len(y_pred),2)],y=y_pred,c='r',s=10)"
   ],
   "metadata": {
    "collapsed": false,
    "ExecuteTime": {
     "start_time": "2023-07-08T19:14:39.386708Z",
     "end_time": "2023-07-08T19:14:39.795811Z"
    }
   }
  }
 ],
 "metadata": {
  "kernelspec": {
   "display_name": "Python 3",
   "language": "python",
   "name": "python3"
  },
  "language_info": {
   "codemirror_mode": {
    "name": "ipython",
    "version": 2
   },
   "file_extension": ".py",
   "mimetype": "text/x-python",
   "name": "python",
   "nbconvert_exporter": "python",
   "pygments_lexer": "ipython2",
   "version": "2.7.6"
  }
 },
 "nbformat": 4,
 "nbformat_minor": 0
}
