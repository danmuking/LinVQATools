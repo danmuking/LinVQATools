{
 "cells": [
  {
   "cell_type": "code",
   "execution_count": 1,
   "metadata": {
    "collapsed": true,
    "ExecuteTime": {
     "end_time": "2023-07-10T13:54:42.788973Z",
     "start_time": "2023-07-10T13:54:39.615784800Z"
    }
   },
   "outputs": [],
   "source": [
    "import torch\n",
    "from torch.utils.data import DataLoader\n",
    "from tqdm import tqdm\n",
    "\n",
    "from data.default_dataset import DefaultDataset\n",
    "from models.faster_vqa import FasterVQA"
   ]
  },
  {
   "cell_type": "markdown",
   "source": [
    "加载模型和权重"
   ],
   "metadata": {
    "collapsed": false
   }
  },
  {
   "cell_type": "code",
   "execution_count": 2,
   "outputs": [
    {
     "name": "stdout",
     "output_type": "stream",
     "text": [
      "swin_tiny_grpb\n"
     ]
    },
    {
     "name": "stderr",
     "output_type": "stream",
     "text": [
      "/home/ly/anaconda3/envs/torch1.13/lib/python3.8/site-packages/torch/functional.py:504: UserWarning: torch.meshgrid: in an upcoming release, it will be required to pass the indexing argument. (Triggered internally at ../aten/src/ATen/native/TensorShape.cpp:3190.)\n",
      "  return _VF.meshgrid(tensors, **kwargs)  # type: ignore[attr-defined]\n"
     ]
    },
    {
     "name": "stdout",
     "output_type": "stream",
     "text": [
      "None False\n",
      "Setting backbone: fragments_backbone\n",
      "FasterVQA(\n",
      "  (data_preprocessor): BaseDataPreprocessor()\n",
      "  (model): DiViDeAddEvaluator(\n",
      "    (fragments_backbone): SwinTransformer3D(\n",
      "      (patch_embed): PatchEmbed3D(\n",
      "        (proj): Conv3d(3, 96, kernel_size=(2, 4, 4), stride=(2, 4, 4))\n",
      "        (norm): LayerNorm((96,), eps=1e-05, elementwise_affine=True)\n",
      "      )\n",
      "      (pos_drop): Dropout(p=0.0, inplace=False)\n",
      "      (layers): ModuleList(\n",
      "        (0): BasicLayer(\n",
      "          (blocks): ModuleList(\n",
      "            (0): SwinTransformerBlock3D(\n",
      "              (norm1): LayerNorm((96,), eps=1e-05, elementwise_affine=True)\n",
      "              (attn): WindowAttention3D(\n",
      "                (qkv): Linear(in_features=96, out_features=288, bias=True)\n",
      "                (attn_drop): Dropout(p=0.0, inplace=False)\n",
      "                (proj): Linear(in_features=96, out_features=96, bias=True)\n",
      "                (proj_drop): Dropout(p=0.0, inplace=False)\n",
      "                (softmax): Softmax(dim=-1)\n",
      "              )\n",
      "              (drop_path): Identity()\n",
      "              (norm2): LayerNorm((96,), eps=1e-05, elementwise_affine=True)\n",
      "              (mlp): Mlp(\n",
      "                (fc1): Linear(in_features=96, out_features=384, bias=True)\n",
      "                (act): GELU(approximate='none')\n",
      "                (fc2): Linear(in_features=384, out_features=96, bias=True)\n",
      "                (drop): Dropout(p=0.0, inplace=False)\n",
      "              )\n",
      "            )\n",
      "            (1): SwinTransformerBlock3D(\n",
      "              (norm1): LayerNorm((96,), eps=1e-05, elementwise_affine=True)\n",
      "              (attn): WindowAttention3D(\n",
      "                (qkv): Linear(in_features=96, out_features=288, bias=True)\n",
      "                (attn_drop): Dropout(p=0.0, inplace=False)\n",
      "                (proj): Linear(in_features=96, out_features=96, bias=True)\n",
      "                (proj_drop): Dropout(p=0.0, inplace=False)\n",
      "                (softmax): Softmax(dim=-1)\n",
      "              )\n",
      "              (drop_path): DropPath(drop_prob=0.009)\n",
      "              (norm2): LayerNorm((96,), eps=1e-05, elementwise_affine=True)\n",
      "              (mlp): Mlp(\n",
      "                (fc1): Linear(in_features=96, out_features=384, bias=True)\n",
      "                (act): GELU(approximate='none')\n",
      "                (fc2): Linear(in_features=384, out_features=96, bias=True)\n",
      "                (drop): Dropout(p=0.0, inplace=False)\n",
      "              )\n",
      "            )\n",
      "          )\n",
      "          (downsample): PatchMerging(\n",
      "            (reduction): Linear(in_features=384, out_features=192, bias=False)\n",
      "            (norm): LayerNorm((384,), eps=1e-05, elementwise_affine=True)\n",
      "          )\n",
      "        )\n",
      "        (1): BasicLayer(\n",
      "          (blocks): ModuleList(\n",
      "            (0): SwinTransformerBlock3D(\n",
      "              (norm1): LayerNorm((192,), eps=1e-05, elementwise_affine=True)\n",
      "              (attn): WindowAttention3D(\n",
      "                (qkv): Linear(in_features=192, out_features=576, bias=True)\n",
      "                (attn_drop): Dropout(p=0.0, inplace=False)\n",
      "                (proj): Linear(in_features=192, out_features=192, bias=True)\n",
      "                (proj_drop): Dropout(p=0.0, inplace=False)\n",
      "                (softmax): Softmax(dim=-1)\n",
      "              )\n",
      "              (drop_path): DropPath(drop_prob=0.018)\n",
      "              (norm2): LayerNorm((192,), eps=1e-05, elementwise_affine=True)\n",
      "              (mlp): Mlp(\n",
      "                (fc1): Linear(in_features=192, out_features=768, bias=True)\n",
      "                (act): GELU(approximate='none')\n",
      "                (fc2): Linear(in_features=768, out_features=192, bias=True)\n",
      "                (drop): Dropout(p=0.0, inplace=False)\n",
      "              )\n",
      "            )\n",
      "            (1): SwinTransformerBlock3D(\n",
      "              (norm1): LayerNorm((192,), eps=1e-05, elementwise_affine=True)\n",
      "              (attn): WindowAttention3D(\n",
      "                (qkv): Linear(in_features=192, out_features=576, bias=True)\n",
      "                (attn_drop): Dropout(p=0.0, inplace=False)\n",
      "                (proj): Linear(in_features=192, out_features=192, bias=True)\n",
      "                (proj_drop): Dropout(p=0.0, inplace=False)\n",
      "                (softmax): Softmax(dim=-1)\n",
      "              )\n",
      "              (drop_path): DropPath(drop_prob=0.027)\n",
      "              (norm2): LayerNorm((192,), eps=1e-05, elementwise_affine=True)\n",
      "              (mlp): Mlp(\n",
      "                (fc1): Linear(in_features=192, out_features=768, bias=True)\n",
      "                (act): GELU(approximate='none')\n",
      "                (fc2): Linear(in_features=768, out_features=192, bias=True)\n",
      "                (drop): Dropout(p=0.0, inplace=False)\n",
      "              )\n",
      "            )\n",
      "          )\n",
      "          (downsample): PatchMerging(\n",
      "            (reduction): Linear(in_features=768, out_features=384, bias=False)\n",
      "            (norm): LayerNorm((768,), eps=1e-05, elementwise_affine=True)\n",
      "          )\n",
      "        )\n",
      "        (2): BasicLayer(\n",
      "          (blocks): ModuleList(\n",
      "            (0): SwinTransformerBlock3D(\n",
      "              (norm1): LayerNorm((384,), eps=1e-05, elementwise_affine=True)\n",
      "              (attn): WindowAttention3D(\n",
      "                (qkv): Linear(in_features=384, out_features=1152, bias=True)\n",
      "                (attn_drop): Dropout(p=0.0, inplace=False)\n",
      "                (proj): Linear(in_features=384, out_features=384, bias=True)\n",
      "                (proj_drop): Dropout(p=0.0, inplace=False)\n",
      "                (softmax): Softmax(dim=-1)\n",
      "              )\n",
      "              (drop_path): DropPath(drop_prob=0.036)\n",
      "              (norm2): LayerNorm((384,), eps=1e-05, elementwise_affine=True)\n",
      "              (mlp): Mlp(\n",
      "                (fc1): Linear(in_features=384, out_features=1536, bias=True)\n",
      "                (act): GELU(approximate='none')\n",
      "                (fc2): Linear(in_features=1536, out_features=384, bias=True)\n",
      "                (drop): Dropout(p=0.0, inplace=False)\n",
      "              )\n",
      "            )\n",
      "            (1): SwinTransformerBlock3D(\n",
      "              (norm1): LayerNorm((384,), eps=1e-05, elementwise_affine=True)\n",
      "              (attn): WindowAttention3D(\n",
      "                (qkv): Linear(in_features=384, out_features=1152, bias=True)\n",
      "                (attn_drop): Dropout(p=0.0, inplace=False)\n",
      "                (proj): Linear(in_features=384, out_features=384, bias=True)\n",
      "                (proj_drop): Dropout(p=0.0, inplace=False)\n",
      "                (softmax): Softmax(dim=-1)\n",
      "              )\n",
      "              (drop_path): DropPath(drop_prob=0.045)\n",
      "              (norm2): LayerNorm((384,), eps=1e-05, elementwise_affine=True)\n",
      "              (mlp): Mlp(\n",
      "                (fc1): Linear(in_features=384, out_features=1536, bias=True)\n",
      "                (act): GELU(approximate='none')\n",
      "                (fc2): Linear(in_features=1536, out_features=384, bias=True)\n",
      "                (drop): Dropout(p=0.0, inplace=False)\n",
      "              )\n",
      "            )\n",
      "            (2): SwinTransformerBlock3D(\n",
      "              (norm1): LayerNorm((384,), eps=1e-05, elementwise_affine=True)\n",
      "              (attn): WindowAttention3D(\n",
      "                (qkv): Linear(in_features=384, out_features=1152, bias=True)\n",
      "                (attn_drop): Dropout(p=0.0, inplace=False)\n",
      "                (proj): Linear(in_features=384, out_features=384, bias=True)\n",
      "                (proj_drop): Dropout(p=0.0, inplace=False)\n",
      "                (softmax): Softmax(dim=-1)\n",
      "              )\n",
      "              (drop_path): DropPath(drop_prob=0.055)\n",
      "              (norm2): LayerNorm((384,), eps=1e-05, elementwise_affine=True)\n",
      "              (mlp): Mlp(\n",
      "                (fc1): Linear(in_features=384, out_features=1536, bias=True)\n",
      "                (act): GELU(approximate='none')\n",
      "                (fc2): Linear(in_features=1536, out_features=384, bias=True)\n",
      "                (drop): Dropout(p=0.0, inplace=False)\n",
      "              )\n",
      "            )\n",
      "            (3): SwinTransformerBlock3D(\n",
      "              (norm1): LayerNorm((384,), eps=1e-05, elementwise_affine=True)\n",
      "              (attn): WindowAttention3D(\n",
      "                (qkv): Linear(in_features=384, out_features=1152, bias=True)\n",
      "                (attn_drop): Dropout(p=0.0, inplace=False)\n",
      "                (proj): Linear(in_features=384, out_features=384, bias=True)\n",
      "                (proj_drop): Dropout(p=0.0, inplace=False)\n",
      "                (softmax): Softmax(dim=-1)\n",
      "              )\n",
      "              (drop_path): DropPath(drop_prob=0.064)\n",
      "              (norm2): LayerNorm((384,), eps=1e-05, elementwise_affine=True)\n",
      "              (mlp): Mlp(\n",
      "                (fc1): Linear(in_features=384, out_features=1536, bias=True)\n",
      "                (act): GELU(approximate='none')\n",
      "                (fc2): Linear(in_features=1536, out_features=384, bias=True)\n",
      "                (drop): Dropout(p=0.0, inplace=False)\n",
      "              )\n",
      "            )\n",
      "            (4): SwinTransformerBlock3D(\n",
      "              (norm1): LayerNorm((384,), eps=1e-05, elementwise_affine=True)\n",
      "              (attn): WindowAttention3D(\n",
      "                (qkv): Linear(in_features=384, out_features=1152, bias=True)\n",
      "                (attn_drop): Dropout(p=0.0, inplace=False)\n",
      "                (proj): Linear(in_features=384, out_features=384, bias=True)\n",
      "                (proj_drop): Dropout(p=0.0, inplace=False)\n",
      "                (softmax): Softmax(dim=-1)\n",
      "              )\n",
      "              (drop_path): DropPath(drop_prob=0.073)\n",
      "              (norm2): LayerNorm((384,), eps=1e-05, elementwise_affine=True)\n",
      "              (mlp): Mlp(\n",
      "                (fc1): Linear(in_features=384, out_features=1536, bias=True)\n",
      "                (act): GELU(approximate='none')\n",
      "                (fc2): Linear(in_features=1536, out_features=384, bias=True)\n",
      "                (drop): Dropout(p=0.0, inplace=False)\n",
      "              )\n",
      "            )\n",
      "            (5): SwinTransformerBlock3D(\n",
      "              (norm1): LayerNorm((384,), eps=1e-05, elementwise_affine=True)\n",
      "              (attn): WindowAttention3D(\n",
      "                (qkv): Linear(in_features=384, out_features=1152, bias=True)\n",
      "                (attn_drop): Dropout(p=0.0, inplace=False)\n",
      "                (proj): Linear(in_features=384, out_features=384, bias=True)\n",
      "                (proj_drop): Dropout(p=0.0, inplace=False)\n",
      "                (softmax): Softmax(dim=-1)\n",
      "              )\n",
      "              (drop_path): DropPath(drop_prob=0.082)\n",
      "              (norm2): LayerNorm((384,), eps=1e-05, elementwise_affine=True)\n",
      "              (mlp): Mlp(\n",
      "                (fc1): Linear(in_features=384, out_features=1536, bias=True)\n",
      "                (act): GELU(approximate='none')\n",
      "                (fc2): Linear(in_features=1536, out_features=384, bias=True)\n",
      "                (drop): Dropout(p=0.0, inplace=False)\n",
      "              )\n",
      "            )\n",
      "          )\n",
      "          (downsample): PatchMerging(\n",
      "            (reduction): Linear(in_features=1536, out_features=768, bias=False)\n",
      "            (norm): LayerNorm((1536,), eps=1e-05, elementwise_affine=True)\n",
      "          )\n",
      "        )\n",
      "        (3): BasicLayer(\n",
      "          (blocks): ModuleList(\n",
      "            (0): SwinTransformerBlock3D(\n",
      "              (norm1): LayerNorm((768,), eps=1e-05, elementwise_affine=True)\n",
      "              (attn): WindowAttention3D(\n",
      "                (qkv): Linear(in_features=768, out_features=2304, bias=True)\n",
      "                (attn_drop): Dropout(p=0.0, inplace=False)\n",
      "                (proj): Linear(in_features=768, out_features=768, bias=True)\n",
      "                (proj_drop): Dropout(p=0.0, inplace=False)\n",
      "                (softmax): Softmax(dim=-1)\n",
      "              )\n",
      "              (drop_path): DropPath(drop_prob=0.091)\n",
      "              (norm2): LayerNorm((768,), eps=1e-05, elementwise_affine=True)\n",
      "              (mlp): Mlp(\n",
      "                (fc1): Linear(in_features=768, out_features=3072, bias=True)\n",
      "                (act): GELU(approximate='none')\n",
      "                (fc2): Linear(in_features=3072, out_features=768, bias=True)\n",
      "                (drop): Dropout(p=0.0, inplace=False)\n",
      "              )\n",
      "            )\n",
      "            (1): SwinTransformerBlock3D(\n",
      "              (norm1): LayerNorm((768,), eps=1e-05, elementwise_affine=True)\n",
      "              (attn): WindowAttention3D(\n",
      "                (qkv): Linear(in_features=768, out_features=2304, bias=True)\n",
      "                (attn_drop): Dropout(p=0.0, inplace=False)\n",
      "                (proj): Linear(in_features=768, out_features=768, bias=True)\n",
      "                (proj_drop): Dropout(p=0.0, inplace=False)\n",
      "                (softmax): Softmax(dim=-1)\n",
      "              )\n",
      "              (drop_path): DropPath(drop_prob=0.100)\n",
      "              (norm2): LayerNorm((768,), eps=1e-05, elementwise_affine=True)\n",
      "              (mlp): Mlp(\n",
      "                (fc1): Linear(in_features=768, out_features=3072, bias=True)\n",
      "                (act): GELU(approximate='none')\n",
      "                (fc2): Linear(in_features=3072, out_features=768, bias=True)\n",
      "                (drop): Dropout(p=0.0, inplace=False)\n",
      "              )\n",
      "            )\n",
      "          )\n",
      "        )\n",
      "      )\n",
      "      (norm): LayerNorm((768,), eps=1e-05, elementwise_affine=True)\n",
      "    )\n",
      "    (vqa_head): VQAHead(\n",
      "      (dropout): Dropout(p=0.5, inplace=False)\n",
      "      (fc_hid): Conv3d(768, 64, kernel_size=(1, 1, 1), stride=(1, 1, 1))\n",
      "      (fc_last): Conv3d(64, 1, kernel_size=(1, 1, 1), stride=(1, 1, 1))\n",
      "      (gelu): GELU(approximate='none')\n",
      "      (fc): Linear(in_features=784, out_features=1, bias=True)\n",
      "    )\n",
      "  )\n",
      ")\n"
     ]
    }
   ],
   "source": [
    "weight_path = '/home/ly/code/LinVQATools/faster_vqa/change_fc_loss/best_SROCC_epoch_105.pth'\n",
    "weight = torch.load(weight_path)['state_dict']\n",
    "model_dict = dict(backbone_size='swin_tiny_grpb',\n",
    "    backbone={\"fragments\": dict(window_size=(4, 4, 4))},\n",
    "    backbone_preserve_keys='fragments')\n",
    "model = FasterVQA(**model_dict)\n",
    "model.load_state_dict(weight)\n",
    "print(model)"
   ],
   "metadata": {
    "collapsed": false,
    "ExecuteTime": {
     "end_time": "2023-07-10T13:54:44.989809200Z",
     "start_time": "2023-07-10T13:54:42.788973Z"
    }
   }
  },
  {
   "cell_type": "markdown",
   "source": [
    "加载验证集"
   ],
   "metadata": {
    "collapsed": false
   }
  },
  {
   "cell_type": "code",
   "execution_count": 3,
   "outputs": [
    {
     "name": "stdout",
     "output_type": "stream",
     "text": [
      "07/10 21:54:43 - mmengine - \u001B[5m\u001B[4m\u001B[33mWARNING\u001B[0m - anno_root参数未找到，默认为/home/ly/code/LinVQATools/data/odv_vqa\n"
     ]
    }
   ],
   "source": [
    "dataset_dict = dict(anno_reader='ODVVQAReader',\n",
    "        prefix='temp/fragment',\n",
    "        phase='test',\n",
    "        split_file='/home/ly/code/LinVQATools/data/odv_vqa/tr_te_VQA_ODV.txt',\n",
    "        frame_sampler=dict(\n",
    "            name='FragmentSampleFrames',\n",
    "            fsize_t=32 // 8,\n",
    "            fragments_t=8,\n",
    "            clip_len=32,\n",
    "            frame_interval=2,\n",
    "            t_frag=8,\n",
    "            num_clips=1,\n",
    "        ),\n",
    "        spatial_sampler=dict(\n",
    "            name='PlaneSpatialFragmentSampler',\n",
    "            fragments_h=7,\n",
    "            fragments_w=7,\n",
    "            fsize_h=32,\n",
    "            fsize_w=32,\n",
    "            aligned=8,\n",
    "        ))\n",
    "dataset = DefaultDataset(**dataset_dict)\n",
    "dataloader = DataLoader(dataset=dataset,batch_size=1,num_workers=4,shuffle=False)"
   ],
   "metadata": {
    "collapsed": false,
    "ExecuteTime": {
     "end_time": "2023-07-10T13:54:44.991806300Z",
     "start_time": "2023-07-10T13:54:44.987812800Z"
    }
   }
  },
  {
   "cell_type": "code",
   "execution_count": 4,
   "outputs": [
    {
     "name": "stderr",
     "output_type": "stream",
     "text": [
      "  0%|          | 0/108 [00:00<?, ?it/s]"
     ]
    },
    {
     "name": "stdout",
     "output_type": "stream",
     "text": [
      "07/10 21:54:46 - mmengine - \u001B[4m\u001B[97mINFO\u001B[0m - 尝试加载/data/ly/temp/fragment/0/VQA_ODV/Group1/G1BikingToWork_ERP_3840x2160_fps23.976_qp27_12306k\n",
      "07/10 21:54:46 - mmengine - \u001B[4m\u001B[97mINFO\u001B[0m - 尝试加载/data/ly/temp/fragment/0/VQA_ODV/Group1/G1BikingToWork_ERP_3840x2160_fps23.976_qp37_3596k\n",
      "07/10 21:54:46 - mmengine - \u001B[4m\u001B[97mINFO\u001B[0m - 尝试加载/data/ly/temp/fragment/0/VQA_ODV/Group1/G1BikingToWork_RCMP_3840x2160_fps23.976_qp27_9939k_ERP\n",
      "07/10 21:54:46 - mmengine - \u001B[4m\u001B[97mINFO\u001B[0m - 尝试加载/data/ly/temp/fragment/0/VQA_ODV/Group1/G1BikingToWork_ERP_3840x2160_fps23.976_qp42_1855k\n",
      "07/10 21:54:46 - mmengine - \u001B[4m\u001B[97mINFO\u001B[0m - 尝试加载/data/ly/temp/fragment/0/VQA_ODV/Group1/G1BikingToWork_RCMP_3840x2160_fps23.976_qp37_2889k_ERP\n",
      "07/10 21:54:46 - mmengine - \u001B[4m\u001B[97mINFO\u001B[0m - 尝试加载/data/ly/temp/fragment/0/VQA_ODV/Group1/G1BikingToWork_TSP_3840x2160_fps23.976_qp37_3252k_ERP\n",
      "07/10 21:54:46 - mmengine - \u001B[4m\u001B[97mINFO\u001B[0m - 尝试加载/data/ly/temp/fragment/0/VQA_ODV/Group1/G1BikingToWork_TSP_3840x2160_fps23.976_qp27_10985k_ERP\n",
      "07/10 21:54:46 - mmengine - \u001B[4m\u001B[97mINFO\u001B[0m - 尝试加载/data/ly/temp/fragment/0/VQA_ODV/Group1/G1BikingToWork_RCMP_3840x2160_fps23.976_qp42_1484k_ERP\n",
      "07/10 21:54:46 - mmengine - \u001B[4m\u001B[97mINFO\u001B[0m - 尝试加载/data/ly/temp/fragment/0/VQA_ODV/Group1/G1BikingToWork_TSP_3840x2160_fps23.976_qp42_1680k_ERP\n",
      "8 7 7\n"
     ]
    },
    {
     "name": "stderr",
     "output_type": "stream",
     "text": [
      "/home/ly/anaconda3/envs/torch1.13/lib/python3.8/site-packages/torch/utils/checkpoint.py:31: UserWarning: None of the inputs have requires_grad=True. Gradients will be None\n",
      "  warnings.warn(\"None of the inputs have requires_grad=True. Gradients will be None\")\n",
      "  1%|          | 1/108 [00:03<06:25,  3.60s/it]"
     ]
    },
    {
     "name": "stdout",
     "output_type": "stream",
     "text": [
      "07/10 21:54:49 - mmengine - \u001B[4m\u001B[97mINFO\u001B[0m - 尝试加载/data/ly/temp/fragment/0/VQA_ODV/Group1/G1LandSalt_ERP_6144x3072_fps29.97_qp27_9229k\n",
      "07/10 21:54:49 - mmengine - \u001B[4m\u001B[97mINFO\u001B[0m - 尝试加载/data/ly/temp/fragment/0/VQA_ODV/Group1/G1LandSalt_ERP_6144x3072_fps29.97_qp37_2048k\n"
     ]
    },
    {
     "name": "stderr",
     "output_type": "stream",
     "text": [
      "  3%|▎         | 3/108 [00:04<02:19,  1.33s/it]"
     ]
    },
    {
     "name": "stdout",
     "output_type": "stream",
     "text": [
      "07/10 21:54:50 - mmengine - \u001B[4m\u001B[97mINFO\u001B[0m - 尝试加载/data/ly/temp/fragment/0/VQA_ODV/Group1/G1LandSalt_ERP_6144x3072_fps29.97_qp42_880k\n"
     ]
    },
    {
     "name": "stderr",
     "output_type": "stream",
     "text": [
      "  4%|▎         | 4/108 [00:05<01:54,  1.11s/it]"
     ]
    },
    {
     "name": "stdout",
     "output_type": "stream",
     "text": [
      "07/10 21:54:51 - mmengine - \u001B[4m\u001B[97mINFO\u001B[0m - 尝试加载/data/ly/temp/fragment/0/VQA_ODV/Group1/G1LandSalt_RCMP_6144x3072_fps29.97_qp27_8296k_ERP\n"
     ]
    },
    {
     "name": "stderr",
     "output_type": "stream",
     "text": [
      "  5%|▍         | 5/108 [00:06<01:48,  1.05s/it]"
     ]
    },
    {
     "name": "stdout",
     "output_type": "stream",
     "text": [
      "07/10 21:54:52 - mmengine - \u001B[4m\u001B[97mINFO\u001B[0m - 尝试加载/data/ly/temp/fragment/0/VQA_ODV/Group1/G1LandSalt_RCMP_6144x3072_fps29.97_qp37_1961k_ERP\n"
     ]
    },
    {
     "name": "stderr",
     "output_type": "stream",
     "text": [
      "  6%|▌         | 6/108 [00:07<01:42,  1.00s/it]"
     ]
    },
    {
     "name": "stdout",
     "output_type": "stream",
     "text": [
      "07/10 21:54:53 - mmengine - \u001B[4m\u001B[97mINFO\u001B[0m - 尝试加载/data/ly/temp/fragment/0/VQA_ODV/Group1/G1LandSalt_RCMP_6144x3072_fps29.97_qp42_838k_ERP\n"
     ]
    },
    {
     "name": "stderr",
     "output_type": "stream",
     "text": [
      "  6%|▋         | 7/108 [00:08<01:35,  1.06it/s]"
     ]
    },
    {
     "name": "stdout",
     "output_type": "stream",
     "text": [
      "07/10 21:54:54 - mmengine - \u001B[4m\u001B[97mINFO\u001B[0m - 尝试加载/data/ly/temp/fragment/0/VQA_ODV/Group1/G1LandSalt_TSP_6144x3072_fps29.97_qp27_7639k_ERP\n"
     ]
    },
    {
     "name": "stderr",
     "output_type": "stream",
     "text": [
      "  7%|▋         | 8/108 [00:08<01:35,  1.05it/s]"
     ]
    },
    {
     "name": "stdout",
     "output_type": "stream",
     "text": [
      "07/10 21:54:55 - mmengine - \u001B[4m\u001B[97mINFO\u001B[0m - 尝试加载/data/ly/temp/fragment/0/VQA_ODV/Group1/G1LandSalt_TSP_6144x3072_fps29.97_qp37_1588k_ERP\n"
     ]
    },
    {
     "name": "stderr",
     "output_type": "stream",
     "text": [
      "  8%|▊         | 9/108 [00:09<01:32,  1.07it/s]"
     ]
    },
    {
     "name": "stdout",
     "output_type": "stream",
     "text": [
      "07/10 21:54:56 - mmengine - \u001B[4m\u001B[97mINFO\u001B[0m - 尝试加载/data/ly/temp/fragment/0/VQA_ODV/Group1/G1LandSalt_TSP_6144x3072_fps29.97_qp42_715k_ERP\n"
     ]
    },
    {
     "name": "stderr",
     "output_type": "stream",
     "text": [
      "  9%|▉         | 10/108 [00:10<01:29,  1.10it/s]"
     ]
    },
    {
     "name": "stdout",
     "output_type": "stream",
     "text": [
      "07/10 21:54:56 - mmengine - \u001B[4m\u001B[97mINFO\u001B[0m - 尝试加载/data/ly/temp/fragment/0/VQA_ODV/Group3/G3BackcountrySkiing_ERP_3840x1920_fps25_qp27_19131k\n"
     ]
    },
    {
     "name": "stderr",
     "output_type": "stream",
     "text": [
      " 10%|█         | 11/108 [00:11<01:30,  1.07it/s]"
     ]
    },
    {
     "name": "stdout",
     "output_type": "stream",
     "text": [
      "07/10 21:54:57 - mmengine - \u001B[4m\u001B[97mINFO\u001B[0m - 尝试加载/data/ly/temp/fragment/0/VQA_ODV/Group3/G3BackcountrySkiing_ERP_3840x1920_fps25_qp37_4153k\n"
     ]
    },
    {
     "name": "stderr",
     "output_type": "stream",
     "text": [
      " 11%|█         | 12/108 [00:12<01:28,  1.09it/s]"
     ]
    },
    {
     "name": "stdout",
     "output_type": "stream",
     "text": [
      "07/10 21:54:58 - mmengine - \u001B[4m\u001B[97mINFO\u001B[0m - 尝试加载/data/ly/temp/fragment/0/VQA_ODV/Group3/G3BackcountrySkiing_ERP_3840x1920_fps25_qp42_1608k\n"
     ]
    },
    {
     "name": "stderr",
     "output_type": "stream",
     "text": [
      " 12%|█▏        | 13/108 [00:13<01:25,  1.12it/s]"
     ]
    },
    {
     "name": "stdout",
     "output_type": "stream",
     "text": [
      "07/10 21:54:59 - mmengine - \u001B[4m\u001B[97mINFO\u001B[0m - 尝试加载/data/ly/temp/fragment/0/VQA_ODV/Group3/G3BackcountrySkiing_RCMP_3840x1920_fps25_qp27_15973k_ERP\n"
     ]
    },
    {
     "name": "stderr",
     "output_type": "stream",
     "text": [
      " 13%|█▎        | 14/108 [00:14<01:27,  1.07it/s]"
     ]
    },
    {
     "name": "stdout",
     "output_type": "stream",
     "text": [
      "07/10 21:55:00 - mmengine - \u001B[4m\u001B[97mINFO\u001B[0m - 尝试加载/data/ly/temp/fragment/0/VQA_ODV/Group3/G3BackcountrySkiing_RCMP_3840x1920_fps25_qp37_3521k_ERP\n"
     ]
    },
    {
     "name": "stderr",
     "output_type": "stream",
     "text": [
      " 14%|█▍        | 15/108 [00:15<01:24,  1.10it/s]"
     ]
    },
    {
     "name": "stdout",
     "output_type": "stream",
     "text": [
      "07/10 21:55:01 - mmengine - \u001B[4m\u001B[97mINFO\u001B[0m - 尝试加载/data/ly/temp/fragment/0/VQA_ODV/Group3/G3BackcountrySkiing_RCMP_3840x1920_fps25_qp42_1350k_ERP\n"
     ]
    },
    {
     "name": "stderr",
     "output_type": "stream",
     "text": [
      " 15%|█▍        | 16/108 [00:16<01:22,  1.12it/s]"
     ]
    },
    {
     "name": "stdout",
     "output_type": "stream",
     "text": [
      "07/10 21:55:02 - mmengine - \u001B[4m\u001B[97mINFO\u001B[0m - 尝试加载/data/ly/temp/fragment/0/VQA_ODV/Group3/G3BackcountrySkiing_TSP_3840x1920_fps25_qp27_20563k_ERP\n"
     ]
    },
    {
     "name": "stderr",
     "output_type": "stream",
     "text": [
      " 16%|█▌        | 17/108 [00:17<01:24,  1.08it/s]"
     ]
    },
    {
     "name": "stdout",
     "output_type": "stream",
     "text": [
      "07/10 21:55:03 - mmengine - \u001B[4m\u001B[97mINFO\u001B[0m - 尝试加载/data/ly/temp/fragment/0/VQA_ODV/Group3/G3BackcountrySkiing_TSP_3840x1920_fps25_qp37_5199k_ERP\n"
     ]
    },
    {
     "name": "stderr",
     "output_type": "stream",
     "text": [
      " 17%|█▋        | 18/108 [00:18<01:21,  1.10it/s]"
     ]
    },
    {
     "name": "stdout",
     "output_type": "stream",
     "text": [
      "07/10 21:55:04 - mmengine - \u001B[4m\u001B[97mINFO\u001B[0m - 尝试加载/data/ly/temp/fragment/0/VQA_ODV/Group3/G3BackcountrySkiing_TSP_3840x1920_fps25_qp42_2098k_ERP\n"
     ]
    },
    {
     "name": "stderr",
     "output_type": "stream",
     "text": [
      " 18%|█▊        | 19/108 [00:18<01:19,  1.12it/s]"
     ]
    },
    {
     "name": "stdout",
     "output_type": "stream",
     "text": [
      "07/10 21:55:05 - mmengine - \u001B[4m\u001B[97mINFO\u001B[0m - 尝试加载/data/ly/temp/fragment/0/VQA_ODV/Group3/G3SkyrimHelgen_ERP_3840x2160_fps29.97_qp27_12839k\n"
     ]
    },
    {
     "name": "stderr",
     "output_type": "stream",
     "text": [
      " 19%|█▊        | 20/108 [00:19<01:20,  1.09it/s]"
     ]
    },
    {
     "name": "stdout",
     "output_type": "stream",
     "text": [
      "07/10 21:55:06 - mmengine - \u001B[4m\u001B[97mINFO\u001B[0m - 尝试加载/data/ly/temp/fragment/0/VQA_ODV/Group3/G3SkyrimHelgen_ERP_3840x2160_fps29.97_qp37_3009k\n"
     ]
    },
    {
     "name": "stderr",
     "output_type": "stream",
     "text": [
      " 19%|█▉        | 21/108 [00:20<01:14,  1.17it/s]"
     ]
    },
    {
     "name": "stdout",
     "output_type": "stream",
     "text": [
      "07/10 21:55:06 - mmengine - \u001B[4m\u001B[97mINFO\u001B[0m - 尝试加载/data/ly/temp/fragment/0/VQA_ODV/Group3/G3SkyrimHelgen_ERP_3840x2160_fps29.97_qp42_1324k\n"
     ]
    },
    {
     "name": "stderr",
     "output_type": "stream",
     "text": [
      " 20%|██        | 22/108 [00:21<01:15,  1.14it/s]"
     ]
    },
    {
     "name": "stdout",
     "output_type": "stream",
     "text": [
      "07/10 21:55:07 - mmengine - \u001B[4m\u001B[97mINFO\u001B[0m - 尝试加载/data/ly/temp/fragment/0/VQA_ODV/Group3/G3SkyrimHelgen_RCMP_3840x2160_fps29.97_qp27_7602k_ERP\n"
     ]
    },
    {
     "name": "stderr",
     "output_type": "stream",
     "text": [
      " 21%|██▏       | 23/108 [00:22<01:15,  1.13it/s]"
     ]
    },
    {
     "name": "stdout",
     "output_type": "stream",
     "text": [
      "07/10 21:55:08 - mmengine - \u001B[4m\u001B[97mINFO\u001B[0m - 尝试加载/data/ly/temp/fragment/0/VQA_ODV/Group3/G3SkyrimHelgen_RCMP_3840x2160_fps29.97_qp37_1407k_ERP\n"
     ]
    },
    {
     "name": "stderr",
     "output_type": "stream",
     "text": [
      " 22%|██▏       | 24/108 [00:23<01:12,  1.15it/s]"
     ]
    },
    {
     "name": "stdout",
     "output_type": "stream",
     "text": [
      "07/10 21:55:09 - mmengine - \u001B[4m\u001B[97mINFO\u001B[0m - 尝试加载/data/ly/temp/fragment/0/VQA_ODV/Group3/G3SkyrimHelgen_RCMP_3840x2160_fps29.97_qp42_578k_ERP\n"
     ]
    },
    {
     "name": "stderr",
     "output_type": "stream",
     "text": [
      " 23%|██▎       | 25/108 [00:24<01:14,  1.11it/s]"
     ]
    },
    {
     "name": "stdout",
     "output_type": "stream",
     "text": [
      "07/10 21:55:10 - mmengine - \u001B[4m\u001B[97mINFO\u001B[0m - 尝试加载/data/ly/temp/fragment/0/VQA_ODV/Group3/G3SkyrimHelgen_TSP_3840x2160_fps29.97_qp27_7679k_ERP\n"
     ]
    },
    {
     "name": "stderr",
     "output_type": "stream",
     "text": [
      " 24%|██▍       | 26/108 [00:25<01:13,  1.11it/s]"
     ]
    },
    {
     "name": "stdout",
     "output_type": "stream",
     "text": [
      "07/10 21:55:11 - mmengine - \u001B[4m\u001B[97mINFO\u001B[0m - 尝试加载/data/ly/temp/fragment/0/VQA_ODV/Group3/G3SkyrimHelgen_TSP_3840x2160_fps29.97_qp37_1567k_ERP\n"
     ]
    },
    {
     "name": "stderr",
     "output_type": "stream",
     "text": [
      " 25%|██▌       | 27/108 [00:25<01:11,  1.13it/s]"
     ]
    },
    {
     "name": "stdout",
     "output_type": "stream",
     "text": [
      "07/10 21:55:12 - mmengine - \u001B[4m\u001B[97mINFO\u001B[0m - 尝试加载/data/ly/temp/fragment/0/VQA_ODV/Group3/G3SkyrimHelgen_TSP_3840x2160_fps29.97_qp42_674k_ERP\n"
     ]
    },
    {
     "name": "stderr",
     "output_type": "stream",
     "text": [
      " 26%|██▌       | 28/108 [00:26<01:12,  1.10it/s]"
     ]
    },
    {
     "name": "stdout",
     "output_type": "stream",
     "text": [
      "07/10 21:55:13 - mmengine - \u001B[4m\u001B[97mINFO\u001B[0m - 尝试加载/data/ly/temp/fragment/0/VQA_ODV/Group4/G4BikingInSaalbach_ERP_5600x2800_fps29.97_qp27_59876k\n"
     ]
    },
    {
     "name": "stderr",
     "output_type": "stream",
     "text": [
      " 27%|██▋       | 29/108 [00:27<01:08,  1.15it/s]"
     ]
    },
    {
     "name": "stdout",
     "output_type": "stream",
     "text": [
      "07/10 21:55:13 - mmengine - \u001B[4m\u001B[97mINFO\u001B[0m - 尝试加载/data/ly/temp/fragment/0/VQA_ODV/Group4/G4BikingInSaalbach_ERP_5600x2800_fps29.97_qp37_19310k\n"
     ]
    },
    {
     "name": "stderr",
     "output_type": "stream",
     "text": [
      " 28%|██▊       | 30/108 [00:28<01:08,  1.14it/s]"
     ]
    },
    {
     "name": "stdout",
     "output_type": "stream",
     "text": [
      "07/10 21:55:14 - mmengine - \u001B[4m\u001B[97mINFO\u001B[0m - 尝试加载/data/ly/temp/fragment/0/VQA_ODV/Group4/G4BikingInSaalbach_ERP_5600x2800_fps29.97_qp42_9360k\n"
     ]
    },
    {
     "name": "stderr",
     "output_type": "stream",
     "text": [
      " 29%|██▊       | 31/108 [00:29<01:09,  1.11it/s]"
     ]
    },
    {
     "name": "stdout",
     "output_type": "stream",
     "text": [
      "07/10 21:55:15 - mmengine - \u001B[4m\u001B[97mINFO\u001B[0m - 尝试加载/data/ly/temp/fragment/0/VQA_ODV/Group4/G4BikingInSaalbach_RCMP_5600x2800_fps29.97_qp27_51282k_ERP\n"
     ]
    },
    {
     "name": "stderr",
     "output_type": "stream",
     "text": [
      " 30%|██▉       | 32/108 [00:30<01:05,  1.16it/s]"
     ]
    },
    {
     "name": "stdout",
     "output_type": "stream",
     "text": [
      "07/10 21:55:16 - mmengine - \u001B[4m\u001B[97mINFO\u001B[0m - 尝试加载/data/ly/temp/fragment/0/VQA_ODV/Group4/G4BikingInSaalbach_RCMP_5600x2800_fps29.97_qp37_14076k_ERP\n"
     ]
    },
    {
     "name": "stderr",
     "output_type": "stream",
     "text": [
      " 31%|███       | 33/108 [00:31<01:06,  1.13it/s]"
     ]
    },
    {
     "name": "stdout",
     "output_type": "stream",
     "text": [
      "07/10 21:55:17 - mmengine - \u001B[4m\u001B[97mINFO\u001B[0m - 尝试加载/data/ly/temp/fragment/0/VQA_ODV/Group4/G4BikingInSaalbach_RCMP_5600x2800_fps29.97_qp42_6523k_ERP\n"
     ]
    },
    {
     "name": "stderr",
     "output_type": "stream",
     "text": [
      " 31%|███▏      | 34/108 [00:32<01:05,  1.13it/s]"
     ]
    },
    {
     "name": "stdout",
     "output_type": "stream",
     "text": [
      "07/10 21:55:18 - mmengine - \u001B[4m\u001B[97mINFO\u001B[0m - 尝试加载/data/ly/temp/fragment/0/VQA_ODV/Group4/G4BikingInSaalbach_TSP_5600x2800_fps29.97_qp27_49345k_ERP\n"
     ]
    },
    {
     "name": "stderr",
     "output_type": "stream",
     "text": [
      " 32%|███▏      | 35/108 [00:32<01:03,  1.15it/s]"
     ]
    },
    {
     "name": "stdout",
     "output_type": "stream",
     "text": [
      "07/10 21:55:19 - mmengine - \u001B[4m\u001B[97mINFO\u001B[0m - 尝试加载/data/ly/temp/fragment/0/VQA_ODV/Group4/G4BikingInSaalbach_TSP_5600x2800_fps29.97_qp37_14570k_ERP\n"
     ]
    },
    {
     "name": "stderr",
     "output_type": "stream",
     "text": [
      " 33%|███▎      | 36/108 [00:33<01:04,  1.11it/s]"
     ]
    },
    {
     "name": "stdout",
     "output_type": "stream",
     "text": [
      "07/10 21:55:20 - mmengine - \u001B[4m\u001B[97mINFO\u001B[0m - 尝试加载/data/ly/temp/fragment/0/VQA_ODV/Group4/G4BikingInSaalbach_TSP_5600x2800_fps29.97_qp42_7056k_ERP\n"
     ]
    },
    {
     "name": "stderr",
     "output_type": "stream",
     "text": [
      " 34%|███▍      | 37/108 [00:34<01:02,  1.13it/s]"
     ]
    },
    {
     "name": "stdout",
     "output_type": "stream",
     "text": [
      "07/10 21:55:21 - mmengine - \u001B[4m\u001B[97mINFO\u001B[0m - 尝试加载/data/ly/temp/fragment/0/VQA_ODV/Group4/G4DrewBrees_ERP_3840x2160_fps29.97_qp27_15115k\n"
     ]
    },
    {
     "name": "stderr",
     "output_type": "stream",
     "text": [
      " 35%|███▌      | 38/108 [00:35<01:01,  1.14it/s]"
     ]
    },
    {
     "name": "stdout",
     "output_type": "stream",
     "text": [
      "07/10 21:55:21 - mmengine - \u001B[4m\u001B[97mINFO\u001B[0m - 尝试加载/data/ly/temp/fragment/0/VQA_ODV/Group4/G4DrewBrees_ERP_3840x2160_fps29.97_qp37_4266k\n"
     ]
    },
    {
     "name": "stderr",
     "output_type": "stream",
     "text": [
      " 36%|███▌      | 39/108 [00:36<01:02,  1.10it/s]"
     ]
    },
    {
     "name": "stdout",
     "output_type": "stream",
     "text": [
      "07/10 21:55:22 - mmengine - \u001B[4m\u001B[97mINFO\u001B[0m - 尝试加载/data/ly/temp/fragment/0/VQA_ODV/Group4/G4DrewBrees_ERP_3840x2160_fps29.97_qp42_2186k\n"
     ]
    },
    {
     "name": "stderr",
     "output_type": "stream",
     "text": [
      " 37%|███▋      | 40/108 [00:37<00:57,  1.18it/s]"
     ]
    },
    {
     "name": "stdout",
     "output_type": "stream",
     "text": [
      "07/10 21:55:23 - mmengine - \u001B[4m\u001B[97mINFO\u001B[0m - 尝试加载/data/ly/temp/fragment/0/VQA_ODV/Group4/G4DrewBrees_RCMP_3840x2160_fps29.97_qp27_16373k_ERP\n"
     ]
    },
    {
     "name": "stderr",
     "output_type": "stream",
     "text": [
      " 38%|███▊      | 41/108 [00:38<00:58,  1.15it/s]"
     ]
    },
    {
     "name": "stdout",
     "output_type": "stream",
     "text": [
      "07/10 21:55:24 - mmengine - \u001B[4m\u001B[97mINFO\u001B[0m - 尝试加载/data/ly/temp/fragment/0/VQA_ODV/Group4/G4DrewBrees_RCMP_3840x2160_fps29.97_qp37_4116k_ERP\n"
     ]
    },
    {
     "name": "stderr",
     "output_type": "stream",
     "text": [
      " 39%|███▉      | 42/108 [00:39<00:58,  1.14it/s]"
     ]
    },
    {
     "name": "stdout",
     "output_type": "stream",
     "text": [
      "07/10 21:55:25 - mmengine - \u001B[4m\u001B[97mINFO\u001B[0m - 尝试加载/data/ly/temp/fragment/0/VQA_ODV/Group4/G4DrewBrees_RCMP_3840x2160_fps29.97_qp42_2077k_ERP\n"
     ]
    },
    {
     "name": "stderr",
     "output_type": "stream",
     "text": [
      " 40%|███▉      | 43/108 [00:40<00:56,  1.15it/s]"
     ]
    },
    {
     "name": "stdout",
     "output_type": "stream",
     "text": [
      "07/10 21:55:26 - mmengine - \u001B[4m\u001B[97mINFO\u001B[0m - 尝试加载/data/ly/temp/fragment/0/VQA_ODV/Group4/G4DrewBrees_TSP_3840x2160_fps29.97_qp27_18647k_ERP\n"
     ]
    },
    {
     "name": "stderr",
     "output_type": "stream",
     "text": [
      " 41%|████      | 44/108 [00:40<00:57,  1.12it/s]"
     ]
    },
    {
     "name": "stdout",
     "output_type": "stream",
     "text": [
      "07/10 21:55:27 - mmengine - \u001B[4m\u001B[97mINFO\u001B[0m - 尝试加载/data/ly/temp/fragment/0/VQA_ODV/Group4/G4DrewBrees_TSP_3840x2160_fps29.97_qp37_5244k_ERP\n"
     ]
    },
    {
     "name": "stderr",
     "output_type": "stream",
     "text": [
      " 42%|████▏     | 45/108 [00:41<00:56,  1.12it/s]"
     ]
    },
    {
     "name": "stdout",
     "output_type": "stream",
     "text": [
      "07/10 21:55:28 - mmengine - \u001B[4m\u001B[97mINFO\u001B[0m - 尝试加载/data/ly/temp/fragment/0/VQA_ODV/Group4/G4DrewBrees_TSP_3840x2160_fps29.97_qp42_2695k_ERP\n"
     ]
    },
    {
     "name": "stderr",
     "output_type": "stream",
     "text": [
      " 43%|████▎     | 46/108 [00:42<00:54,  1.14it/s]"
     ]
    },
    {
     "name": "stdout",
     "output_type": "stream",
     "text": [
      "07/10 21:55:28 - mmengine - \u001B[4m\u001B[97mINFO\u001B[0m - 尝试加载/data/ly/temp/fragment/0/VQA_ODV/Group4/G4WingsuitFlight_ERP_3840x2048_fps29.97_qp27_12696k\n"
     ]
    },
    {
     "name": "stderr",
     "output_type": "stream",
     "text": [
      " 44%|████▎     | 47/108 [00:43<00:55,  1.09it/s]"
     ]
    },
    {
     "name": "stdout",
     "output_type": "stream",
     "text": [
      "07/10 21:55:29 - mmengine - \u001B[4m\u001B[97mINFO\u001B[0m - 尝试加载/data/ly/temp/fragment/0/VQA_ODV/Group4/G4WingsuitFlight_ERP_3840x2048_fps29.97_qp37_3545k\n"
     ]
    },
    {
     "name": "stderr",
     "output_type": "stream",
     "text": [
      " 44%|████▍     | 48/108 [00:44<00:54,  1.10it/s]"
     ]
    },
    {
     "name": "stdout",
     "output_type": "stream",
     "text": [
      "07/10 21:55:30 - mmengine - \u001B[4m\u001B[97mINFO\u001B[0m - 尝试加载/data/ly/temp/fragment/0/VQA_ODV/Group4/G4WingsuitFlight_ERP_3840x2048_fps29.97_qp42_1877k\n"
     ]
    },
    {
     "name": "stderr",
     "output_type": "stream",
     "text": [
      " 45%|████▌     | 49/108 [00:45<00:52,  1.13it/s]"
     ]
    },
    {
     "name": "stdout",
     "output_type": "stream",
     "text": [
      "07/10 21:55:31 - mmengine - \u001B[4m\u001B[97mINFO\u001B[0m - 尝试加载/data/ly/temp/fragment/0/VQA_ODV/Group4/G4WingsuitFlight_RCMP_3840x2048_fps29.97_qp27_10195k_ERP\n"
     ]
    },
    {
     "name": "stderr",
     "output_type": "stream",
     "text": [
      " 46%|████▋     | 50/108 [00:46<00:53,  1.08it/s]"
     ]
    },
    {
     "name": "stdout",
     "output_type": "stream",
     "text": [
      "07/10 21:55:32 - mmengine - \u001B[4m\u001B[97mINFO\u001B[0m - 尝试加载/data/ly/temp/fragment/0/VQA_ODV/Group4/G4WingsuitFlight_RCMP_3840x2048_fps29.97_qp37_2600k_ERP\n"
     ]
    },
    {
     "name": "stderr",
     "output_type": "stream",
     "text": [
      " 47%|████▋     | 51/108 [00:47<00:50,  1.13it/s]"
     ]
    },
    {
     "name": "stdout",
     "output_type": "stream",
     "text": [
      "07/10 21:55:33 - mmengine - \u001B[4m\u001B[97mINFO\u001B[0m - 尝试加载/data/ly/temp/fragment/0/VQA_ODV/Group4/G4WingsuitFlight_RCMP_3840x2048_fps29.97_qp42_1341k_ERP\n"
     ]
    },
    {
     "name": "stderr",
     "output_type": "stream",
     "text": [
      " 48%|████▊     | 52/108 [00:48<00:49,  1.13it/s]"
     ]
    },
    {
     "name": "stdout",
     "output_type": "stream",
     "text": [
      "07/10 21:55:34 - mmengine - \u001B[4m\u001B[97mINFO\u001B[0m - 尝试加载/data/ly/temp/fragment/0/VQA_ODV/Group4/G4WingsuitFlight_TSP_3840x2048_fps29.97_qp27_9198k_ERP\n"
     ]
    },
    {
     "name": "stderr",
     "output_type": "stream",
     "text": [
      " 49%|████▉     | 53/108 [00:49<00:50,  1.09it/s]"
     ]
    },
    {
     "name": "stdout",
     "output_type": "stream",
     "text": [
      "07/10 21:55:35 - mmengine - \u001B[4m\u001B[97mINFO\u001B[0m - 尝试加载/data/ly/temp/fragment/0/VQA_ODV/Group4/G4WingsuitFlight_TSP_3840x2048_fps29.97_qp37_2378k_ERP\n"
     ]
    },
    {
     "name": "stderr",
     "output_type": "stream",
     "text": [
      " 50%|█████     | 54/108 [00:49<00:46,  1.16it/s]"
     ]
    },
    {
     "name": "stdout",
     "output_type": "stream",
     "text": [
      "07/10 21:55:36 - mmengine - \u001B[4m\u001B[97mINFO\u001B[0m - 尝试加载/data/ly/temp/fragment/0/VQA_ODV/Group4/G4WingsuitFlight_TSP_3840x2048_fps29.97_qp42_1226k_ERP\n"
     ]
    },
    {
     "name": "stderr",
     "output_type": "stream",
     "text": [
      " 51%|█████     | 55/108 [00:50<00:46,  1.14it/s]"
     ]
    },
    {
     "name": "stdout",
     "output_type": "stream",
     "text": [
      "07/10 21:55:36 - mmengine - \u001B[4m\u001B[97mINFO\u001B[0m - 尝试加载/data/ly/temp/fragment/0/VQA_ODV/Group5/G5ResistMarch_ERP_3840x1920_fps29.97_qp27_19898k\n"
     ]
    },
    {
     "name": "stderr",
     "output_type": "stream",
     "text": [
      " 52%|█████▏    | 56/108 [00:51<00:46,  1.13it/s]"
     ]
    },
    {
     "name": "stdout",
     "output_type": "stream",
     "text": [
      "07/10 21:55:37 - mmengine - \u001B[4m\u001B[97mINFO\u001B[0m - 尝试加载/data/ly/temp/fragment/0/VQA_ODV/Group5/G5ResistMarch_ERP_3840x1920_fps29.97_qp37_3644k\n"
     ]
    },
    {
     "name": "stderr",
     "output_type": "stream",
     "text": [
      " 53%|█████▎    | 57/108 [00:52<00:44,  1.15it/s]"
     ]
    },
    {
     "name": "stdout",
     "output_type": "stream",
     "text": [
      "07/10 21:55:38 - mmengine - \u001B[4m\u001B[97mINFO\u001B[0m - 尝试加载/data/ly/temp/fragment/0/VQA_ODV/Group5/G5ResistMarch_ERP_3840x1920_fps29.97_qp42_1484k\n"
     ]
    },
    {
     "name": "stderr",
     "output_type": "stream",
     "text": [
      " 54%|█████▎    | 58/108 [00:53<00:44,  1.11it/s]"
     ]
    },
    {
     "name": "stdout",
     "output_type": "stream",
     "text": [
      "07/10 21:55:39 - mmengine - \u001B[4m\u001B[97mINFO\u001B[0m - 尝试加载/data/ly/temp/fragment/0/VQA_ODV/Group5/G5ResistMarch_RCMP_3840x1920_fps29.97_qp27_19645k_ERP\n"
     ]
    },
    {
     "name": "stderr",
     "output_type": "stream",
     "text": [
      " 55%|█████▍    | 59/108 [00:54<00:43,  1.12it/s]"
     ]
    },
    {
     "name": "stdout",
     "output_type": "stream",
     "text": [
      "07/10 21:55:40 - mmengine - \u001B[4m\u001B[97mINFO\u001B[0m - 尝试加载/data/ly/temp/fragment/0/VQA_ODV/Group5/G5ResistMarch_RCMP_3840x1920_fps29.97_qp37_3568k_ERP\n"
     ]
    },
    {
     "name": "stderr",
     "output_type": "stream",
     "text": [
      " 56%|█████▌    | 60/108 [00:55<00:42,  1.14it/s]"
     ]
    },
    {
     "name": "stdout",
     "output_type": "stream",
     "text": [
      "07/10 21:55:41 - mmengine - \u001B[4m\u001B[97mINFO\u001B[0m - 尝试加载/data/ly/temp/fragment/0/VQA_ODV/Group5/G5ResistMarch_RCMP_3840x1920_fps29.97_qp42_1492k_ERP\n"
     ]
    },
    {
     "name": "stderr",
     "output_type": "stream",
     "text": [
      " 56%|█████▋    | 61/108 [00:56<00:43,  1.09it/s]"
     ]
    },
    {
     "name": "stdout",
     "output_type": "stream",
     "text": [
      "07/10 21:55:42 - mmengine - \u001B[4m\u001B[97mINFO\u001B[0m - 尝试加载/data/ly/temp/fragment/0/VQA_ODV/Group5/G5ResistMarch_TSP_3840x1920_fps29.97_qp27_21576k_ERP\n"
     ]
    },
    {
     "name": "stderr",
     "output_type": "stream",
     "text": [
      " 57%|█████▋    | 62/108 [00:56<00:40,  1.14it/s]"
     ]
    },
    {
     "name": "stdout",
     "output_type": "stream",
     "text": [
      "07/10 21:55:43 - mmengine - \u001B[4m\u001B[97mINFO\u001B[0m - 尝试加载/data/ly/temp/fragment/0/VQA_ODV/Group5/G5ResistMarch_TSP_3840x1920_fps29.97_qp37_4476k_ERP\n"
     ]
    },
    {
     "name": "stderr",
     "output_type": "stream",
     "text": [
      " 58%|█████▊    | 63/108 [00:57<00:39,  1.14it/s]"
     ]
    },
    {
     "name": "stdout",
     "output_type": "stream",
     "text": [
      "07/10 21:55:44 - mmengine - \u001B[4m\u001B[97mINFO\u001B[0m - 尝试加载/data/ly/temp/fragment/0/VQA_ODV/Group5/G5ResistMarch_TSP_3840x1920_fps29.97_qp42_1840k_ERP\n"
     ]
    },
    {
     "name": "stderr",
     "output_type": "stream",
     "text": [
      " 59%|█████▉    | 64/108 [00:58<00:39,  1.11it/s]"
     ]
    },
    {
     "name": "stdout",
     "output_type": "stream",
     "text": [
      "07/10 21:55:45 - mmengine - \u001B[4m\u001B[97mINFO\u001B[0m - 尝试加载/data/ly/temp/fragment/0/VQA_ODV/Group6/G6AngelFallsClimbing_ERP_7680x3840_fps29.97_qp27_54581k\n"
     ]
    },
    {
     "name": "stderr",
     "output_type": "stream",
     "text": [
      " 60%|██████    | 65/108 [00:59<00:37,  1.16it/s]"
     ]
    },
    {
     "name": "stdout",
     "output_type": "stream",
     "text": [
      "07/10 21:55:45 - mmengine - \u001B[4m\u001B[97mINFO\u001B[0m - 尝试加载/data/ly/temp/fragment/0/VQA_ODV/Group6/G6AngelFallsClimbing_ERP_7680x3840_fps29.97_qp37_5981k\n"
     ]
    },
    {
     "name": "stderr",
     "output_type": "stream",
     "text": [
      " 61%|██████    | 66/108 [01:00<00:37,  1.13it/s]"
     ]
    },
    {
     "name": "stdout",
     "output_type": "stream",
     "text": [
      "07/10 21:55:46 - mmengine - \u001B[4m\u001B[97mINFO\u001B[0m - 尝试加载/data/ly/temp/fragment/0/VQA_ODV/Group6/G6AngelFallsClimbing_ERP_7680x3840_fps29.97_qp42_1663k\n"
     ]
    },
    {
     "name": "stderr",
     "output_type": "stream",
     "text": [
      " 62%|██████▏   | 67/108 [01:01<00:36,  1.13it/s]"
     ]
    },
    {
     "name": "stdout",
     "output_type": "stream",
     "text": [
      "07/10 21:55:47 - mmengine - \u001B[4m\u001B[97mINFO\u001B[0m - 尝试加载/data/ly/temp/fragment/0/VQA_ODV/Group6/G6AngelFallsClimbing_RCMP_7680x3840_fps29.97_qp27_38041k_ERP\n"
     ]
    },
    {
     "name": "stderr",
     "output_type": "stream",
     "text": [
      " 63%|██████▎   | 68/108 [01:02<00:34,  1.15it/s]"
     ]
    },
    {
     "name": "stdout",
     "output_type": "stream",
     "text": [
      "07/10 21:55:48 - mmengine - \u001B[4m\u001B[97mINFO\u001B[0m - 尝试加载/data/ly/temp/fragment/0/VQA_ODV/Group6/G6AngelFallsClimbing_RCMP_7680x3840_fps29.97_qp37_3582k_ERP\n"
     ]
    },
    {
     "name": "stderr",
     "output_type": "stream",
     "text": [
      " 64%|██████▍   | 69/108 [01:03<00:35,  1.11it/s]"
     ]
    },
    {
     "name": "stdout",
     "output_type": "stream",
     "text": [
      "07/10 21:55:49 - mmengine - \u001B[4m\u001B[97mINFO\u001B[0m - 尝试加载/data/ly/temp/fragment/0/VQA_ODV/Group6/G6AngelFallsClimbing_RCMP_7680x3840_fps29.97_qp42_1306k_ERP\n"
     ]
    },
    {
     "name": "stderr",
     "output_type": "stream",
     "text": [
      " 65%|██████▍   | 70/108 [01:04<00:34,  1.11it/s]"
     ]
    },
    {
     "name": "stdout",
     "output_type": "stream",
     "text": [
      "07/10 21:55:50 - mmengine - \u001B[4m\u001B[97mINFO\u001B[0m - 尝试加载/data/ly/temp/fragment/0/VQA_ODV/Group6/G6AngelFallsClimbing_TSP_7680x3840_fps29.97_qp27_29114k_ERP\n"
     ]
    },
    {
     "name": "stderr",
     "output_type": "stream",
     "text": [
      " 66%|██████▌   | 71/108 [01:04<00:32,  1.13it/s]"
     ]
    },
    {
     "name": "stdout",
     "output_type": "stream",
     "text": [
      "07/10 21:55:51 - mmengine - \u001B[4m\u001B[97mINFO\u001B[0m - 尝试加载/data/ly/temp/fragment/0/VQA_ODV/Group6/G6AngelFallsClimbing_TSP_7680x3840_fps29.97_qp37_3561k_ERP\n"
     ]
    },
    {
     "name": "stderr",
     "output_type": "stream",
     "text": [
      " 67%|██████▋   | 72/108 [01:05<00:33,  1.09it/s]"
     ]
    },
    {
     "name": "stdout",
     "output_type": "stream",
     "text": [
      "07/10 21:55:52 - mmengine - \u001B[4m\u001B[97mINFO\u001B[0m - 尝试加载/data/ly/temp/fragment/0/VQA_ODV/Group6/G6AngelFallsClimbing_TSP_7680x3840_fps29.97_qp42_1480k_ERP\n"
     ]
    },
    {
     "name": "stderr",
     "output_type": "stream",
     "text": [
      " 68%|██████▊   | 73/108 [01:06<00:31,  1.11it/s]"
     ]
    },
    {
     "name": "stdout",
     "output_type": "stream",
     "text": [
      "07/10 21:55:53 - mmengine - \u001B[4m\u001B[97mINFO\u001B[0m - 尝试加载/data/ly/temp/fragment/0/VQA_ODV/Group7/G7PressConference_ERP_4096x2048_fps30_qp27_4909k\n"
     ]
    },
    {
     "name": "stderr",
     "output_type": "stream",
     "text": [
      " 69%|██████▊   | 74/108 [01:07<00:30,  1.13it/s]"
     ]
    },
    {
     "name": "stdout",
     "output_type": "stream",
     "text": [
      "07/10 21:55:53 - mmengine - \u001B[4m\u001B[97mINFO\u001B[0m - 尝试加载/data/ly/temp/fragment/0/VQA_ODV/Group7/G7PressConference_ERP_4096x2048_fps30_qp37_1038k\n"
     ]
    },
    {
     "name": "stderr",
     "output_type": "stream",
     "text": [
      " 69%|██████▉   | 75/108 [01:08<00:30,  1.09it/s]"
     ]
    },
    {
     "name": "stdout",
     "output_type": "stream",
     "text": [
      "07/10 21:55:54 - mmengine - \u001B[4m\u001B[97mINFO\u001B[0m - 尝试加载/data/ly/temp/fragment/0/VQA_ODV/Group7/G7PressConference_ERP_4096x2048_fps30_qp42_509k\n"
     ]
    },
    {
     "name": "stderr",
     "output_type": "stream",
     "text": [
      " 70%|███████   | 76/108 [01:09<00:27,  1.17it/s]"
     ]
    },
    {
     "name": "stdout",
     "output_type": "stream",
     "text": [
      "07/10 21:55:55 - mmengine - \u001B[4m\u001B[97mINFO\u001B[0m - 尝试加载/data/ly/temp/fragment/0/VQA_ODV/Group7/G7PressConference_RCMP_4096x2048_fps30_qp27_4286k_ERP\n"
     ]
    },
    {
     "name": "stderr",
     "output_type": "stream",
     "text": [
      " 71%|███████▏  | 77/108 [01:10<00:27,  1.15it/s]"
     ]
    },
    {
     "name": "stdout",
     "output_type": "stream",
     "text": [
      "07/10 21:55:56 - mmengine - \u001B[4m\u001B[97mINFO\u001B[0m - 尝试加载/data/ly/temp/fragment/0/VQA_ODV/Group7/G7PressConference_RCMP_4096x2048_fps30_qp37_980k_ERP\n"
     ]
    },
    {
     "name": "stderr",
     "output_type": "stream",
     "text": [
      " 72%|███████▏  | 78/108 [01:11<00:26,  1.13it/s]"
     ]
    },
    {
     "name": "stdout",
     "output_type": "stream",
     "text": [
      "07/10 21:55:57 - mmengine - \u001B[4m\u001B[97mINFO\u001B[0m - 尝试加载/data/ly/temp/fragment/0/VQA_ODV/Group7/G7PressConference_RCMP_4096x2048_fps30_qp42_485k_ERP\n"
     ]
    },
    {
     "name": "stderr",
     "output_type": "stream",
     "text": [
      " 73%|███████▎  | 79/108 [01:12<00:25,  1.15it/s]"
     ]
    },
    {
     "name": "stdout",
     "output_type": "stream",
     "text": [
      "07/10 21:55:58 - mmengine - \u001B[4m\u001B[97mINFO\u001B[0m - 尝试加载/data/ly/temp/fragment/0/VQA_ODV/Group7/G7PressConference_TSP_4096x2048_fps30_qp27_5525k_ERP\n"
     ]
    },
    {
     "name": "stderr",
     "output_type": "stream",
     "text": [
      " 74%|███████▍  | 80/108 [01:12<00:24,  1.12it/s]"
     ]
    },
    {
     "name": "stdout",
     "output_type": "stream",
     "text": [
      "07/10 21:55:59 - mmengine - \u001B[4m\u001B[97mINFO\u001B[0m - 尝试加载/data/ly/temp/fragment/0/VQA_ODV/Group7/G7PressConference_TSP_4096x2048_fps30_qp37_1238k_ERP\n"
     ]
    },
    {
     "name": "stderr",
     "output_type": "stream",
     "text": [
      " 75%|███████▌  | 81/108 [01:13<00:24,  1.12it/s]"
     ]
    },
    {
     "name": "stdout",
     "output_type": "stream",
     "text": [
      "07/10 21:56:00 - mmengine - \u001B[4m\u001B[97mINFO\u001B[0m - 尝试加载/data/ly/temp/fragment/0/VQA_ODV/Group7/G7PressConference_TSP_4096x2048_fps30_qp42_635k_ERP\n"
     ]
    },
    {
     "name": "stderr",
     "output_type": "stream",
     "text": [
      " 76%|███████▌  | 82/108 [01:14<00:22,  1.14it/s]"
     ]
    },
    {
     "name": "stdout",
     "output_type": "stream",
     "text": [
      "07/10 21:56:00 - mmengine - \u001B[4m\u001B[97mINFO\u001B[0m - 尝试加载/data/ly/temp/fragment/0/VQA_ODV/Group7/G7Shooting_ERP_4096x2048_fps30_qp27_4387k\n"
     ]
    },
    {
     "name": "stderr",
     "output_type": "stream",
     "text": [
      " 77%|███████▋  | 83/108 [01:15<00:22,  1.10it/s]"
     ]
    },
    {
     "name": "stdout",
     "output_type": "stream",
     "text": [
      "07/10 21:56:01 - mmengine - \u001B[4m\u001B[97mINFO\u001B[0m - 尝试加载/data/ly/temp/fragment/0/VQA_ODV/Group7/G7Shooting_ERP_4096x2048_fps30_qp37_880k\n"
     ]
    },
    {
     "name": "stderr",
     "output_type": "stream",
     "text": [
      " 78%|███████▊  | 84/108 [01:16<00:21,  1.13it/s]"
     ]
    },
    {
     "name": "stdout",
     "output_type": "stream",
     "text": [
      "07/10 21:56:02 - mmengine - \u001B[4m\u001B[97mINFO\u001B[0m - 尝试加载/data/ly/temp/fragment/0/VQA_ODV/Group7/G7Shooting_ERP_4096x2048_fps30_qp42_294k\n"
     ]
    },
    {
     "name": "stderr",
     "output_type": "stream",
     "text": [
      " 79%|███████▊  | 85/108 [01:17<00:20,  1.13it/s]"
     ]
    },
    {
     "name": "stdout",
     "output_type": "stream",
     "text": [
      "07/10 21:56:03 - mmengine - \u001B[4m\u001B[97mINFO\u001B[0m - 尝试加载/data/ly/temp/fragment/0/VQA_ODV/Group7/G7Shooting_RCMP_4096x2048_fps30_qp27_3965k_ERP\n"
     ]
    },
    {
     "name": "stderr",
     "output_type": "stream",
     "text": [
      " 80%|███████▉  | 86/108 [01:18<00:20,  1.10it/s]"
     ]
    },
    {
     "name": "stdout",
     "output_type": "stream",
     "text": [
      "07/10 21:56:04 - mmengine - \u001B[4m\u001B[97mINFO\u001B[0m - 尝试加载/data/ly/temp/fragment/0/VQA_ODV/Group7/G7Shooting_RCMP_4096x2048_fps30_qp37_961k_ERP\n"
     ]
    },
    {
     "name": "stderr",
     "output_type": "stream",
     "text": [
      " 81%|████████  | 87/108 [01:19<00:17,  1.17it/s]"
     ]
    },
    {
     "name": "stdout",
     "output_type": "stream",
     "text": [
      "07/10 21:56:05 - mmengine - \u001B[4m\u001B[97mINFO\u001B[0m - 尝试加载/data/ly/temp/fragment/0/VQA_ODV/Group7/G7Shooting_RCMP_4096x2048_fps30_qp42_353k_ERP\n"
     ]
    },
    {
     "name": "stderr",
     "output_type": "stream",
     "text": [
      " 81%|████████▏ | 88/108 [01:20<00:17,  1.13it/s]"
     ]
    },
    {
     "name": "stdout",
     "output_type": "stream",
     "text": [
      "07/10 21:56:06 - mmengine - \u001B[4m\u001B[97mINFO\u001B[0m - 尝试加载/data/ly/temp/fragment/0/VQA_ODV/Group7/G7Shooting_TSP_4096x2048_fps30_qp27_7770k_ERP\n"
     ]
    },
    {
     "name": "stderr",
     "output_type": "stream",
     "text": [
      " 82%|████████▏ | 89/108 [01:20<00:16,  1.12it/s]"
     ]
    },
    {
     "name": "stdout",
     "output_type": "stream",
     "text": [
      "07/10 21:56:07 - mmengine - \u001B[4m\u001B[97mINFO\u001B[0m - 尝试加载/data/ly/temp/fragment/0/VQA_ODV/Group7/G7Shooting_TSP_4096x2048_fps30_qp37_1963k_ERP\n"
     ]
    },
    {
     "name": "stderr",
     "output_type": "stream",
     "text": [
      " 83%|████████▎ | 90/108 [01:21<00:15,  1.15it/s]"
     ]
    },
    {
     "name": "stdout",
     "output_type": "stream",
     "text": [
      "07/10 21:56:08 - mmengine - \u001B[4m\u001B[97mINFO\u001B[0m - 尝试加载/data/ly/temp/fragment/0/VQA_ODV/Group7/G7Shooting_TSP_4096x2048_fps30_qp42_906k_ERP\n"
     ]
    },
    {
     "name": "stderr",
     "output_type": "stream",
     "text": [
      " 84%|████████▍ | 91/108 [01:22<00:15,  1.12it/s]"
     ]
    },
    {
     "name": "stdout",
     "output_type": "stream",
     "text": [
      "07/10 21:56:08 - mmengine - \u001B[4m\u001B[97mINFO\u001B[0m - 尝试加载/data/ly/temp/fragment/0/VQA_ODV/Group10/G10PandaBaseChengdu_ERP_7680x3840_fps29.97_qp27_12254k\n"
     ]
    },
    {
     "name": "stderr",
     "output_type": "stream",
     "text": [
      " 85%|████████▌ | 92/108 [01:23<00:14,  1.13it/s]"
     ]
    },
    {
     "name": "stdout",
     "output_type": "stream",
     "text": [
      "07/10 21:56:09 - mmengine - \u001B[4m\u001B[97mINFO\u001B[0m - 尝试加载/data/ly/temp/fragment/0/VQA_ODV/Group10/G10PandaBaseChengdu_ERP_7680x3840_fps29.97_qp37_1499k\n"
     ]
    },
    {
     "name": "stderr",
     "output_type": "stream",
     "text": [
      " 86%|████████▌ | 93/108 [01:24<00:13,  1.15it/s]"
     ]
    },
    {
     "name": "stdout",
     "output_type": "stream",
     "text": [
      "07/10 21:56:10 - mmengine - \u001B[4m\u001B[97mINFO\u001B[0m - 尝试加载/data/ly/temp/fragment/0/VQA_ODV/Group10/G10PandaBaseChengdu_ERP_7680x3840_fps29.97_qp42_1044k\n"
     ]
    },
    {
     "name": "stderr",
     "output_type": "stream",
     "text": [
      " 87%|████████▋ | 94/108 [01:25<00:12,  1.11it/s]"
     ]
    },
    {
     "name": "stdout",
     "output_type": "stream",
     "text": [
      "07/10 21:56:11 - mmengine - \u001B[4m\u001B[97mINFO\u001B[0m - 尝试加载/data/ly/temp/fragment/0/VQA_ODV/Group10/G10PandaBaseChengdu_RCMP_7680x3840_fps29.97_qp27_11238k_ERP\n"
     ]
    },
    {
     "name": "stderr",
     "output_type": "stream",
     "text": [
      " 88%|████████▊ | 95/108 [01:26<00:11,  1.17it/s]"
     ]
    },
    {
     "name": "stdout",
     "output_type": "stream",
     "text": [
      "07/10 21:56:12 - mmengine - \u001B[4m\u001B[97mINFO\u001B[0m - 尝试加载/data/ly/temp/fragment/0/VQA_ODV/Group10/G10PandaBaseChengdu_RCMP_7680x3840_fps29.97_qp37_1390k_ERP\n"
     ]
    },
    {
     "name": "stderr",
     "output_type": "stream",
     "text": [
      " 89%|████████▉ | 96/108 [01:27<00:10,  1.14it/s]"
     ]
    },
    {
     "name": "stdout",
     "output_type": "stream",
     "text": [
      "07/10 21:56:13 - mmengine - \u001B[4m\u001B[97mINFO\u001B[0m - 尝试加载/data/ly/temp/fragment/0/VQA_ODV/Group10/G10PandaBaseChengdu_RCMP_7680x3840_fps29.97_qp42_901k_ERP\n"
     ]
    },
    {
     "name": "stderr",
     "output_type": "stream",
     "text": [
      " 90%|████████▉ | 97/108 [01:28<00:09,  1.12it/s]"
     ]
    },
    {
     "name": "stdout",
     "output_type": "stream",
     "text": [
      "07/10 21:56:14 - mmengine - \u001B[4m\u001B[97mINFO\u001B[0m - 尝试加载/data/ly/temp/fragment/0/VQA_ODV/Group10/G10PandaBaseChengdu_TSP_7680x3840_fps29.97_qp27_16522k_ERP\n"
     ]
    },
    {
     "name": "stderr",
     "output_type": "stream",
     "text": [
      " 91%|█████████ | 98/108 [01:28<00:08,  1.15it/s]"
     ]
    },
    {
     "name": "stdout",
     "output_type": "stream",
     "text": [
      "07/10 21:56:15 - mmengine - \u001B[4m\u001B[97mINFO\u001B[0m - 尝试加载/data/ly/temp/fragment/0/VQA_ODV/Group10/G10PandaBaseChengdu_TSP_7680x3840_fps29.97_qp37_2799k_ERP\n"
     ]
    },
    {
     "name": "stderr",
     "output_type": "stream",
     "text": [
      " 92%|█████████▏| 99/108 [01:29<00:08,  1.12it/s]"
     ]
    },
    {
     "name": "stdout",
     "output_type": "stream",
     "text": [
      "07/10 21:56:15 - mmengine - \u001B[4m\u001B[97mINFO\u001B[0m - 尝试加载/data/ly/temp/fragment/0/VQA_ODV/Group10/G10PandaBaseChengdu_TSP_7680x3840_fps29.97_qp42_1196k_ERP\n"
     ]
    },
    {
     "name": "stderr",
     "output_type": "stream",
     "text": [
      "100%|██████████| 108/108 [01:37<00:00,  1.10it/s]\n"
     ]
    }
   ],
   "source": [
    "y = []\n",
    "y_pred = []\n",
    "model = model.cuda()\n",
    "for item in tqdm(dataloader):\n",
    "    inputs = item['inputs'].cuda()\n",
    "    result = model(inputs,gt_label=item['gt_label'],mode='predict')\n",
    "    y_pred.append(result[0])\n",
    "    y.append(result[1])"
   ],
   "metadata": {
    "collapsed": false,
    "ExecuteTime": {
     "end_time": "2023-07-10T13:56:25.383883600Z",
     "start_time": "2023-07-10T13:54:44.988809100Z"
    }
   }
  },
  {
   "cell_type": "code",
   "execution_count": 5,
   "outputs": [
    {
     "name": "stdout",
     "output_type": "stream",
     "text": [
      "0.8789429058656529\n"
     ]
    }
   ],
   "source": [
    "from scipy.stats import spearmanr\n",
    "\n",
    "y_pred = torch.stack(y_pred,dim=0).flatten().cpu().detach().numpy()\n",
    "y = torch.stack(y,dim=0).flatten().numpy()\n",
    "s = spearmanr(y, y_pred)[0]\n",
    "print(s)"
   ],
   "metadata": {
    "collapsed": false,
    "ExecuteTime": {
     "end_time": "2023-07-10T13:56:26.158432700Z",
     "start_time": "2023-07-10T13:56:25.385797900Z"
    }
   }
  },
  {
   "cell_type": "code",
   "execution_count": 6,
   "outputs": [
    {
     "name": "stdout",
     "output_type": "stream",
     "text": [
      "[0.51132804 0.5121804  0.3778674  0.5966643  0.52622783 0.38351288\n",
      " 0.5757952  0.55957365 0.4351227  0.6646226  0.5567569  0.29488623\n",
      " 0.6628805  0.522985   0.25827035 0.62213933 0.5569207  0.32290414\n",
      " 0.5357787  0.47965592 0.32013595 0.5746439  0.46648276 0.3666844\n",
      " 0.5680887  0.5283015  0.47307777 0.57668144 0.49099138 0.3588439\n",
      " 0.5733949  0.45492408 0.28146625 0.5985142  0.46595427 0.2991815\n",
      " 0.56138104 0.50505793 0.44462454 0.53615963 0.44455922 0.44559354\n",
      " 0.56366974 0.4463708  0.48651758 0.58086497 0.5357705  0.4452538\n",
      " 0.61498195 0.5618573  0.4033826  0.5898661  0.61411136 0.50728554\n",
      " 0.5738605  0.59103864 0.4383474  0.573973   0.51360047 0.44698453\n",
      " 0.62682134 0.5736339  0.46532336 0.6036083  0.48774067 0.35964543\n",
      " 0.61667264 0.4382963  0.26264408 0.62269986 0.5554357  0.4467364\n",
      " 0.63419855 0.5647622  0.30006748 0.6116221  0.5409302  0.20384605\n",
      " 0.646545   0.5678368  0.24719436 0.55914426 0.40730527 0.2633503\n",
      " 0.60309356 0.388904   0.26027983 0.62979597 0.4799649  0.3261121\n",
      " 0.5823717  0.42265964 0.2823331  0.57590073 0.41346386 0.2734945\n",
      " 0.62786585 0.5602354  0.46931475 0.6856137  0.41720724 0.270342\n",
      " 0.6750641  0.42204136 0.28681523 0.6826853  0.54643595 0.37922964]\n",
      "[0.5829593  0.54642    0.49201155 0.59812987 0.5510871  0.4972979\n",
      " 0.58421826 0.5642194  0.50062084 0.62320256 0.5348133  0.35032263\n",
      " 0.6280456  0.5531427  0.4369111  0.61596    0.5055089  0.42942873\n",
      " 0.5487123  0.5215086  0.48737672 0.5924804  0.5872056  0.534763\n",
      " 0.60886526 0.5865846  0.5539209  0.616511   0.46776012 0.38931704\n",
      " 0.6755619  0.5178367  0.4030148  0.6916703  0.552165   0.4529817\n",
      " 0.5807388  0.5235571  0.46585986 0.5860454  0.5064888  0.48068017\n",
      " 0.59470516 0.5504962  0.5060843  0.5720868  0.5227215  0.45304024\n",
      " 0.5820602  0.5631717  0.45933247 0.62139654 0.5577196  0.47786725\n",
      " 0.5776125  0.55541825 0.5158005  0.60839003 0.5677809  0.52267426\n",
      " 0.59472364 0.53319156 0.49000907 0.6061634  0.5283446  0.47372222\n",
      " 0.57418233 0.5351239  0.4697719  0.5755809  0.519595   0.4710598\n",
      " 0.6610824  0.52945095 0.3920639  0.6269548  0.5528848  0.38693607\n",
      " 0.64580977 0.55629206 0.39436775 0.6464008  0.51745915 0.35683674\n",
      " 0.6869331  0.55704445 0.40673643 0.6335988  0.5393852  0.42197782\n",
      " 0.57468945 0.4381112  0.36507654 0.62447196 0.4968144  0.33596805\n",
      " 0.61856097 0.61592376 0.40580565 0.6375555  0.38092628 0.23892733\n",
      " 0.6467204  0.41934302 0.29095    0.6075916  0.50644314 0.28510153]\n",
      "[-0.07163125 -0.03423959 -0.11414415 -0.00146556 -0.02485925 -0.11378503\n",
      " -0.00842309 -0.00464576 -0.06549814  0.04142004  0.02194363 -0.0554364\n",
      "  0.03483486 -0.03015774 -0.17864075  0.00617933  0.05141181 -0.10652459\n",
      " -0.01293361 -0.04185265 -0.16724077 -0.01783651 -0.12072283 -0.16807857\n",
      " -0.04077655 -0.05828315 -0.08084315 -0.03982955  0.02323127 -0.03047314\n",
      " -0.10216701 -0.06291261 -0.12154856 -0.0931561  -0.0862107  -0.15380022\n",
      " -0.01935774 -0.0184992  -0.02123532 -0.04988575 -0.06192958 -0.03508663\n",
      " -0.03103542 -0.10412541 -0.01956674  0.00877815  0.01304895 -0.00778645\n",
      "  0.03292173 -0.0013144  -0.05594987 -0.03153044  0.05639178  0.02941829\n",
      " -0.00375199  0.03562039 -0.07745308 -0.03441703 -0.05418044 -0.07568973\n",
      "  0.0320977   0.04044235 -0.02468571 -0.00255507 -0.04060391 -0.11407679\n",
      "  0.0424903  -0.0968276  -0.20712781  0.04711896  0.03584069 -0.0243234\n",
      " -0.02688384  0.03531122 -0.0919964  -0.0153327  -0.01195461 -0.18309002\n",
      "  0.00073522  0.01154476 -0.14717339 -0.08725655 -0.11015388 -0.09348643\n",
      " -0.08383954 -0.16814044 -0.1464566  -0.00380284 -0.05942029 -0.09586573\n",
      "  0.00768226 -0.01545155 -0.08274344 -0.04857123 -0.08335054 -0.06247354\n",
      "  0.00930488 -0.05568838  0.06350911  0.04805821  0.03628096  0.03141466\n",
      "  0.02834368  0.00269833 -0.00413477  0.07509369  0.03999281  0.0941281 ]\n"
     ]
    }
   ],
   "source": [
    "print(y)\n",
    "print(y_pred)\n",
    "print(y-y_pred)"
   ],
   "metadata": {
    "collapsed": false,
    "ExecuteTime": {
     "end_time": "2023-07-10T13:56:26.167586900Z",
     "start_time": "2023-07-10T13:56:26.164297Z"
    }
   }
  },
  {
   "cell_type": "code",
   "execution_count": 7,
   "outputs": [
    {
     "data": {
      "text/plain": "<matplotlib.collections.PathCollection at 0x7f913f9437c0>"
     },
     "execution_count": 7,
     "metadata": {},
     "output_type": "execute_result"
    },
    {
     "data": {
      "text/plain": "<Figure size 1200x500 with 1 Axes>",
      "image/png": "[encoded data removed]"
     },
     "metadata": {},
     "output_type": "display_data"
    }
   ],
   "source": [
    "import matplotlib.pyplot as plt\n",
    "fig = plt.figure(figsize=(12, 5))\n",
    "plt.scatter(x=[i for i in range(0,2*len(y),2)],y=y,c='b',s=10)\n",
    "plt.scatter(x=[i for i in range(0,2*len(y_pred),2)],y=y_pred,c='r',s=10)"
   ],
   "metadata": {
    "collapsed": false,
    "ExecuteTime": {
     "end_time": "2023-07-10T13:56:27.164785800Z",
     "start_time": "2023-07-10T13:56:26.213199100Z"
    }
   }
  }
 ],
 "metadata": {
  "kernelspec": {
   "display_name": "Python 3",
   "language": "python",
   "name": "python3"
  },
  "language_info": {
   "codemirror_mode": {
    "name": "ipython",
    "version": 2
   },
   "file_extension": ".py",
   "mimetype": "text/x-python",
   "name": "python",
   "nbconvert_exporter": "python",
   "pygments_lexer": "ipython2",
   "version": "2.7.6"
  }
 },
 "nbformat": 4,
 "nbformat_minor": 0
}
