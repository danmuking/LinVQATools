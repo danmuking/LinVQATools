{
 "cells": [
  {
   "cell_type": "code",
   "execution_count": 1,
   "metadata": {
    "collapsed": true,
    "ExecuteTime": {
     "end_time": "2024-01-22T01:34:34.304082800Z",
     "start_time": "2024-01-22T01:34:31.648004300Z"
    }
   },
   "outputs": [
    {
     "name": "stderr",
     "output_type": "stream",
     "text": [
      "/home/ly/.conda/envs/torch1.12.1/lib/python3.8/site-packages/mmengine/utils/manager.py:113: UserWarning: <class 'mmengine.logging.logger.MMLogger'> instance named of model has been created, the method `get_instance` should not accept any other arguments\n",
      "  warnings.warn(\n"
     ]
    }
   ],
   "source": [
    "import os\n",
    "os.environ[\"CUDA_VISIBLE_DEVICES\"] = '0'\n",
    "os.chdir('/data/ly/code/LinVQATools')\n",
    "\n",
    "import torch\n",
    "from torch.utils.data import DataLoader\n",
    "from tqdm import tqdm\n",
    "from models.video_mae_vqa import VideoMAEVQAWrapper\n",
    "from data.default_dataset import SingleBranchDataset"
   ]
  },
  {
   "cell_type": "markdown",
   "source": [
    "加载模型和权重"
   ],
   "metadata": {
    "collapsed": false
   }
  },
  {
   "cell_type": "code",
   "execution_count": 2,
   "outputs": [
    {
     "name": "stdout",
     "output_type": "stream",
     "text": [
      "_IncompatibleKeys(missing_keys=['model.mean', 'model.std', 'model.mask_token', 'model.pos_embed', 'model.backbone.norm.weight', 'model.backbone.norm.bias', 'model.vqa_head.norm.weight', 'model.vqa_head.norm.bias', 'model.vqa_head.fc_hid.1.weight', 'model.vqa_head.fc_hid.1.bias', 'model.vqa_head.fc_last.0.weight', 'model.vqa_head.fc_last.0.bias', 'model.encoder_to_decoder.weight'], unexpected_keys=['model.backbone.fc_norm.weight', 'model.backbone.fc_norm.bias', 'model.backbone.head.weight', 'model.backbone.head.bias'])\n",
      "<All keys matched successfully>\n"
     ]
    }
   ],
   "source": [
    "\n",
    "model = VideoMAEVQAWrapper(\n",
    "    model_type='s',\n",
    "    mask_ratio=0.75,\n",
    "    head_dropout=0.1,\n",
    "    drop_path_rate=0.1\n",
    ")\n",
    "weight_path = '/data/ly/code/LinVQATools/work_dir/video_mae_vqa/01171449 vit random_cell_mask_75 mae last 4clip/best_SROCC_epoch_555.pth'\n",
    "weight = torch.load(weight_path,map_location=\"cpu\")\n",
    "info = model.load_state_dict(weight['state_dict'])\n",
    "print(info)"
   ],
   "metadata": {
    "collapsed": false,
    "ExecuteTime": {
     "end_time": "2024-01-22T01:34:37.673348400Z",
     "start_time": "2024-01-22T01:34:34.295244500Z"
    }
   }
  },
  {
   "cell_type": "markdown",
   "source": [
    "加载验证集"
   ],
   "metadata": {
    "collapsed": false
   }
  },
  {
   "cell_type": "code",
   "execution_count": 3,
   "outputs": [],
   "source": [
    "num_workers = 6\n",
    "prefix = '4frame'\n",
    "argument = [\n",
    "        dict(\n",
    "            name='FragmentShuffler',\n",
    "            fragment_size=32,\n",
    "            frame_cube=4\n",
    "        ),\n",
    "        dict(\n",
    "            name='PostProcessSampler',\n",
    "            frame_cube=4,\n",
    "            num=4\n",
    "        )\n",
    "]\n",
    "val_video_loader = dict(\n",
    "    name='FragmentLoader',\n",
    "    prefix=prefix,\n",
    "    frame_sampler=None,\n",
    "    spatial_sampler=None,\n",
    "    argument=argument,\n",
    "    phase='test',\n",
    "    use_preprocess=True,\n",
    ")\n",
    "dataset=SingleBranchDataset(\n",
    "    video_loader=val_video_loader,\n",
    "    anno_root='./data/odv_vqa',\n",
    "    anno_reader='ODVVQAReader',\n",
    "    split_file='./data/odv_vqa/tr_te_VQA_ODV.txt',\n",
    "    phase='test',\n",
    "    norm=True,\n",
    "    clip=4\n",
    ")\n",
    "val_dataloader = DataLoader(batch_size=1,\n",
    "                            shuffle=False,\n",
    "                            dataset=dataset)"
   ],
   "metadata": {
    "collapsed": false,
    "ExecuteTime": {
     "end_time": "2024-01-22T01:34:37.904933900Z",
     "start_time": "2024-01-22T01:34:37.897924300Z"
    }
   }
  },
  {
   "cell_type": "code",
   "execution_count": 12,
   "outputs": [
    {
     "name": "stderr",
     "output_type": "stream",
     "text": [
      "100%|██████████| 108/108 [00:44<00:00,  2.44it/s]\n"
     ]
    }
   ],
   "source": [
    "gt = []\n",
    "pr = []\n",
    "model = model.cuda().eval()\n",
    "with torch.no_grad():\n",
    "    for item in tqdm(val_dataloader):\n",
    "        gt.append(item['gt_label'])\n",
    "        y = model(inputs=item[\"inputs\"].cuda(), gt_label=item['gt_label'].cuda(),mode='predict')\n",
    "        pr.append(y[0])\n",
    "    # print(i)"
   ],
   "metadata": {
    "collapsed": false,
    "ExecuteTime": {
     "end_time": "2024-01-22T01:48:46.091500200Z",
     "start_time": "2024-01-22T01:48:01.812223600Z"
    }
   }
  },
  {
   "cell_type": "code",
   "execution_count": 13,
   "outputs": [
    {
     "name": "stdout",
     "output_type": "stream",
     "text": [
      "0.8921851629559766\n",
      "[0.8666666666666667, 0.9833333333333333, 0.7999999999999999, 0.7999999999999999, 0.8666666666666667, 0.9166666666666666, 0.8833333333333333, 0.8499999999999999, 0.8833333333333333, 0.9166666666666666, 0.9, 0.9500000000000001]\n"
     ]
    }
   ],
   "source": [
    "from scipy.stats import spearmanr\n",
    "import copy\n",
    "\n",
    "all_gt = copy.deepcopy(gt)\n",
    "all_pr = copy.deepcopy(pr)\n",
    "all_gt = torch.tensor(all_gt)\n",
    "all_pr = torch.tensor(all_pr)\n",
    "all_srocc = spearmanr(all_gt, all_pr)[0]\n",
    "print(all_srocc)\n",
    "srocc_list = []\n",
    "for i in range(12):\n",
    "    part_pr = all_pr[i*9:(i+1)*9]\n",
    "    part_gt = all_gt[i*9:(i+1)*9]\n",
    "    srocc = spearmanr(part_gt, part_pr)[0]\n",
    "    srocc_list.append(srocc)\n",
    "print(srocc_list)\n",
    "\n",
    "# 3 0.83, 4 0.9, 12 0.83, 17 0.84, 19 0.61, 21 0.9, 23 0.73, 28 0.78, 30 0.93, 39 0.93, 40 0.91, 58 0.93"
   ],
   "metadata": {
    "collapsed": false,
    "ExecuteTime": {
     "end_time": "2024-01-22T01:48:46.118849900Z",
     "start_time": "2024-01-22T01:48:46.118849900Z"
    }
   }
  },
  {
   "cell_type": "code",
   "execution_count": 6,
   "outputs": [
    {
     "name": "stderr",
     "output_type": "stream",
     "text": [
      " 13%|█▎        | 56/432 [01:00<06:49,  1.09s/it]\n"
     ]
    },
    {
     "ename": "KeyboardInterrupt",
     "evalue": "",
     "output_type": "error",
     "traceback": [
      "\u001B[0;31m---------------------------------------------------------------------------\u001B[0m",
      "\u001B[0;31mKeyboardInterrupt\u001B[0m                         Traceback (most recent call last)",
      "Cell \u001B[0;32mIn[6], line 40\u001B[0m\n\u001B[1;32m     38\u001B[0m model \u001B[38;5;241m=\u001B[39m model\u001B[38;5;241m.\u001B[39mcuda()\u001B[38;5;241m.\u001B[39meval()\n\u001B[1;32m     39\u001B[0m \u001B[38;5;28;01mwith\u001B[39;00m torch\u001B[38;5;241m.\u001B[39mno_grad():\n\u001B[0;32m---> 40\u001B[0m     \u001B[38;5;28;01mfor\u001B[39;00m item \u001B[38;5;129;01min\u001B[39;00m tqdm(train_dataloader):\n\u001B[1;32m     41\u001B[0m         gt\u001B[38;5;241m.\u001B[39mappend(item[\u001B[38;5;124m'\u001B[39m\u001B[38;5;124mgt_label\u001B[39m\u001B[38;5;124m'\u001B[39m])\n\u001B[1;32m     42\u001B[0m         y \u001B[38;5;241m=\u001B[39m model(inputs\u001B[38;5;241m=\u001B[39mitem[\u001B[38;5;124m\"\u001B[39m\u001B[38;5;124minputs\u001B[39m\u001B[38;5;124m\"\u001B[39m]\u001B[38;5;241m.\u001B[39mcuda(), gt_label\u001B[38;5;241m=\u001B[39mitem[\u001B[38;5;124m'\u001B[39m\u001B[38;5;124mgt_label\u001B[39m\u001B[38;5;124m'\u001B[39m]\u001B[38;5;241m.\u001B[39mcuda(),mode\u001B[38;5;241m=\u001B[39m\u001B[38;5;124m'\u001B[39m\u001B[38;5;124mpredict\u001B[39m\u001B[38;5;124m'\u001B[39m)\n",
      "File \u001B[0;32m/data/ly/conda/envs/torch1.12.1/lib/python3.8/site-packages/tqdm/std.py:1178\u001B[0m, in \u001B[0;36mtqdm.__iter__\u001B[0;34m(self)\u001B[0m\n\u001B[1;32m   1175\u001B[0m time \u001B[38;5;241m=\u001B[39m \u001B[38;5;28mself\u001B[39m\u001B[38;5;241m.\u001B[39m_time\n\u001B[1;32m   1177\u001B[0m \u001B[38;5;28;01mtry\u001B[39;00m:\n\u001B[0;32m-> 1178\u001B[0m     \u001B[38;5;28;01mfor\u001B[39;00m obj \u001B[38;5;129;01min\u001B[39;00m iterable:\n\u001B[1;32m   1179\u001B[0m         \u001B[38;5;28;01myield\u001B[39;00m obj\n\u001B[1;32m   1180\u001B[0m         \u001B[38;5;66;03m# Update and possibly print the progressbar.\u001B[39;00m\n\u001B[1;32m   1181\u001B[0m         \u001B[38;5;66;03m# Note: does not call self.update(1) for speed optimisation.\u001B[39;00m\n",
      "File \u001B[0;32m/data/ly/conda/envs/torch1.12.1/lib/python3.8/site-packages/torch/utils/data/dataloader.py:681\u001B[0m, in \u001B[0;36m_BaseDataLoaderIter.__next__\u001B[0;34m(self)\u001B[0m\n\u001B[1;32m    678\u001B[0m \u001B[38;5;28;01mif\u001B[39;00m \u001B[38;5;28mself\u001B[39m\u001B[38;5;241m.\u001B[39m_sampler_iter \u001B[38;5;129;01mis\u001B[39;00m \u001B[38;5;28;01mNone\u001B[39;00m:\n\u001B[1;32m    679\u001B[0m     \u001B[38;5;66;03m# TODO(https://github.com/pytorch/pytorch/issues/76750)\u001B[39;00m\n\u001B[1;32m    680\u001B[0m     \u001B[38;5;28mself\u001B[39m\u001B[38;5;241m.\u001B[39m_reset()  \u001B[38;5;66;03m# type: ignore[call-arg]\u001B[39;00m\n\u001B[0;32m--> 681\u001B[0m data \u001B[38;5;241m=\u001B[39m \u001B[38;5;28;43mself\u001B[39;49m\u001B[38;5;241;43m.\u001B[39;49m\u001B[43m_next_data\u001B[49m\u001B[43m(\u001B[49m\u001B[43m)\u001B[49m\n\u001B[1;32m    682\u001B[0m \u001B[38;5;28mself\u001B[39m\u001B[38;5;241m.\u001B[39m_num_yielded \u001B[38;5;241m+\u001B[39m\u001B[38;5;241m=\u001B[39m \u001B[38;5;241m1\u001B[39m\n\u001B[1;32m    683\u001B[0m \u001B[38;5;28;01mif\u001B[39;00m \u001B[38;5;28mself\u001B[39m\u001B[38;5;241m.\u001B[39m_dataset_kind \u001B[38;5;241m==\u001B[39m _DatasetKind\u001B[38;5;241m.\u001B[39mIterable \u001B[38;5;129;01mand\u001B[39;00m \\\n\u001B[1;32m    684\u001B[0m         \u001B[38;5;28mself\u001B[39m\u001B[38;5;241m.\u001B[39m_IterableDataset_len_called \u001B[38;5;129;01mis\u001B[39;00m \u001B[38;5;129;01mnot\u001B[39;00m \u001B[38;5;28;01mNone\u001B[39;00m \u001B[38;5;129;01mand\u001B[39;00m \\\n\u001B[1;32m    685\u001B[0m         \u001B[38;5;28mself\u001B[39m\u001B[38;5;241m.\u001B[39m_num_yielded \u001B[38;5;241m>\u001B[39m \u001B[38;5;28mself\u001B[39m\u001B[38;5;241m.\u001B[39m_IterableDataset_len_called:\n",
      "File \u001B[0;32m/data/ly/conda/envs/torch1.12.1/lib/python3.8/site-packages/torch/utils/data/dataloader.py:721\u001B[0m, in \u001B[0;36m_SingleProcessDataLoaderIter._next_data\u001B[0;34m(self)\u001B[0m\n\u001B[1;32m    719\u001B[0m \u001B[38;5;28;01mdef\u001B[39;00m \u001B[38;5;21m_next_data\u001B[39m(\u001B[38;5;28mself\u001B[39m):\n\u001B[1;32m    720\u001B[0m     index \u001B[38;5;241m=\u001B[39m \u001B[38;5;28mself\u001B[39m\u001B[38;5;241m.\u001B[39m_next_index()  \u001B[38;5;66;03m# may raise StopIteration\u001B[39;00m\n\u001B[0;32m--> 721\u001B[0m     data \u001B[38;5;241m=\u001B[39m \u001B[38;5;28;43mself\u001B[39;49m\u001B[38;5;241;43m.\u001B[39;49m\u001B[43m_dataset_fetcher\u001B[49m\u001B[38;5;241;43m.\u001B[39;49m\u001B[43mfetch\u001B[49m\u001B[43m(\u001B[49m\u001B[43mindex\u001B[49m\u001B[43m)\u001B[49m  \u001B[38;5;66;03m# may raise StopIteration\u001B[39;00m\n\u001B[1;32m    722\u001B[0m     \u001B[38;5;28;01mif\u001B[39;00m \u001B[38;5;28mself\u001B[39m\u001B[38;5;241m.\u001B[39m_pin_memory:\n\u001B[1;32m    723\u001B[0m         data \u001B[38;5;241m=\u001B[39m _utils\u001B[38;5;241m.\u001B[39mpin_memory\u001B[38;5;241m.\u001B[39mpin_memory(data, \u001B[38;5;28mself\u001B[39m\u001B[38;5;241m.\u001B[39m_pin_memory_device)\n",
      "File \u001B[0;32m/data/ly/conda/envs/torch1.12.1/lib/python3.8/site-packages/torch/utils/data/_utils/fetch.py:49\u001B[0m, in \u001B[0;36m_MapDatasetFetcher.fetch\u001B[0;34m(self, possibly_batched_index)\u001B[0m\n\u001B[1;32m     47\u001B[0m \u001B[38;5;28;01mdef\u001B[39;00m \u001B[38;5;21mfetch\u001B[39m(\u001B[38;5;28mself\u001B[39m, possibly_batched_index):\n\u001B[1;32m     48\u001B[0m     \u001B[38;5;28;01mif\u001B[39;00m \u001B[38;5;28mself\u001B[39m\u001B[38;5;241m.\u001B[39mauto_collation:\n\u001B[0;32m---> 49\u001B[0m         data \u001B[38;5;241m=\u001B[39m [\u001B[38;5;28mself\u001B[39m\u001B[38;5;241m.\u001B[39mdataset[idx] \u001B[38;5;28;01mfor\u001B[39;00m idx \u001B[38;5;129;01min\u001B[39;00m possibly_batched_index]\n\u001B[1;32m     50\u001B[0m     \u001B[38;5;28;01melse\u001B[39;00m:\n\u001B[1;32m     51\u001B[0m         data \u001B[38;5;241m=\u001B[39m \u001B[38;5;28mself\u001B[39m\u001B[38;5;241m.\u001B[39mdataset[possibly_batched_index]\n",
      "File \u001B[0;32m/data/ly/conda/envs/torch1.12.1/lib/python3.8/site-packages/torch/utils/data/_utils/fetch.py:49\u001B[0m, in \u001B[0;36m<listcomp>\u001B[0;34m(.0)\u001B[0m\n\u001B[1;32m     47\u001B[0m \u001B[38;5;28;01mdef\u001B[39;00m \u001B[38;5;21mfetch\u001B[39m(\u001B[38;5;28mself\u001B[39m, possibly_batched_index):\n\u001B[1;32m     48\u001B[0m     \u001B[38;5;28;01mif\u001B[39;00m \u001B[38;5;28mself\u001B[39m\u001B[38;5;241m.\u001B[39mauto_collation:\n\u001B[0;32m---> 49\u001B[0m         data \u001B[38;5;241m=\u001B[39m [\u001B[38;5;28;43mself\u001B[39;49m\u001B[38;5;241;43m.\u001B[39;49m\u001B[43mdataset\u001B[49m\u001B[43m[\u001B[49m\u001B[43midx\u001B[49m\u001B[43m]\u001B[49m \u001B[38;5;28;01mfor\u001B[39;00m idx \u001B[38;5;129;01min\u001B[39;00m possibly_batched_index]\n\u001B[1;32m     50\u001B[0m     \u001B[38;5;28;01melse\u001B[39;00m:\n\u001B[1;32m     51\u001B[0m         data \u001B[38;5;241m=\u001B[39m \u001B[38;5;28mself\u001B[39m\u001B[38;5;241m.\u001B[39mdataset[possibly_batched_index]\n",
      "File \u001B[0;32m/data/ly/code/LinVQATools/data/default_dataset.py:69\u001B[0m, in \u001B[0;36mSingleBranchDataset.__getitem__\u001B[0;34m(self, index)\u001B[0m\n\u001B[1;32m     67\u001B[0m videos \u001B[38;5;241m=\u001B[39m []\n\u001B[1;32m     68\u001B[0m \u001B[38;5;28;01mfor\u001B[39;00m i \u001B[38;5;129;01min\u001B[39;00m \u001B[38;5;28mrange\u001B[39m(\u001B[38;5;28mself\u001B[39m\u001B[38;5;241m.\u001B[39mclip):\n\u001B[0;32m---> 69\u001B[0m     video \u001B[38;5;241m=\u001B[39m \u001B[38;5;28;43mself\u001B[39;49m\u001B[38;5;241;43m.\u001B[39;49m\u001B[43mvideo_loader\u001B[49m\u001B[43m(\u001B[49m\u001B[43mvideo_path\u001B[49m\u001B[38;5;241;43m=\u001B[39;49m\u001B[43mvideo_path\u001B[49m\u001B[43m,\u001B[49m\u001B[43m \u001B[49m\u001B[43mframe_num\u001B[49m\u001B[38;5;241;43m=\u001B[39;49m\u001B[43mframe_num\u001B[49m\u001B[43m)\u001B[49m\n\u001B[1;32m     70\u001B[0m     videos\u001B[38;5;241m.\u001B[39mappend(video)\n\u001B[1;32m     71\u001B[0m video \u001B[38;5;241m=\u001B[39m torch\u001B[38;5;241m.\u001B[39mstack(videos, dim\u001B[38;5;241m=\u001B[39m\u001B[38;5;241m0\u001B[39m)\n",
      "File \u001B[0;32m/data/ly/code/LinVQATools/data/loader/fragment_loader.py:55\u001B[0m, in \u001B[0;36mFragmentLoader.__call__\u001B[0;34m(self, video_path, *args, **kwargs)\u001B[0m\n\u001B[1;32m     53\u001B[0m \u001B[38;5;28;01mif\u001B[39;00m \u001B[38;5;28mself\u001B[39m\u001B[38;5;241m.\u001B[39muse_preprocess:\n\u001B[1;32m     54\u001B[0m     \u001B[38;5;28;01mif\u001B[39;00m \u001B[38;5;28mself\u001B[39m\u001B[38;5;241m.\u001B[39mphase \u001B[38;5;241m==\u001B[39m \u001B[38;5;124m'\u001B[39m\u001B[38;5;124mtrain\u001B[39m\u001B[38;5;124m'\u001B[39m:\n\u001B[0;32m---> 55\u001B[0m         video \u001B[38;5;241m=\u001B[39m \u001B[38;5;28;43mself\u001B[39;49m\u001B[38;5;241;43m.\u001B[39;49m\u001B[43mfile_reader\u001B[49m\u001B[38;5;241;43m.\u001B[39;49m\u001B[43mread\u001B[49m\u001B[43m(\u001B[49m\u001B[43mvideo_path\u001B[49m\u001B[43m)\u001B[49m\n\u001B[1;32m     56\u001B[0m     \u001B[38;5;28;01melse\u001B[39;00m:\n\u001B[1;32m     57\u001B[0m         video \u001B[38;5;241m=\u001B[39m \u001B[38;5;28mself\u001B[39m\u001B[38;5;241m.\u001B[39mfile_reader\u001B[38;5;241m.\u001B[39mread(video_path, is_train\u001B[38;5;241m=\u001B[39m\u001B[38;5;28;01mFalse\u001B[39;00m)\n",
      "File \u001B[0;32m/data/ly/code/LinVQATools/data/file_reader/img_reader.py:39\u001B[0m, in \u001B[0;36mImgReader.read\u001B[0;34m(self, video_path, is_train)\u001B[0m\n\u001B[1;32m     37\u001B[0m     logger\u001B[38;5;241m.\u001B[39merror(\u001B[38;5;124m\"\u001B[39m\u001B[38;5;132;01m{}\u001B[39;00m\u001B[38;5;124m加载失败\u001B[39m\u001B[38;5;124m\"\u001B[39m\u001B[38;5;241m.\u001B[39mformat(img_path))\n\u001B[1;32m     38\u001B[0m     \u001B[38;5;28;01mreturn\u001B[39;00m \u001B[38;5;28;01mNone\u001B[39;00m\n\u001B[0;32m---> 39\u001B[0m img \u001B[38;5;241m=\u001B[39m \u001B[43mcv2\u001B[49m\u001B[38;5;241;43m.\u001B[39;49m\u001B[43mimread\u001B[49m\u001B[43m(\u001B[49m\u001B[43mimg_path\u001B[49m\u001B[43m)\u001B[49m\n\u001B[1;32m     40\u001B[0m img \u001B[38;5;241m=\u001B[39m cv2\u001B[38;5;241m.\u001B[39mcvtColor(img, cv2\u001B[38;5;241m.\u001B[39mCOLOR_BGR2RGB)\n\u001B[1;32m     41\u001B[0m video\u001B[38;5;241m.\u001B[39mappend(torch\u001B[38;5;241m.\u001B[39mtensor(img))\n",
      "\u001B[0;31mKeyboardInterrupt\u001B[0m: "
     ]
    }
   ],
   "source": [
    "num_workers = 6\n",
    "prefix = '4frame'\n",
    "argument = [\n",
    "        dict(\n",
    "            name='FragmentShuffler',\n",
    "            fragment_size=32,\n",
    "            frame_cube=4\n",
    "        ),\n",
    "        dict(\n",
    "            name='PostProcessSampler',\n",
    "            frame_cube=4,\n",
    "            num=4\n",
    "        )\n",
    "]\n",
    "train_video_loader = dict(\n",
    "    name='FragmentLoader',\n",
    "    prefix=prefix,\n",
    "    frame_sampler=None,\n",
    "    spatial_sampler=None,\n",
    "    argument=argument,\n",
    "    phase='train',\n",
    "    use_preprocess=True,\n",
    ")\n",
    "dataset=SingleBranchDataset(\n",
    "    video_loader=train_video_loader,\n",
    "    anno_root='./data/odv_vqa',\n",
    "    anno_reader='ODVVQAReader',\n",
    "    split_file='./data/odv_vqa/tr_te_VQA_ODV.txt',\n",
    "    phase='train',\n",
    "    norm=True,\n",
    "    clip=4\n",
    ")\n",
    "train_dataloader = DataLoader(batch_size=1,\n",
    "                            shuffle=False,\n",
    "                            dataset=dataset)\n",
    "gt = []\n",
    "pr = []\n",
    "model = model.cuda().eval()\n",
    "with torch.no_grad():\n",
    "    for item in tqdm(train_dataloader):\n",
    "        gt.append(item['gt_label'])\n",
    "        y = model(inputs=item[\"inputs\"].cuda(), gt_label=item['gt_label'].cuda(),mode='predict')\n",
    "        pr.append(y[0])"
   ],
   "metadata": {
    "collapsed": false,
    "ExecuteTime": {
     "end_time": "2024-01-22T01:25:30.320640400Z",
     "start_time": "2024-01-22T01:24:28.753411500Z"
    }
   }
  },
  {
   "cell_type": "code",
   "execution_count": null,
   "outputs": [],
   "source": [
    "from scipy.stats import spearmanr\n",
    "import copy\n",
    "\n",
    "all_gt = copy.deepcopy(gt)\n",
    "all_pr = copy.deepcopy(pr)\n",
    "all_gt = torch.tensor(all_gt)\n",
    "all_pr = torch.tensor(all_pr)\n",
    "all_srocc = spearmanr(all_gt, all_pr)[0]\n",
    "print(all_srocc)\n",
    "srocc_list = []\n",
    "for i in range(48):\n",
    "    part_pr = all_pr[i*9:(i+1)*9]\n",
    "    part_gt = all_gt[i*9:(i+1)*9]\n",
    "    srocc = spearmanr(part_gt, part_pr)[0]\n",
    "    srocc_list.append(srocc)\n",
    "print(srocc_list)"
   ],
   "metadata": {
    "collapsed": false,
    "ExecuteTime": {
     "start_time": "2024-01-22T01:25:30.414961900Z"
    }
   }
  }
 ],
 "metadata": {
  "kernelspec": {
   "display_name": "Python 3",
   "language": "python",
   "name": "python3"
  },
  "language_info": {
   "codemirror_mode": {
    "name": "ipython",
    "version": 2
   },
   "file_extension": ".py",
   "mimetype": "text/x-python",
   "name": "python",
   "nbconvert_exporter": "python",
   "pygments_lexer": "ipython2",
   "version": "2.7.6"
  }
 },
 "nbformat": 4,
 "nbformat_minor": 0
}
