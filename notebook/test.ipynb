{
 "cells": [
  {
   "cell_type": "code",
   "execution_count": 1,
   "metadata": {
    "collapsed": true,
    "ExecuteTime": {
     "start_time": "2023-05-16T15:27:26.788617Z",
     "end_time": "2023-05-16T15:27:29.624304Z"
    }
   },
   "outputs": [],
   "source": [
    "# 修改程序运行目录\n",
    "import sys\n",
    "\n",
    "import cv2\n",
    "\n",
    "sys.path.append(\"../\")\n",
    "import torch\n",
    "import matplotlib.pyplot as plt"
   ]
  },
  {
   "cell_type": "code",
   "execution_count": null,
   "outputs": [
    {
     "name": "stdout",
     "output_type": "stream",
     "text": [
      "{'name': 'FasterVQA', 'num_epochs': 30, 'l_num_epochs': 0, 'warmup_epochs': 2.5, 'ema': True, 'save_model': True, 'batch_size': 1, 'num_workers': 6, 'wandb': {'project_name': 'VQA_New_Exp'}, 'data': {'train': {'type': 'FusionDataset', 'args': {'phase': 'train', 'anno_file': '/tmp/pycharm_project_456/data/odv_vqa/VQA_ODV.txt', 'tr_ts_file': '/tmp/pycharm_project_456/data/odv_vqa/tr_te_VQA_ODV.txt', 'data_prefix': '../datasets/LSVQ', 'sample_types': {'fragments': {'fragments_h': 7, 'fragments_w': 7, 'fsize_h': 32, 'fsize_w': 32, 'aligned': 8, 'clip_len': 32, 'frame_interval': 2, 't_frag': 8, 'num_clips': 1}}}}, 'val-vqa': {'type': 'FusionDataset', 'args': {'phase': 'test', 'anno_file': '/tmp/pycharm_project_456/data/odv_vqa/VQA_ODV.txt', 'tr_ts_file': '/tmp/pycharm_project_456/data/odv_vqa/tr_te_VQA_ODV.txt', 'data_prefix': '../datasets/LSVQ', 'sample_types': {'fragments': {'fragments_h': 7, 'fragments_w': 7, 'fsize_h': 32, 'fsize_w': 32, 'aligned': 8, 'clip_len': 32, 'frame_interval': 2, 't_frag': 8, 'num_clips': 1}}}}}, 'model': {'type': 'DiViDeAddEvaluator', 'args': {'backbone': {'fragments': {'checkpoint': False, 'pretrained': None}}, 'backbone_size': 'swin_tiny_grpb', 'backbone_preserve_keys': 'fragments', 'divide_head': False, 'vqa_head': {'in_channels': 768, 'hidden_channels': 64}}}, 'optimizer': {'lr': 0.001, 'backbone_lr_mult': 0.1, 'wd': 0.05}, 'load_path': './pretrained_weights/FAST_VQA_3D_1_1.pth', 'test_load_path': './pretrained_weights/FAST_VQA_3D_1_1.pth'}\n",
      "fragments branch sampled frames: [  4   6   8  10  45  47  49  51  71  73  75  77 103 105 107 109 138 140\n",
      " 142 144 164 166 168 170 192 194 196 198 214 216 218 220]\n",
      "0\n",
      "1\n",
      "2\n",
      "3\n",
      "4\n",
      "5\n",
      "6\n",
      "7\n",
      "8\n",
      "9\n",
      "10\n",
      "11\n",
      "12\n",
      "13\n",
      "14\n",
      "15\n",
      "16\n"
     ]
    }
   ],
   "source": [
    "import yaml\n",
    "from data.vqa_odv import FusionDataset\n",
    "from data.sampler.fragment_sampler import SpatialFragmentSampler\n",
    "from utils.sphere import viewport_alignment\n",
    "\n",
    "\n",
    "with open('/tmp/pycharm_project_456/config/f3dvqa-b.yml', \"r\") as f:\n",
    "    opt = yaml.safe_load(f)\n",
    "print(opt)\n",
    "dataset = FusionDataset(opt[\"data\"]['train'][\"args\"])\n",
    "for i in range(len(dataset)):\n",
    "    print(i)\n",
    "    data = dataset.__getitem__(i)\n",
    "# img = dataset.__getitem__(0)['fragments']\n",
    "# print(img.shape)"
   ],
   "metadata": {
    "collapsed": false,
    "ExecuteTime": {
     "start_time": "2023-05-16T15:01:05.647259Z",
     "end_time": "2023-05-16T15:02:13.932746Z"
    },
    "pycharm": {
     "is_executing": true
    }
   }
  },
  {
   "cell_type": "code",
   "execution_count": null,
   "outputs": [],
   "source": [
    "# img = img['fragments']\n",
    "img = img[:,0,:,:].permute(1,2,0).numpy()\n",
    "img=cv2.cvtColor(img,cv2.COLOR_RGB2BGR)\n",
    "print(img.shape)\n",
    "print(img)\n",
    "plt.imshow(img/255)"
   ],
   "metadata": {
    "collapsed": false,
    "ExecuteTime": {
     "start_time": "2023-05-16T15:02:13.929173Z",
     "end_time": "2023-05-16T15:02:15.015952Z"
    },
    "pycharm": {
     "is_executing": true
    }
   }
  }
 ],
 "metadata": {
  "kernelspec": {
   "display_name": "Python 3",
   "language": "python",
   "name": "python3"
  },
  "language_info": {
   "codemirror_mode": {
    "name": "ipython",
    "version": 2
   },
   "file_extension": ".py",
   "mimetype": "text/x-python",
   "name": "python",
   "nbconvert_exporter": "python",
   "pygments_lexer": "ipython2",
   "version": "2.7.6"
  }
 },
 "nbformat": 4,
 "nbformat_minor": 0
}
